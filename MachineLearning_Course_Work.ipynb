{
 "cells": [
  {
   "cell_type": "markdown",
   "metadata": {
    "id": "59NXPKvihjMv"
   },
   "source": [
    "   ## Stroke Prediction"
   ]
  },
  {
   "cell_type": "markdown",
   "metadata": {
    "id": "2GktuwLehjMx"
   },
   "source": [
    "**About Dataset:** This dataset is used to predict whether a patient is likely to get stroke based on the input parameters like gender, age, various diseases, and smoking status. Each row in the data provides relavant information about the patient."
   ]
  },
  {
   "cell_type": "markdown",
   "metadata": {
    "id": "kq_OGJVSF5BT"
   },
   "source": [
    "**Key Features:**\n",
    "\n",
    "**age:** This is the age of the patient. Age is a crucial factor in stroke prediction as the risk of stroke increases with age.\n",
    "\n",
    "**hypertension:** This is a binary feature indicating whether the patient has hypertension (high blood pressure) or not\n",
    "\n",
    "**heart_disease:** This binary feature indicates whether the patient has heart disease or not. Patients with heart diseases are at a higher risk of stroke as these conditions can lead to the formation of clots in the heart that can travel to the brain.\n",
    "\n",
    "**ever_married:** This feature represents whether the patient is married or not. Although not a direct risk factor for stroke, marital status can be associated with lifestyle factors that influence stroke risk.\n",
    "\n",
    "**work_type:**This categorical feature describes the type of occupation of the patient. Certain occupations might be associated with higher stress levels or sedentary behavior, which can influence stroke risk.\n",
    "\n",
    "**Residence_type:** This feature indicates whether the patient lives in a rural or urban area. The place of residence might be associated with stroke risk due to factors like access to healthcare, air quality, lifestyle habits, etc.\n",
    "\n",
    "**avg_glucose_level:** This feature represents the average glucose level in the patient's blood. High blood glucose levels can damage blood vessels, leading to an increased risk of stroke.\n",
    "\n",
    "**bmi:**This is the Body Mass Index of the patient, calculated as weight in kilograms divided by the square of height in meters. A high BMI indicates obesity, which is a significant risk factor for stroke as it can lead to or exacerbate conditions like hypertension, high blood glucose, and heart disease.\n",
    "\n",
    "**smoking_status:** This categorical feature indicates whether the patient is a smoker, former smoker, or never smoked. Smoking can increase stroke risk as it can damage blood vessels, increase blood pressure, and reduce the amount of oxygen reaching the brain.\n",
    "\n",
    "**gender:**This feature represents the gender of the patient. Gender can influence stroke risk due to biological differences and gender-specific lifestyle patterns."
   ]
  },
  {
   "cell_type": "markdown",
   "metadata": {
    "id": "wdvwoVhnhjMy"
   },
   "source": [
    "#### Import Necessary Packages"
   ]
  },
  {
   "cell_type": "code",
   "execution_count": 33,
   "metadata": {
    "id": "FQG9gPc6hjMy"
   },
   "outputs": [],
   "source": [
    "import warnings\n",
    "warnings.filterwarnings('ignore')\n",
    "\n",
    "# basic libraries\n",
    "import os\n",
    "import pandas as pd\n",
    "import numpy as np\n",
    "\n",
    "#visulaization modules\n",
    "import matplotlib.pyplot as plt\n",
    "import seaborn as sns\n",
    "\n",
    "#Common model helpers\n",
    "from sklearn.preprocessing import (StandardScaler,LabelEncoder,OneHotEncoder)\n",
    "from sklearn.model_selection import train_test_split\n",
    "from sklearn.metrics import (accuracy_score,\n",
    "                             auc,\n",
    "                             classification_report,\n",
    "                             precision_score,\n",
    "                             recall_score,\n",
    "                             f1_score,\n",
    "                             roc_auc_score,\n",
    "                             roc_curve,\n",
    "                             confusion_matrix)\n",
    "from sklearn.model_selection import (GridSearchCV,cross_val_score)\n",
    "\n",
    "from imblearn.combine import SMOTETomek\n",
    "# model algorithams\n",
    "from sklearn.ensemble import (RandomForestClassifier,GradientBoostingClassifier)\n",
    "from sklearn.linear_model import LogisticRegression\n",
    "from sklearn.neighbors import KNeighborsClassifier\n",
    "from sklearn.tree import DecisionTreeClassifier\n",
    "from sklearn.svm import SVC\n",
    "from xgboost import XGBClassifier\n",
    "from sklearn.naive_bayes import GaussianNB"
   ]
  },
  {
   "cell_type": "markdown",
   "metadata": {
    "id": "QPgWOnA0hjMz"
   },
   "source": [
    "### Step 1 : Read the Data"
   ]
  },
  {
   "cell_type": "code",
   "execution_count": 34,
   "metadata": {
    "colab": {
     "base_uri": "https://localhost:8080/"
    },
    "id": "FFPYWiRJlGac",
    "outputId": "fae78532-00bf-4f04-a21e-4d8210a172d9"
   },
   "outputs": [
    {
     "name": "stdout",
     "output_type": "stream",
     "text": [
      "Drive already mounted at /content/drive; to attempt to forcibly remount, call drive.mount(\"/content/drive\", force_remount=True).\n"
     ]
    }
   ],
   "source": [
    "from google.colab import drive\n",
    "drive.mount('/content/drive')"
   ]
  },
  {
   "cell_type": "code",
   "execution_count": 4,
   "metadata": {
    "colab": {
     "base_uri": "https://localhost:8080/",
     "height": 206
    },
    "id": "vaoo66H7hjM0",
    "outputId": "2e5a938f-afb2-44da-9fa5-dfe8391e5790"
   },
   "outputs": [
    {
     "data": {
      "text/html": [
       "\n",
       "  <div id=\"df-731334c2-7db3-47c1-a913-84b8200d9a8d\" class=\"colab-df-container\">\n",
       "    <div>\n",
       "<style scoped>\n",
       "    .dataframe tbody tr th:only-of-type {\n",
       "        vertical-align: middle;\n",
       "    }\n",
       "\n",
       "    .dataframe tbody tr th {\n",
       "        vertical-align: top;\n",
       "    }\n",
       "\n",
       "    .dataframe thead th {\n",
       "        text-align: right;\n",
       "    }\n",
       "</style>\n",
       "<table border=\"1\" class=\"dataframe\">\n",
       "  <thead>\n",
       "    <tr style=\"text-align: right;\">\n",
       "      <th></th>\n",
       "      <th>id</th>\n",
       "      <th>gender</th>\n",
       "      <th>age</th>\n",
       "      <th>hypertension</th>\n",
       "      <th>heart_disease</th>\n",
       "      <th>ever_married</th>\n",
       "      <th>work_type</th>\n",
       "      <th>Residence_type</th>\n",
       "      <th>avg_glucose_level</th>\n",
       "      <th>bmi</th>\n",
       "      <th>smoking_status</th>\n",
       "      <th>stroke</th>\n",
       "    </tr>\n",
       "  </thead>\n",
       "  <tbody>\n",
       "    <tr>\n",
       "      <th>0</th>\n",
       "      <td>47356</td>\n",
       "      <td>Female</td>\n",
       "      <td>42.0</td>\n",
       "      <td>0</td>\n",
       "      <td>0</td>\n",
       "      <td>Yes</td>\n",
       "      <td>Private</td>\n",
       "      <td>Urban</td>\n",
       "      <td>87.40</td>\n",
       "      <td>24.5</td>\n",
       "      <td>formerly smoked</td>\n",
       "      <td>0</td>\n",
       "    </tr>\n",
       "    <tr>\n",
       "      <th>1</th>\n",
       "      <td>13236</td>\n",
       "      <td>Female</td>\n",
       "      <td>13.0</td>\n",
       "      <td>0</td>\n",
       "      <td>0</td>\n",
       "      <td>No</td>\n",
       "      <td>children</td>\n",
       "      <td>Rural</td>\n",
       "      <td>73.48</td>\n",
       "      <td>22.9</td>\n",
       "      <td>Unknown</td>\n",
       "      <td>0</td>\n",
       "    </tr>\n",
       "    <tr>\n",
       "      <th>2</th>\n",
       "      <td>3251</td>\n",
       "      <td>Male</td>\n",
       "      <td>54.0</td>\n",
       "      <td>0</td>\n",
       "      <td>0</td>\n",
       "      <td>Yes</td>\n",
       "      <td>Private</td>\n",
       "      <td>Urban</td>\n",
       "      <td>111.37</td>\n",
       "      <td>29.1</td>\n",
       "      <td>formerly smoked</td>\n",
       "      <td>0</td>\n",
       "    </tr>\n",
       "    <tr>\n",
       "      <th>3</th>\n",
       "      <td>35626</td>\n",
       "      <td>Male</td>\n",
       "      <td>81.0</td>\n",
       "      <td>0</td>\n",
       "      <td>0</td>\n",
       "      <td>Yes</td>\n",
       "      <td>Self-employed</td>\n",
       "      <td>Urban</td>\n",
       "      <td>99.33</td>\n",
       "      <td>33.7</td>\n",
       "      <td>never smoked</td>\n",
       "      <td>1</td>\n",
       "    </tr>\n",
       "    <tr>\n",
       "      <th>4</th>\n",
       "      <td>36706</td>\n",
       "      <td>Female</td>\n",
       "      <td>76.0</td>\n",
       "      <td>0</td>\n",
       "      <td>0</td>\n",
       "      <td>Yes</td>\n",
       "      <td>Self-employed</td>\n",
       "      <td>Urban</td>\n",
       "      <td>106.41</td>\n",
       "      <td>NaN</td>\n",
       "      <td>formerly smoked</td>\n",
       "      <td>1</td>\n",
       "    </tr>\n",
       "  </tbody>\n",
       "</table>\n",
       "</div>\n",
       "    <div class=\"colab-df-buttons\">\n",
       "\n",
       "  <div class=\"colab-df-container\">\n",
       "    <button class=\"colab-df-convert\" onclick=\"convertToInteractive('df-731334c2-7db3-47c1-a913-84b8200d9a8d')\"\n",
       "            title=\"Convert this dataframe to an interactive table.\"\n",
       "            style=\"display:none;\">\n",
       "\n",
       "  <svg xmlns=\"http://www.w3.org/2000/svg\" height=\"24px\" viewBox=\"0 -960 960 960\">\n",
       "    <path d=\"M120-120v-720h720v720H120Zm60-500h600v-160H180v160Zm220 220h160v-160H400v160Zm0 220h160v-160H400v160ZM180-400h160v-160H180v160Zm440 0h160v-160H620v160ZM180-180h160v-160H180v160Zm440 0h160v-160H620v160Z\"/>\n",
       "  </svg>\n",
       "    </button>\n",
       "\n",
       "  <style>\n",
       "    .colab-df-container {\n",
       "      display:flex;\n",
       "      gap: 12px;\n",
       "    }\n",
       "\n",
       "    .colab-df-convert {\n",
       "      background-color: #E8F0FE;\n",
       "      border: none;\n",
       "      border-radius: 50%;\n",
       "      cursor: pointer;\n",
       "      display: none;\n",
       "      fill: #1967D2;\n",
       "      height: 32px;\n",
       "      padding: 0 0 0 0;\n",
       "      width: 32px;\n",
       "    }\n",
       "\n",
       "    .colab-df-convert:hover {\n",
       "      background-color: #E2EBFA;\n",
       "      box-shadow: 0px 1px 2px rgba(60, 64, 67, 0.3), 0px 1px 3px 1px rgba(60, 64, 67, 0.15);\n",
       "      fill: #174EA6;\n",
       "    }\n",
       "\n",
       "    .colab-df-buttons div {\n",
       "      margin-bottom: 4px;\n",
       "    }\n",
       "\n",
       "    [theme=dark] .colab-df-convert {\n",
       "      background-color: #3B4455;\n",
       "      fill: #D2E3FC;\n",
       "    }\n",
       "\n",
       "    [theme=dark] .colab-df-convert:hover {\n",
       "      background-color: #434B5C;\n",
       "      box-shadow: 0px 1px 3px 1px rgba(0, 0, 0, 0.15);\n",
       "      filter: drop-shadow(0px 1px 2px rgba(0, 0, 0, 0.3));\n",
       "      fill: #FFFFFF;\n",
       "    }\n",
       "  </style>\n",
       "\n",
       "    <script>\n",
       "      const buttonEl =\n",
       "        document.querySelector('#df-731334c2-7db3-47c1-a913-84b8200d9a8d button.colab-df-convert');\n",
       "      buttonEl.style.display =\n",
       "        google.colab.kernel.accessAllowed ? 'block' : 'none';\n",
       "\n",
       "      async function convertToInteractive(key) {\n",
       "        const element = document.querySelector('#df-731334c2-7db3-47c1-a913-84b8200d9a8d');\n",
       "        const dataTable =\n",
       "          await google.colab.kernel.invokeFunction('convertToInteractive',\n",
       "                                                    [key], {});\n",
       "        if (!dataTable) return;\n",
       "\n",
       "        const docLinkHtml = 'Like what you see? Visit the ' +\n",
       "          '<a target=\"_blank\" href=https://colab.research.google.com/notebooks/data_table.ipynb>data table notebook</a>'\n",
       "          + ' to learn more about interactive tables.';\n",
       "        element.innerHTML = '';\n",
       "        dataTable['output_type'] = 'display_data';\n",
       "        await google.colab.output.renderOutput(dataTable, element);\n",
       "        const docLink = document.createElement('div');\n",
       "        docLink.innerHTML = docLinkHtml;\n",
       "        element.appendChild(docLink);\n",
       "      }\n",
       "    </script>\n",
       "  </div>\n",
       "\n",
       "\n",
       "<div id=\"df-089c6414-1fd2-4c78-890f-b15ea232e9b1\">\n",
       "  <button class=\"colab-df-quickchart\" onclick=\"quickchart('df-089c6414-1fd2-4c78-890f-b15ea232e9b1')\"\n",
       "            title=\"Suggest charts\"\n",
       "            style=\"display:none;\">\n",
       "\n",
       "<svg xmlns=\"http://www.w3.org/2000/svg\" height=\"24px\"viewBox=\"0 0 24 24\"\n",
       "     width=\"24px\">\n",
       "    <g>\n",
       "        <path d=\"M19 3H5c-1.1 0-2 .9-2 2v14c0 1.1.9 2 2 2h14c1.1 0 2-.9 2-2V5c0-1.1-.9-2-2-2zM9 17H7v-7h2v7zm4 0h-2V7h2v10zm4 0h-2v-4h2v4z\"/>\n",
       "    </g>\n",
       "</svg>\n",
       "  </button>\n",
       "\n",
       "<style>\n",
       "  .colab-df-quickchart {\n",
       "      --bg-color: #E8F0FE;\n",
       "      --fill-color: #1967D2;\n",
       "      --hover-bg-color: #E2EBFA;\n",
       "      --hover-fill-color: #174EA6;\n",
       "      --disabled-fill-color: #AAA;\n",
       "      --disabled-bg-color: #DDD;\n",
       "  }\n",
       "\n",
       "  [theme=dark] .colab-df-quickchart {\n",
       "      --bg-color: #3B4455;\n",
       "      --fill-color: #D2E3FC;\n",
       "      --hover-bg-color: #434B5C;\n",
       "      --hover-fill-color: #FFFFFF;\n",
       "      --disabled-bg-color: #3B4455;\n",
       "      --disabled-fill-color: #666;\n",
       "  }\n",
       "\n",
       "  .colab-df-quickchart {\n",
       "    background-color: var(--bg-color);\n",
       "    border: none;\n",
       "    border-radius: 50%;\n",
       "    cursor: pointer;\n",
       "    display: none;\n",
       "    fill: var(--fill-color);\n",
       "    height: 32px;\n",
       "    padding: 0;\n",
       "    width: 32px;\n",
       "  }\n",
       "\n",
       "  .colab-df-quickchart:hover {\n",
       "    background-color: var(--hover-bg-color);\n",
       "    box-shadow: 0 1px 2px rgba(60, 64, 67, 0.3), 0 1px 3px 1px rgba(60, 64, 67, 0.15);\n",
       "    fill: var(--button-hover-fill-color);\n",
       "  }\n",
       "\n",
       "  .colab-df-quickchart-complete:disabled,\n",
       "  .colab-df-quickchart-complete:disabled:hover {\n",
       "    background-color: var(--disabled-bg-color);\n",
       "    fill: var(--disabled-fill-color);\n",
       "    box-shadow: none;\n",
       "  }\n",
       "\n",
       "  .colab-df-spinner {\n",
       "    border: 2px solid var(--fill-color);\n",
       "    border-color: transparent;\n",
       "    border-bottom-color: var(--fill-color);\n",
       "    animation:\n",
       "      spin 1s steps(1) infinite;\n",
       "  }\n",
       "\n",
       "  @keyframes spin {\n",
       "    0% {\n",
       "      border-color: transparent;\n",
       "      border-bottom-color: var(--fill-color);\n",
       "      border-left-color: var(--fill-color);\n",
       "    }\n",
       "    20% {\n",
       "      border-color: transparent;\n",
       "      border-left-color: var(--fill-color);\n",
       "      border-top-color: var(--fill-color);\n",
       "    }\n",
       "    30% {\n",
       "      border-color: transparent;\n",
       "      border-left-color: var(--fill-color);\n",
       "      border-top-color: var(--fill-color);\n",
       "      border-right-color: var(--fill-color);\n",
       "    }\n",
       "    40% {\n",
       "      border-color: transparent;\n",
       "      border-right-color: var(--fill-color);\n",
       "      border-top-color: var(--fill-color);\n",
       "    }\n",
       "    60% {\n",
       "      border-color: transparent;\n",
       "      border-right-color: var(--fill-color);\n",
       "    }\n",
       "    80% {\n",
       "      border-color: transparent;\n",
       "      border-right-color: var(--fill-color);\n",
       "      border-bottom-color: var(--fill-color);\n",
       "    }\n",
       "    90% {\n",
       "      border-color: transparent;\n",
       "      border-bottom-color: var(--fill-color);\n",
       "    }\n",
       "  }\n",
       "</style>\n",
       "\n",
       "  <script>\n",
       "    async function quickchart(key) {\n",
       "      const quickchartButtonEl =\n",
       "        document.querySelector('#' + key + ' button');\n",
       "      quickchartButtonEl.disabled = true;  // To prevent multiple clicks.\n",
       "      quickchartButtonEl.classList.add('colab-df-spinner');\n",
       "      try {\n",
       "        const charts = await google.colab.kernel.invokeFunction(\n",
       "            'suggestCharts', [key], {});\n",
       "      } catch (error) {\n",
       "        console.error('Error during call to suggestCharts:', error);\n",
       "      }\n",
       "      quickchartButtonEl.classList.remove('colab-df-spinner');\n",
       "      quickchartButtonEl.classList.add('colab-df-quickchart-complete');\n",
       "    }\n",
       "    (() => {\n",
       "      let quickchartButtonEl =\n",
       "        document.querySelector('#df-089c6414-1fd2-4c78-890f-b15ea232e9b1 button');\n",
       "      quickchartButtonEl.style.display =\n",
       "        google.colab.kernel.accessAllowed ? 'block' : 'none';\n",
       "    })();\n",
       "  </script>\n",
       "</div>\n",
       "    </div>\n",
       "  </div>\n"
      ],
      "text/plain": [
       "      id  gender   age  hypertension  heart_disease ever_married  \\\n",
       "0  47356  Female  42.0             0              0          Yes   \n",
       "1  13236  Female  13.0             0              0           No   \n",
       "2   3251    Male  54.0             0              0          Yes   \n",
       "3  35626    Male  81.0             0              0          Yes   \n",
       "4  36706  Female  76.0             0              0          Yes   \n",
       "\n",
       "       work_type Residence_type  avg_glucose_level   bmi   smoking_status  \\\n",
       "0        Private          Urban              87.40  24.5  formerly smoked   \n",
       "1       children          Rural              73.48  22.9          Unknown   \n",
       "2        Private          Urban             111.37  29.1  formerly smoked   \n",
       "3  Self-employed          Urban              99.33  33.7     never smoked   \n",
       "4  Self-employed          Urban             106.41   NaN  formerly smoked   \n",
       "\n",
       "   stroke  \n",
       "0       0  \n",
       "1       0  \n",
       "2       0  \n",
       "3       1  \n",
       "4       1  "
      ]
     },
     "execution_count": 4,
     "metadata": {},
     "output_type": "execute_result"
    }
   ],
   "source": [
    "raw_df=pd.read_csv('/content/healthcare_stroke_data.csv')\n",
    "raw_df.head(5)"
   ]
  },
  {
   "cell_type": "code",
   "execution_count": 35,
   "metadata": {
    "colab": {
     "base_uri": "https://localhost:8080/"
    },
    "id": "IFbLH2JL5SLt",
    "outputId": "8ecaa02d-b192-4ac5-d8ca-98cf16093cc4"
   },
   "outputs": [
    {
     "name": "stdout",
     "output_type": "stream",
     "text": [
      "<class 'pandas.core.frame.DataFrame'>\n",
      "RangeIndex: 5509 entries, 0 to 5508\n",
      "Data columns (total 12 columns):\n",
      " #   Column             Non-Null Count  Dtype  \n",
      "---  ------             --------------  -----  \n",
      " 0   id                 5509 non-null   int64  \n",
      " 1   gender             5509 non-null   object \n",
      " 2   age                5509 non-null   float64\n",
      " 3   hypertension       5509 non-null   int64  \n",
      " 4   heart_disease      5509 non-null   int64  \n",
      " 5   ever_married       5509 non-null   object \n",
      " 6   work_type          5509 non-null   object \n",
      " 7   Residence_type     5509 non-null   object \n",
      " 8   avg_glucose_level  5509 non-null   float64\n",
      " 9   bmi                5251 non-null   float64\n",
      " 10  smoking_status     5509 non-null   object \n",
      " 11  stroke             5509 non-null   int64  \n",
      "dtypes: float64(3), int64(4), object(5)\n",
      "memory usage: 516.6+ KB\n"
     ]
    }
   ],
   "source": [
    "# check the df structure\n",
    "raw_df.info()"
   ]
  },
  {
   "cell_type": "code",
   "execution_count": 36,
   "metadata": {
    "id": "JLtK3L-I-vCD"
   },
   "outputs": [],
   "source": [
    "# No of rows are 5509\n",
    "# No of columns are 12"
   ]
  },
  {
   "cell_type": "code",
   "execution_count": 37,
   "metadata": {
    "colab": {
     "base_uri": "https://localhost:8080/"
    },
    "id": "gSTDuOZ2hjM0",
    "outputId": "f6dc292a-4c90-4ffd-f4b0-48cb48669117"
   },
   "outputs": [
    {
     "data": {
      "text/plain": [
       "Index(['id', 'gender', 'age', 'hypertension', 'heart_disease', 'ever_married',\n",
       "       'work_type', 'Residence_type', 'avg_glucose_level', 'bmi',\n",
       "       'smoking_status', 'stroke'],\n",
       "      dtype='object')"
      ]
     },
     "execution_count": 37,
     "metadata": {},
     "output_type": "execute_result"
    }
   ],
   "source": [
    "raw_df.columns"
   ]
  },
  {
   "cell_type": "code",
   "execution_count": 38,
   "metadata": {
    "colab": {
     "base_uri": "https://localhost:8080/",
     "height": 300
    },
    "id": "kLc4B005-DbG",
    "outputId": "b2b57de5-a6cf-484e-ed5d-9bae919d061b"
   },
   "outputs": [
    {
     "data": {
      "text/html": [
       "\n",
       "  <div id=\"df-32d1a7a9-3940-4140-be8c-01d1b69da97a\" class=\"colab-df-container\">\n",
       "    <div>\n",
       "<style scoped>\n",
       "    .dataframe tbody tr th:only-of-type {\n",
       "        vertical-align: middle;\n",
       "    }\n",
       "\n",
       "    .dataframe tbody tr th {\n",
       "        vertical-align: top;\n",
       "    }\n",
       "\n",
       "    .dataframe thead th {\n",
       "        text-align: right;\n",
       "    }\n",
       "</style>\n",
       "<table border=\"1\" class=\"dataframe\">\n",
       "  <thead>\n",
       "    <tr style=\"text-align: right;\">\n",
       "      <th></th>\n",
       "      <th>id</th>\n",
       "      <th>age</th>\n",
       "      <th>hypertension</th>\n",
       "      <th>heart_disease</th>\n",
       "      <th>avg_glucose_level</th>\n",
       "      <th>bmi</th>\n",
       "      <th>stroke</th>\n",
       "    </tr>\n",
       "  </thead>\n",
       "  <tbody>\n",
       "    <tr>\n",
       "      <th>count</th>\n",
       "      <td>5509.000000</td>\n",
       "      <td>5509.000000</td>\n",
       "      <td>5509.000000</td>\n",
       "      <td>5509.000000</td>\n",
       "      <td>5509.000000</td>\n",
       "      <td>5251.000000</td>\n",
       "      <td>5509.000000</td>\n",
       "    </tr>\n",
       "    <tr>\n",
       "      <th>mean</th>\n",
       "      <td>36681.994917</td>\n",
       "      <td>45.048161</td>\n",
       "      <td>0.108913</td>\n",
       "      <td>0.064258</td>\n",
       "      <td>107.340670</td>\n",
       "      <td>28.976938</td>\n",
       "      <td>0.117626</td>\n",
       "    </tr>\n",
       "    <tr>\n",
       "      <th>std</th>\n",
       "      <td>21288.488575</td>\n",
       "      <td>22.951026</td>\n",
       "      <td>0.311558</td>\n",
       "      <td>0.245235</td>\n",
       "      <td>46.550243</td>\n",
       "      <td>7.747358</td>\n",
       "      <td>0.322194</td>\n",
       "    </tr>\n",
       "    <tr>\n",
       "      <th>min</th>\n",
       "      <td>67.000000</td>\n",
       "      <td>0.080000</td>\n",
       "      <td>0.000000</td>\n",
       "      <td>0.000000</td>\n",
       "      <td>55.120000</td>\n",
       "      <td>10.300000</td>\n",
       "      <td>0.000000</td>\n",
       "    </tr>\n",
       "    <tr>\n",
       "      <th>25%</th>\n",
       "      <td>17740.000000</td>\n",
       "      <td>27.000000</td>\n",
       "      <td>0.000000</td>\n",
       "      <td>0.000000</td>\n",
       "      <td>77.160000</td>\n",
       "      <td>23.800000</td>\n",
       "      <td>0.000000</td>\n",
       "    </tr>\n",
       "    <tr>\n",
       "      <th>50%</th>\n",
       "      <td>37086.000000</td>\n",
       "      <td>47.000000</td>\n",
       "      <td>0.000000</td>\n",
       "      <td>0.000000</td>\n",
       "      <td>92.170000</td>\n",
       "      <td>28.200000</td>\n",
       "      <td>0.000000</td>\n",
       "    </tr>\n",
       "    <tr>\n",
       "      <th>75%</th>\n",
       "      <td>54921.000000</td>\n",
       "      <td>63.000000</td>\n",
       "      <td>0.000000</td>\n",
       "      <td>0.000000</td>\n",
       "      <td>115.470000</td>\n",
       "      <td>33.100000</td>\n",
       "      <td>0.000000</td>\n",
       "    </tr>\n",
       "    <tr>\n",
       "      <th>max</th>\n",
       "      <td>72940.000000</td>\n",
       "      <td>82.000000</td>\n",
       "      <td>1.000000</td>\n",
       "      <td>1.000000</td>\n",
       "      <td>271.740000</td>\n",
       "      <td>97.600000</td>\n",
       "      <td>1.000000</td>\n",
       "    </tr>\n",
       "  </tbody>\n",
       "</table>\n",
       "</div>\n",
       "    <div class=\"colab-df-buttons\">\n",
       "\n",
       "  <div class=\"colab-df-container\">\n",
       "    <button class=\"colab-df-convert\" onclick=\"convertToInteractive('df-32d1a7a9-3940-4140-be8c-01d1b69da97a')\"\n",
       "            title=\"Convert this dataframe to an interactive table.\"\n",
       "            style=\"display:none;\">\n",
       "\n",
       "  <svg xmlns=\"http://www.w3.org/2000/svg\" height=\"24px\" viewBox=\"0 -960 960 960\">\n",
       "    <path d=\"M120-120v-720h720v720H120Zm60-500h600v-160H180v160Zm220 220h160v-160H400v160Zm0 220h160v-160H400v160ZM180-400h160v-160H180v160Zm440 0h160v-160H620v160ZM180-180h160v-160H180v160Zm440 0h160v-160H620v160Z\"/>\n",
       "  </svg>\n",
       "    </button>\n",
       "\n",
       "  <style>\n",
       "    .colab-df-container {\n",
       "      display:flex;\n",
       "      gap: 12px;\n",
       "    }\n",
       "\n",
       "    .colab-df-convert {\n",
       "      background-color: #E8F0FE;\n",
       "      border: none;\n",
       "      border-radius: 50%;\n",
       "      cursor: pointer;\n",
       "      display: none;\n",
       "      fill: #1967D2;\n",
       "      height: 32px;\n",
       "      padding: 0 0 0 0;\n",
       "      width: 32px;\n",
       "    }\n",
       "\n",
       "    .colab-df-convert:hover {\n",
       "      background-color: #E2EBFA;\n",
       "      box-shadow: 0px 1px 2px rgba(60, 64, 67, 0.3), 0px 1px 3px 1px rgba(60, 64, 67, 0.15);\n",
       "      fill: #174EA6;\n",
       "    }\n",
       "\n",
       "    .colab-df-buttons div {\n",
       "      margin-bottom: 4px;\n",
       "    }\n",
       "\n",
       "    [theme=dark] .colab-df-convert {\n",
       "      background-color: #3B4455;\n",
       "      fill: #D2E3FC;\n",
       "    }\n",
       "\n",
       "    [theme=dark] .colab-df-convert:hover {\n",
       "      background-color: #434B5C;\n",
       "      box-shadow: 0px 1px 3px 1px rgba(0, 0, 0, 0.15);\n",
       "      filter: drop-shadow(0px 1px 2px rgba(0, 0, 0, 0.3));\n",
       "      fill: #FFFFFF;\n",
       "    }\n",
       "  </style>\n",
       "\n",
       "    <script>\n",
       "      const buttonEl =\n",
       "        document.querySelector('#df-32d1a7a9-3940-4140-be8c-01d1b69da97a button.colab-df-convert');\n",
       "      buttonEl.style.display =\n",
       "        google.colab.kernel.accessAllowed ? 'block' : 'none';\n",
       "\n",
       "      async function convertToInteractive(key) {\n",
       "        const element = document.querySelector('#df-32d1a7a9-3940-4140-be8c-01d1b69da97a');\n",
       "        const dataTable =\n",
       "          await google.colab.kernel.invokeFunction('convertToInteractive',\n",
       "                                                    [key], {});\n",
       "        if (!dataTable) return;\n",
       "\n",
       "        const docLinkHtml = 'Like what you see? Visit the ' +\n",
       "          '<a target=\"_blank\" href=https://colab.research.google.com/notebooks/data_table.ipynb>data table notebook</a>'\n",
       "          + ' to learn more about interactive tables.';\n",
       "        element.innerHTML = '';\n",
       "        dataTable['output_type'] = 'display_data';\n",
       "        await google.colab.output.renderOutput(dataTable, element);\n",
       "        const docLink = document.createElement('div');\n",
       "        docLink.innerHTML = docLinkHtml;\n",
       "        element.appendChild(docLink);\n",
       "      }\n",
       "    </script>\n",
       "  </div>\n",
       "\n",
       "\n",
       "<div id=\"df-92a4fe36-bca6-40a8-a643-71dce31a3f07\">\n",
       "  <button class=\"colab-df-quickchart\" onclick=\"quickchart('df-92a4fe36-bca6-40a8-a643-71dce31a3f07')\"\n",
       "            title=\"Suggest charts\"\n",
       "            style=\"display:none;\">\n",
       "\n",
       "<svg xmlns=\"http://www.w3.org/2000/svg\" height=\"24px\"viewBox=\"0 0 24 24\"\n",
       "     width=\"24px\">\n",
       "    <g>\n",
       "        <path d=\"M19 3H5c-1.1 0-2 .9-2 2v14c0 1.1.9 2 2 2h14c1.1 0 2-.9 2-2V5c0-1.1-.9-2-2-2zM9 17H7v-7h2v7zm4 0h-2V7h2v10zm4 0h-2v-4h2v4z\"/>\n",
       "    </g>\n",
       "</svg>\n",
       "  </button>\n",
       "\n",
       "<style>\n",
       "  .colab-df-quickchart {\n",
       "      --bg-color: #E8F0FE;\n",
       "      --fill-color: #1967D2;\n",
       "      --hover-bg-color: #E2EBFA;\n",
       "      --hover-fill-color: #174EA6;\n",
       "      --disabled-fill-color: #AAA;\n",
       "      --disabled-bg-color: #DDD;\n",
       "  }\n",
       "\n",
       "  [theme=dark] .colab-df-quickchart {\n",
       "      --bg-color: #3B4455;\n",
       "      --fill-color: #D2E3FC;\n",
       "      --hover-bg-color: #434B5C;\n",
       "      --hover-fill-color: #FFFFFF;\n",
       "      --disabled-bg-color: #3B4455;\n",
       "      --disabled-fill-color: #666;\n",
       "  }\n",
       "\n",
       "  .colab-df-quickchart {\n",
       "    background-color: var(--bg-color);\n",
       "    border: none;\n",
       "    border-radius: 50%;\n",
       "    cursor: pointer;\n",
       "    display: none;\n",
       "    fill: var(--fill-color);\n",
       "    height: 32px;\n",
       "    padding: 0;\n",
       "    width: 32px;\n",
       "  }\n",
       "\n",
       "  .colab-df-quickchart:hover {\n",
       "    background-color: var(--hover-bg-color);\n",
       "    box-shadow: 0 1px 2px rgba(60, 64, 67, 0.3), 0 1px 3px 1px rgba(60, 64, 67, 0.15);\n",
       "    fill: var(--button-hover-fill-color);\n",
       "  }\n",
       "\n",
       "  .colab-df-quickchart-complete:disabled,\n",
       "  .colab-df-quickchart-complete:disabled:hover {\n",
       "    background-color: var(--disabled-bg-color);\n",
       "    fill: var(--disabled-fill-color);\n",
       "    box-shadow: none;\n",
       "  }\n",
       "\n",
       "  .colab-df-spinner {\n",
       "    border: 2px solid var(--fill-color);\n",
       "    border-color: transparent;\n",
       "    border-bottom-color: var(--fill-color);\n",
       "    animation:\n",
       "      spin 1s steps(1) infinite;\n",
       "  }\n",
       "\n",
       "  @keyframes spin {\n",
       "    0% {\n",
       "      border-color: transparent;\n",
       "      border-bottom-color: var(--fill-color);\n",
       "      border-left-color: var(--fill-color);\n",
       "    }\n",
       "    20% {\n",
       "      border-color: transparent;\n",
       "      border-left-color: var(--fill-color);\n",
       "      border-top-color: var(--fill-color);\n",
       "    }\n",
       "    30% {\n",
       "      border-color: transparent;\n",
       "      border-left-color: var(--fill-color);\n",
       "      border-top-color: var(--fill-color);\n",
       "      border-right-color: var(--fill-color);\n",
       "    }\n",
       "    40% {\n",
       "      border-color: transparent;\n",
       "      border-right-color: var(--fill-color);\n",
       "      border-top-color: var(--fill-color);\n",
       "    }\n",
       "    60% {\n",
       "      border-color: transparent;\n",
       "      border-right-color: var(--fill-color);\n",
       "    }\n",
       "    80% {\n",
       "      border-color: transparent;\n",
       "      border-right-color: var(--fill-color);\n",
       "      border-bottom-color: var(--fill-color);\n",
       "    }\n",
       "    90% {\n",
       "      border-color: transparent;\n",
       "      border-bottom-color: var(--fill-color);\n",
       "    }\n",
       "  }\n",
       "</style>\n",
       "\n",
       "  <script>\n",
       "    async function quickchart(key) {\n",
       "      const quickchartButtonEl =\n",
       "        document.querySelector('#' + key + ' button');\n",
       "      quickchartButtonEl.disabled = true;  // To prevent multiple clicks.\n",
       "      quickchartButtonEl.classList.add('colab-df-spinner');\n",
       "      try {\n",
       "        const charts = await google.colab.kernel.invokeFunction(\n",
       "            'suggestCharts', [key], {});\n",
       "      } catch (error) {\n",
       "        console.error('Error during call to suggestCharts:', error);\n",
       "      }\n",
       "      quickchartButtonEl.classList.remove('colab-df-spinner');\n",
       "      quickchartButtonEl.classList.add('colab-df-quickchart-complete');\n",
       "    }\n",
       "    (() => {\n",
       "      let quickchartButtonEl =\n",
       "        document.querySelector('#df-92a4fe36-bca6-40a8-a643-71dce31a3f07 button');\n",
       "      quickchartButtonEl.style.display =\n",
       "        google.colab.kernel.accessAllowed ? 'block' : 'none';\n",
       "    })();\n",
       "  </script>\n",
       "</div>\n",
       "    </div>\n",
       "  </div>\n"
      ],
      "text/plain": [
       "                 id          age  hypertension  heart_disease  \\\n",
       "count   5509.000000  5509.000000   5509.000000    5509.000000   \n",
       "mean   36681.994917    45.048161      0.108913       0.064258   \n",
       "std    21288.488575    22.951026      0.311558       0.245235   \n",
       "min       67.000000     0.080000      0.000000       0.000000   \n",
       "25%    17740.000000    27.000000      0.000000       0.000000   \n",
       "50%    37086.000000    47.000000      0.000000       0.000000   \n",
       "75%    54921.000000    63.000000      0.000000       0.000000   \n",
       "max    72940.000000    82.000000      1.000000       1.000000   \n",
       "\n",
       "       avg_glucose_level          bmi       stroke  \n",
       "count        5509.000000  5251.000000  5509.000000  \n",
       "mean          107.340670    28.976938     0.117626  \n",
       "std            46.550243     7.747358     0.322194  \n",
       "min            55.120000    10.300000     0.000000  \n",
       "25%            77.160000    23.800000     0.000000  \n",
       "50%            92.170000    28.200000     0.000000  \n",
       "75%           115.470000    33.100000     0.000000  \n",
       "max           271.740000    97.600000     1.000000  "
      ]
     },
     "execution_count": 38,
     "metadata": {},
     "output_type": "execute_result"
    }
   ],
   "source": [
    "raw_df.describe()"
   ]
  },
  {
   "cell_type": "markdown",
   "metadata": {
    "id": "SuY6VjdI_E8F"
   },
   "source": [
    "**Exploring Target Variable:**"
   ]
  },
  {
   "cell_type": "code",
   "execution_count": 39,
   "metadata": {
    "colab": {
     "base_uri": "https://localhost:8080/",
     "height": 428
    },
    "id": "egFbX65d-zPT",
    "outputId": "50410ef0-b5ab-415a-f9b1-29cf01e59e5e"
   },
   "outputs": [
    {
     "data": {
      "image/png": "[encoded data removed]",
      "text/plain": [
       "<Figure size 640x480 with 1 Axes>"
      ]
     },
     "metadata": {},
     "output_type": "display_data"
    }
   ],
   "source": [
    "stroke_counts = raw_df['stroke'].value_counts().reset_index()\n",
    "stroke_counts.columns = ['Stroke', 'Count']\n",
    "custom_colors = ['skyblue', 'red']\n",
    "\n",
    "# Data for the pie chart\n",
    "labels = stroke_counts['Stroke']\n",
    "sizes = stroke_counts['Count']\n",
    "\n",
    "# Create the pie chart\n",
    "fig, ax = plt.subplots()\n",
    "ax.pie(sizes, labels=labels, colors=custom_colors, autopct='%1.1f%%', startangle=60)\n",
    "\n",
    "# Add a title\n",
    "ax.set_title('Distribution of Stroke Status')\n",
    "\n",
    "# Show the plot\n",
    "plt.show()"
   ]
  },
  {
   "cell_type": "markdown",
   "metadata": {
    "id": "vte1kFHr_v11"
   },
   "source": [
    "* The pie chart visually represents the distribution of stroke cases within the dataset, effectively categorizing them into \"No Stroke\" and \"Stroke\" categories.\n",
    "* It illustrates the dataset's class imbalance, with a significantly larger number of \"No Stroke\" cases compared to \"Stroke\" cases."
   ]
  },
  {
   "cell_type": "markdown",
   "metadata": {
    "id": "UJYsykQNhjM3"
   },
   "source": [
    "### Step 2: Exploratory Data Analysis (EDA)"
   ]
  },
  {
   "cell_type": "markdown",
   "metadata": {
    "id": "BLHZj1wn7eEh"
   },
   "source": [
    "\n",
    "*   Find Features with unique value\n",
    "*   Explore the Categorical Features and Numerical Features\n",
    "*   Explore Categorical Feature Distribution\n",
    "*   Explore Numerical Feature Distribution\n",
    "*   Relationship between Categorical Features and Target Variable\n",
    "*   Relation between numerical Features and Target Variable\n",
    "*   Explore the Correlation between numerical features"
   ]
  },
  {
   "cell_type": "markdown",
   "metadata": {
    "id": "TNBn6z-pBNzl"
   },
   "source": [
    "**Note:**"
   ]
  },
  {
   "cell_type": "markdown",
   "metadata": {
    "id": "kpwAlPeUhjM3"
   },
   "source": [
    "- For any machine learning task, the most important thing is to investigate the data.\n",
    "- The data itself can reveal many hidden secrets and helps massively in building an effective machine learning solution. Naturally, the first step is to see what the raw data looks like."
   ]
  },
  {
   "cell_type": "code",
   "execution_count": 40,
   "metadata": {
    "id": "vlUK38gUm0RU"
   },
   "outputs": [],
   "source": [
    "stroke_df = raw_df.copy()"
   ]
  },
  {
   "cell_type": "markdown",
   "metadata": {
    "id": "sFrdWu-XZRyk"
   },
   "source": [
    "**Find Features with one value:**"
   ]
  },
  {
   "cell_type": "code",
   "execution_count": 41,
   "metadata": {
    "colab": {
     "base_uri": "https://localhost:8080/"
    },
    "id": "jNFAxhwJZTa1",
    "outputId": "b0a5f28f-f5f6-438d-f7cd-683cd5ecf070"
   },
   "outputs": [
    {
     "name": "stdout",
     "output_type": "stream",
     "text": [
      "id 5100\n",
      "gender 3\n",
      "age 104\n",
      "hypertension 2\n",
      "heart_disease 2\n",
      "ever_married 2\n",
      "work_type 5\n",
      "Residence_type 2\n",
      "avg_glucose_level 3972\n",
      "bmi 418\n",
      "smoking_status 4\n",
      "stroke 2\n"
     ]
    }
   ],
   "source": [
    "for column in stroke_df.columns:\n",
    "    print(column,stroke_df[column].nunique())"
   ]
  },
  {
   "cell_type": "markdown",
   "metadata": {
    "id": "G_phqyHbZcrz"
   },
   "source": [
    "Take Away: No feature has single value. Features with single unique value or very few unique values are typically not useful for machine learning models."
   ]
  },
  {
   "cell_type": "markdown",
   "metadata": {
    "id": "QMgLjHKqDiSM"
   },
   "source": [
    "**Exploring the Categorical and Numerical Features:**"
   ]
  },
  {
   "cell_type": "code",
   "execution_count": 42,
   "metadata": {
    "colab": {
     "base_uri": "https://localhost:8080/"
    },
    "id": "UEl0mFnqhjM3",
    "outputId": "a6d460f9-46ec-415a-860e-5f4a1c41e874"
   },
   "outputs": [
    {
     "name": "stdout",
     "output_type": "stream",
     "text": [
      "Number of Categorical Variables: 5\n",
      "Number of Numerical Variables: 7\n"
     ]
    }
   ],
   "source": [
    "# Identifying number of categorical and numerical features\n",
    "categorical_features = stroke_df.select_dtypes(include=['object']).columns.tolist()\n",
    "numerical_features = stroke_df.select_dtypes(exclude=['object']).columns.tolist()\n",
    "\n",
    "print(\"Number of Categorical Variables:\", len(categorical_features))\n",
    "print(\"Number of Numerical Variables:\", len(numerical_features))"
   ]
  },
  {
   "cell_type": "code",
   "execution_count": 43,
   "metadata": {
    "colab": {
     "base_uri": "https://localhost:8080/"
    },
    "id": "uY94XKPdp3gT",
    "outputId": "28286ca0-0899-4913-a6c7-49e57588f1e0"
   },
   "outputs": [
    {
     "data": {
      "text/plain": [
       "['id',\n",
       " 'age',\n",
       " 'hypertension',\n",
       " 'heart_disease',\n",
       " 'avg_glucose_level',\n",
       " 'bmi',\n",
       " 'stroke']"
      ]
     },
     "execution_count": 43,
     "metadata": {},
     "output_type": "execute_result"
    }
   ],
   "source": [
    "numerical_features"
   ]
  },
  {
   "cell_type": "code",
   "execution_count": 44,
   "metadata": {
    "colab": {
     "base_uri": "https://localhost:8080/"
    },
    "id": "qk0Q4icthjM3",
    "outputId": "fdf4f543-a710-4e1f-ad4f-add9230d37e8"
   },
   "outputs": [
    {
     "name": "stdout",
     "output_type": "stream",
     "text": [
      "1. gender: [Female, Male, Other]\n",
      "2. ever_married: [Yes, No]\n",
      "3. work_type: [Private, children, Self-employed, Govt_job, Never_worked]\n",
      "4. Residence_type: [Urban, Rural]\n",
      "5. smoking_status: [formerly smoked, Unknown, never smoked, smokes]\n"
     ]
    }
   ],
   "source": [
    "# Identifying possible values in each categorical feature\n",
    "for idx, col in enumerate(stroke_df.select_dtypes(include='object').columns, start=1):\n",
    "    unique_values = \", \".join(stroke_df[col].unique())\n",
    "    print(f\"{idx}. {col}: [{unique_values}]\")"
   ]
  },
  {
   "cell_type": "markdown",
   "metadata": {
    "id": "dNAlK7PHhjM3"
   },
   "source": [
    "**Exploring Categorical Features Distribution:**"
   ]
  },
  {
   "cell_type": "code",
   "execution_count": 45,
   "metadata": {
    "colab": {
     "base_uri": "https://localhost:8080/",
     "height": 905
    },
    "id": "0dguvEgYhjM3",
    "outputId": "2104e825-4a19-4007-b56e-8a8f79d89355"
   },
   "outputs": [
    {
     "data": {
      "image/png": "[encoded data removed]",
      "text/plain": [
       "<Figure size 1200x2500 with 5 Axes>"
      ]
     },
     "metadata": {},
     "output_type": "display_data"
    }
   ],
   "source": [
    "plt.figure(figsize=(12,25), facecolor='white')\n",
    "plotnumber =1\n",
    "for categorical_feature in categorical_features:\n",
    "    ax = plt.subplot(6,3,plotnumber)\n",
    "    sns.countplot(x=categorical_feature,data=stroke_df)\n",
    "    plt.xlabel(categorical_feature)\n",
    "    plt.title(categorical_feature)\n",
    "    plt.xticks(rotation=45)\n",
    "    plotnumber+=1\n",
    "\n",
    "# Adjust spacing between subplots\n",
    "plt.tight_layout()\n",
    "\n",
    "plt.show()"
   ]
  },
  {
   "cell_type": "markdown",
   "metadata": {
    "id": "CT_jwENcomr4"
   },
   "source": [
    "**Take Away :**\n",
    "\n",
    "**1.Gender Distribution:**  The proportion of female patients appears to be slightly higher, indicating a marginally greater representation of females in the dataset. This could suggest a need to consider gender-specific factors in stroke risk assessment.\n",
    "\n",
    "**2.Marital Status:** The marital status chart illustrate a predominance of married individuals in the dataset.\n",
    "\n",
    "**3.Work Type:** The work type chart likely displays a diverse distribution, reflecting various occupational backgrounds. There are\n",
    "more \"Private\" and \"Self-employed\" individuals compared to other work types.\n",
    "\n",
    "**4.Residence Type:** we can observe that the dataset contains a higher number of individuals from urban areas (\"Urban\") compared to rural areas (\"Rural\").\n",
    "\n",
    "**5.Smoking Status:** The smoking status chart categorizes patients by their smoking habits. It's likely to reveal that non-smokers form the majority, with smokers and former smokers constituting significant but smaller portions."
   ]
  },
  {
   "cell_type": "markdown",
   "metadata": {
    "id": "ifpmy8E2hjM4"
   },
   "source": [
    "**Exploring Numeric Features Distribution:**"
   ]
  },
  {
   "cell_type": "markdown",
   "metadata": {
    "id": "5UHy3jhvl_IY"
   },
   "source": [
    "We have two types of numeric features\n",
    "\n",
    "1) Discrete numeric features\n",
    "\n",
    "2) Continuous numeric features.\n"
   ]
  },
  {
   "cell_type": "code",
   "execution_count": 46,
   "metadata": {
    "id": "qRIBOlabrDkc"
   },
   "outputs": [],
   "source": [
    "discrete_numeric_features=['hypertension','heart_disease']\n",
    "continuous_numeric_features=['age','avg_glucose_level','bmi']"
   ]
  },
  {
   "cell_type": "markdown",
   "metadata": {
    "id": "jWMjIks-uVjF"
   },
   "source": [
    "**Exploring Discrete Numeric features:**"
   ]
  },
  {
   "cell_type": "code",
   "execution_count": 47,
   "metadata": {
    "colab": {
     "base_uri": "https://localhost:8080/",
     "height": 316
    },
    "id": "wQEB9cCzjWQC",
    "outputId": "8cb952cd-a95a-475a-b91a-9ac61b5272fa"
   },
   "outputs": [
    {
     "data": {
      "image/png": "[encoded data removed]",
      "text/plain": [
       "<Figure size 600x300 with 2 Axes>"
      ]
     },
     "metadata": {},
     "output_type": "display_data"
    }
   ],
   "source": [
    "# Number of discrete numeric features\n",
    "num_features = len(discrete_numeric_features)\n",
    "\n",
    "# Custom colors\n",
    "colors = ['#89AED2', '#BC3030']\n",
    "\n",
    "# Create a figure and a grid of subplots\n",
    "fig, axes = plt.subplots(nrows=1, ncols=num_features, figsize=(num_features * 3, 3))  # Adjust the size as needed\n",
    "\n",
    "# Iterate over each discrete numeric feature to create pie charts\n",
    "for i, feature in enumerate(discrete_numeric_features):\n",
    "    feature_counts = stroke_df[feature].value_counts()\n",
    "\n",
    "    # Plot pie chart in the ith subplot with custom colors\n",
    "    axes[i].pie(feature_counts, labels=feature_counts.index, autopct='%1.1f%%', startangle=140, colors=colors)\n",
    "    axes[i].set_title(f'{feature.capitalize()} Distribution')\n",
    "\n",
    "# Adjust the layout and display the plot\n",
    "plt.tight_layout()\n",
    "plt.show()\n"
   ]
  },
  {
   "cell_type": "markdown",
   "metadata": {
    "id": "f3Doixvgi2qx"
   },
   "source": [
    "**1.Hypertension:** The \"0\" category (representing patients without hypertension) occupies the majority, accounting for approximately 89.1% of the dataset. The \"1\" category (representing patients with hypertension) constitutes a smaller proportion, making up around 10.9% of the dataset.\n",
    "**2.Heart Disease:** The \"0\" category (representing patients without heart disease) occupies the majority. The \"1\" category (representing patients with heart disease) constitutes a smaller proportion, making up around 6.4% of the dataset."
   ]
  },
  {
   "cell_type": "markdown",
   "metadata": {
    "id": "Fh-Riw-wunEg"
   },
   "source": [
    "**Exploring Continuous Numeric features:**"
   ]
  },
  {
   "cell_type": "code",
   "execution_count": 48,
   "metadata": {
    "colab": {
     "base_uri": "https://localhost:8080/",
     "height": 606
    },
    "id": "HwCiUfZmhjM4",
    "outputId": "1af9c7b2-bc78-442c-e235-47c981a3a5db"
   },
   "outputs": [
    {
     "data": {
      "image/png": "[encoded data removed]",
      "text/plain": [
       "<Figure size 700x600 with 3 Axes>"
      ]
     },
     "metadata": {},
     "output_type": "display_data"
    }
   ],
   "source": [
    "# Create the figure with specified size and background color\n",
    "plt.figure(figsize=(7, 6), facecolor='white')\n",
    "# Initialize a counter for the subplot index\n",
    "subplot_index = 1\n",
    "# Plotting only specified numerical features\n",
    "for col in continuous_numeric_features:\n",
    "    plt.subplot(2, 2, subplot_index)  # Adjust the subplot grid and index as needed\n",
    "    sns.histplot(stroke_df[col], kde=True)\n",
    "    plt.title(f'Distribution of {col}')\n",
    "    plt.tight_layout()\n",
    "    subplot_index += 1  # Increment the subplot index\n",
    "\n",
    "plt.show()"
   ]
  },
  {
   "cell_type": "markdown",
   "metadata": {
    "id": "ZM_7NOdbnnD6"
   },
   "source": [
    "**1.Age Distribution:** The distribution appears roughly bell-shaped, which is common in a diverse population, but there's a noticeable presence of older individuals, reflecting the natural demographic where stroke risk is generally higher.\n",
    "\n",
    "**2.Average Glucose Level:** The histogram for average glucose level depicts a right-skewed distribution, meaning there are a considerable number of individuals with glucose levels higher than the mode.Most individuals have glucose levels in a lower range, but the long tail to the right suggests a non-negligible group with elevated glucose levels, which can be a concern for health risks such as diabetes and possibly stroke.\n",
    "\n",
    "**3.BMI Distribution:** The histogram for BMI reveals a sharp peak in the lower-to-middle range, suggesting that most patients have a BMI that falls within a healthy or slightly overweight range. The right skew indicates fewer patients with a high BMI, but this tail suggests the presence of individuals at risk due to obesity."
   ]
  },
  {
   "cell_type": "markdown",
   "metadata": {
    "id": "xnvj4JHqvbzF"
   },
   "source": [
    "**Exploring Relation Between Discrete Numerical Features and Target:**"
   ]
  },
  {
   "cell_type": "code",
   "execution_count": 49,
   "metadata": {
    "colab": {
     "base_uri": "https://localhost:8080/",
     "height": 457
    },
    "id": "FZ3Y_iZ6ZvMm",
    "outputId": "75d4a48b-e196-4103-ccd0-b904ef723e9e"
   },
   "outputs": [
    {
     "data": {
      "image/png": "[encoded data removed]",
      "text/plain": [
       "<Figure size 800x450 with 2 Axes>"
      ]
     },
     "metadata": {},
     "output_type": "display_data"
    }
   ],
   "source": [
    "# Calculate stroke rates for each feature\n",
    "stroke_rates = {}\n",
    "for feature in discrete_numeric_features:\n",
    "    stroke_rate_with_feature = (stroke_df[stroke_df[feature] == 1]['stroke'].mean()) * 100\n",
    "    stroke_rate_without_feature = (stroke_df[stroke_df[feature] == 0]['stroke'].mean()) * 100\n",
    "    stroke_rates[feature] = [stroke_rate_with_feature, stroke_rate_without_feature]\n",
    "\n",
    "# Plotting\n",
    "fig, axes = plt.subplots(nrows=1, ncols=len(discrete_numeric_features), figsize=(8,4.5))\n",
    "if len(discrete_numeric_features) == 1:  # If there's only one feature, wrap it in a list to make the iteration work\n",
    "    axes = [axes]\n",
    "\n",
    "for i, feature in enumerate(discrete_numeric_features):\n",
    "    data = pd.DataFrame({\n",
    "        feature: ['With', 'Without'],\n",
    "        'Stroke Rate': stroke_rates[feature]\n",
    "    })\n",
    "    sns.barplot(x=feature, y='Stroke Rate', data=data, ax=axes[i], palette=[\"#123F6A\", \"#89AED2\"])\n",
    "    axes[i].set_title(f'{feature.capitalize()} vs Stroke')\n",
    "    axes[i].set_xlabel(f'{feature.capitalize()} Status')\n",
    "    axes[i].set_ylabel('Stroke Rate (%)')\n",
    "    axes[i].bar_label(axes[i].containers[0], fmt='%.2f%%')\n",
    "\n",
    "plt.tight_layout()\n",
    "plt.show()\n"
   ]
  },
  {
   "cell_type": "markdown",
   "metadata": {
    "id": "FtirNV9qZZCk"
   },
   "source": [
    "**Take away :**\n",
    "It's evident from the bar charts that individuals with hypertension have a significantly higher stroke rate compared to those without hypertension. Similarly, individuals with heart disease also exhibit a higher stroke rate than those without heart disease."
   ]
  },
  {
   "cell_type": "markdown",
   "metadata": {
    "id": "MuehAugp3yOt"
   },
   "source": [
    "**Exploring Relation Between Continuous Numerical Features and Target:**"
   ]
  },
  {
   "cell_type": "code",
   "execution_count": 50,
   "metadata": {
    "colab": {
     "base_uri": "https://localhost:8080/",
     "height": 606
    },
    "id": "gwzlNNSBIRSf",
    "outputId": "98412890-5c3c-4d07-9df8-bb9ba23c90f4"
   },
   "outputs": [
    {
     "data": {
      "image/png": "[encoded data removed]",
      "text/plain": [
       "<Figure size 800x600 with 3 Axes>"
      ]
     },
     "metadata": {},
     "output_type": "display_data"
    }
   ],
   "source": [
    "plt.figure(figsize=(8, 6))\n",
    "# Plotting the relationship between numerical features and stroke status\n",
    "for i, col in enumerate(continuous_numeric_features, start=1):\n",
    "    plt.subplot(2, 2, i)  # Adjusted the grid size and used 'i' directly\n",
    "    sns.boxplot(data=stroke_df, x='stroke', y=col)\n",
    "    plt.title(f'Relationship between {col} and Stroke')\n",
    "    plt.tight_layout()\n",
    "\n",
    "plt.show()\n"
   ]
  },
  {
   "cell_type": "markdown",
   "metadata": {
    "id": "KQ1LzGznkLIA"
   },
   "source": [
    "**Take Away:**\n",
    "1. Age vs Stroke: This visualization suggests that the risk of stroke tends to increase with age, with a more significant concentration of stroke cases in the older population.\n",
    "2. Glucose Level vs Stroke: Individuals who have higher average glucose levels tend to have high stroke chances\n"
   ]
  },
  {
   "cell_type": "code",
   "execution_count": 51,
   "metadata": {
    "colab": {
     "base_uri": "https://localhost:8080/"
    },
    "id": "uiVd6SyArHpf",
    "outputId": "23cadfdc-5165-44b6-8cf7-d206aa86b158"
   },
   "outputs": [
    {
     "data": {
      "text/plain": [
       "0    5155\n",
       "1     354\n",
       "Name: heart_disease, dtype: int64"
      ]
     },
     "execution_count": 51,
     "metadata": {},
     "output_type": "execute_result"
    }
   ],
   "source": [
    "stroke_df['heart_disease'].value_counts()"
   ]
  },
  {
   "cell_type": "code",
   "execution_count": 52,
   "metadata": {
    "colab": {
     "base_uri": "https://localhost:8080/"
    },
    "id": "_N_H-LGBvFED",
    "outputId": "53d17070-106c-4359-ea8f-4d5ee3f51593"
   },
   "outputs": [
    {
     "data": {
      "text/plain": [
       "0    4909\n",
       "1     600\n",
       "Name: hypertension, dtype: int64"
      ]
     },
     "execution_count": 52,
     "metadata": {},
     "output_type": "execute_result"
    }
   ],
   "source": [
    "stroke_df['hypertension'].value_counts()"
   ]
  },
  {
   "cell_type": "markdown",
   "metadata": {
    "id": "KTneMiVmmgZB"
   },
   "source": [
    "**Exploring Relation Between Categorical Features and Target:**"
   ]
  },
  {
   "cell_type": "code",
   "execution_count": 53,
   "metadata": {
    "colab": {
     "base_uri": "https://localhost:8080/",
     "height": 794
    },
    "id": "rGSwxYvYhjM4",
    "outputId": "02d6fd71-6974-4896-fdcf-47b839610f22"
   },
   "outputs": [
    {
     "data": {
      "image/png": "[encoded data removed]",
      "text/plain": [
       "<Figure size 1500x1500 with 5 Axes>"
      ]
     },
     "metadata": {},
     "output_type": "display_data"
    }
   ],
   "source": [
    "plt.figure(figsize=(15, 15))\n",
    "\n",
    "stroke_df['stroke'] = stroke_df['stroke'].replace({1:'Yes', 0: 'No'})\n",
    "# Plotting the relationship between categorical features and subscription status\n",
    "for i, col in enumerate(categorical_features, 1):  # Excluding 'y' since it's the target\n",
    "    plt.subplot(4, 3, i)\n",
    "    sns.countplot(data=stroke_df, x=col, hue='stroke')\n",
    "    plt.title(f'Relationship between {col} and Stroke')\n",
    "    plt.xticks(rotation=45)\n",
    "    plt.tight_layout()\n",
    "\n",
    "\n",
    "plt.show()"
   ]
  },
  {
   "cell_type": "markdown",
   "metadata": {
    "id": "NoipLODHpV-b"
   },
   "source": [
    "**Notes:**\n",
    "1. Gender vs Stroke: Among the genders, females have a higher count of both stroke and non-stroke cases than males\n",
    "2. Relationship between Ever Married vs Stroke: Individuals who have ever been married show a higher count of both stroke and non-stroke cases than those who have never been married.\n",
    "3. Work Type vs Stroke: \"Private\" and \"Self-employed\" individuals seem to have relatively higher stroke rates compared to other work types.\n",
    "4. Residence Type vs Stroke: The count of stroke cases  is higher in urban areas compared to rural areas\n",
    "\n"
   ]
  },
  {
   "cell_type": "markdown",
   "metadata": {
    "id": "NXKvFB6z3yP_"
   },
   "source": [
    "**Explore the Correlation between numerical features**"
   ]
  },
  {
   "cell_type": "code",
   "execution_count": 54,
   "metadata": {
    "colab": {
     "base_uri": "https://localhost:8080/",
     "height": 622
    },
    "id": "CFfpVJTe3wx1",
    "outputId": "065a828d-f069-4610-c116-ad9dcc81146a"
   },
   "outputs": [
    {
     "data": {
      "image/png": "[encoded data removed]",
      "text/plain": [
       "<Figure size 1200x700 with 2 Axes>"
      ]
     },
     "metadata": {},
     "output_type": "display_data"
    }
   ],
   "source": [
    "cor_mat=stroke_df.corr(numeric_only=True)\n",
    "fig = plt.figure(figsize=(12,7))\n",
    "sns.heatmap(cor_mat, annot=True, cmap='coolwarm', vmin=-1, vmax=1)\n",
    "plt.title(\"Correlation Heatmap\")\n",
    "plt.show()"
   ]
  },
  {
   "cell_type": "markdown",
   "metadata": {
    "id": "gx-HwfdTH03V"
   },
   "source": [
    "**Exploring Null Values**"
   ]
  },
  {
   "cell_type": "code",
   "execution_count": 55,
   "metadata": {
    "colab": {
     "base_uri": "https://localhost:8080/",
     "height": 657
    },
    "id": "8-3_i0K4HxlB",
    "outputId": "49542c7f-72bd-4da5-f7ae-6877a04a3dd2"
   },
   "outputs": [
    {
     "data": {
      "image/png": "[encoded data removed]",
      "text/plain": [
       "<Figure size 800x600 with 1 Axes>"
      ]
     },
     "metadata": {},
     "output_type": "display_data"
    }
   ],
   "source": [
    "plt.figure(figsize=(8, 6))\n",
    "sns.heatmap(raw_df.isnull(), yticklabels=False, cbar=False, cmap='Reds')\n",
    "plt.title('Missing Values Heatmap')\n",
    "plt.show()"
   ]
  },
  {
   "cell_type": "markdown",
   "metadata": {
    "id": "AJGmxPXvkxcE"
   },
   "source": [
    "Take Away :  'BMI' column has Missing Values"
   ]
  },
  {
   "cell_type": "markdown",
   "metadata": {
    "id": "HKW7o9tm2z1m"
   },
   "source": [
    "### Step 3: Feature Engineering"
   ]
  },
  {
   "cell_type": "markdown",
   "metadata": {
    "id": "e5UzCBs68Dby"
   },
   "source": [
    "\n",
    "*   Drop unwanted Features\n",
    "*   Handle Missing Values\n",
    "*   Drop Duplicates\n",
    "*   Remove Outliers\n",
    "*   Label Encoding\n",
    "*   Feature Scaling\n",
    "\n"
   ]
  },
  {
   "cell_type": "code",
   "execution_count": 5,
   "metadata": {
    "id": "SJv0opmkMH6a"
   },
   "outputs": [],
   "source": [
    "df=raw_df.copy()"
   ]
  },
  {
   "cell_type": "markdown",
   "metadata": {
    "id": "vOydMQTbXjdP"
   },
   "source": [
    "**Drop unwanted Features :**"
   ]
  },
  {
   "cell_type": "code",
   "execution_count": 6,
   "metadata": {
    "colab": {
     "base_uri": "https://localhost:8080/"
    },
    "id": "fNMQTUl0hjM4",
    "outputId": "e0aff7fd-f4f7-4d53-8d47-8690004d81c7"
   },
   "outputs": [
    {
     "data": {
      "text/plain": [
       "(5509, 11)"
      ]
     },
     "execution_count": 6,
     "metadata": {},
     "output_type": "execute_result"
    }
   ],
   "source": [
    "# Drop identifier column\n",
    "df.drop(columns = ['id'], inplace=True)\n",
    "df.shape"
   ]
  },
  {
   "cell_type": "markdown",
   "metadata": {
    "id": "BWpSqQ7Cw-3G"
   },
   "source": [
    "**Handling Missing Values:**"
   ]
  },
  {
   "cell_type": "code",
   "execution_count": 7,
   "metadata": {
    "colab": {
     "base_uri": "https://localhost:8080/"
    },
    "id": "fHbopHFA3Qm-",
    "outputId": "27cce837-6d3f-4733-ab10-b26f2ad70546"
   },
   "outputs": [
    {
     "data": {
      "text/plain": [
       "bmi    4.683246\n",
       "dtype: float64"
      ]
     },
     "execution_count": 7,
     "metadata": {},
     "output_type": "execute_result"
    }
   ],
   "source": [
    "# Check the amounnt of missing value\n",
    "check_missing = df.isnull().sum() * 100 / df.shape[0]\n",
    "check_missing[check_missing > 0].sort_values(ascending=False)"
   ]
  },
  {
   "cell_type": "code",
   "execution_count": 8,
   "metadata": {
    "id": "CHdnBjqs3W72"
   },
   "outputs": [],
   "source": [
    "# Impute missing values in 'bmi' and smoking_status with median\n",
    "median_bmi = df['bmi'].median()\n",
    "df['bmi'].fillna(median_bmi, inplace=True)"
   ]
  },
  {
   "cell_type": "markdown",
   "metadata": {
    "id": "2ES0obh53cmQ"
   },
   "source": [
    "The missing values in the bmi column have been successfully imputed with the median value.\n",
    "There are no missing values left in the dataset."
   ]
  },
  {
   "cell_type": "code",
   "execution_count": 9,
   "metadata": {
    "id": "faEhJ44Z4VJB"
   },
   "outputs": [],
   "source": [
    "df['smoking_status'].replace('Unknown', np.nan, inplace=True)"
   ]
  },
  {
   "cell_type": "code",
   "execution_count": 10,
   "metadata": {
    "id": "g7NSyJEPxN9L"
   },
   "outputs": [],
   "source": [
    "column_values = df['smoking_status'].dropna()\n",
    "random_values = np.random.choice(column_values, size=df['smoking_status'].isnull().sum(), replace=True)\n",
    "df.loc[df['smoking_status'].isnull(), 'smoking_status'] = random_values"
   ]
  },
  {
   "cell_type": "markdown",
   "metadata": {
    "id": "ohfWgA6F4XQk"
   },
   "source": [
    "we replaced 'Unknown' values in the 'smoking_status' column with nulls to make the data more consistent."
   ]
  },
  {
   "cell_type": "code",
   "execution_count": 11,
   "metadata": {
    "colab": {
     "base_uri": "https://localhost:8080/"
    },
    "id": "M1fzSj7Lll11",
    "outputId": "a2356c34-01bb-49f1-d270-0064665915b2"
   },
   "outputs": [
    {
     "data": {
      "text/plain": [
       "gender               0\n",
       "age                  0\n",
       "hypertension         0\n",
       "heart_disease        0\n",
       "ever_married         0\n",
       "work_type            0\n",
       "Residence_type       0\n",
       "avg_glucose_level    0\n",
       "bmi                  0\n",
       "smoking_status       0\n",
       "stroke               0\n",
       "dtype: int64"
      ]
     },
     "execution_count": 11,
     "metadata": {},
     "output_type": "execute_result"
    }
   ],
   "source": [
    "# Check if there are any missing values left\n",
    "df.isnull().sum()"
   ]
  },
  {
   "cell_type": "markdown",
   "metadata": {
    "id": "Z9gi5Y1UyIYQ"
   },
   "source": [
    "**Drop Duplicates**"
   ]
  },
  {
   "cell_type": "code",
   "execution_count": 12,
   "metadata": {
    "colab": {
     "base_uri": "https://localhost:8080/",
     "height": 423
    },
    "id": "Vt04a4WyyOgW",
    "outputId": "2abf6bca-849a-469e-aa01-b0df9ab69371"
   },
   "outputs": [
    {
     "data": {
      "text/html": [
       "\n",
       "  <div id=\"df-3f3264f8-7184-46b3-a89a-6036bdbe18f5\" class=\"colab-df-container\">\n",
       "    <div>\n",
       "<style scoped>\n",
       "    .dataframe tbody tr th:only-of-type {\n",
       "        vertical-align: middle;\n",
       "    }\n",
       "\n",
       "    .dataframe tbody tr th {\n",
       "        vertical-align: top;\n",
       "    }\n",
       "\n",
       "    .dataframe thead th {\n",
       "        text-align: right;\n",
       "    }\n",
       "</style>\n",
       "<table border=\"1\" class=\"dataframe\">\n",
       "  <thead>\n",
       "    <tr style=\"text-align: right;\">\n",
       "      <th></th>\n",
       "      <th>gender</th>\n",
       "      <th>age</th>\n",
       "      <th>hypertension</th>\n",
       "      <th>heart_disease</th>\n",
       "      <th>ever_married</th>\n",
       "      <th>work_type</th>\n",
       "      <th>Residence_type</th>\n",
       "      <th>avg_glucose_level</th>\n",
       "      <th>bmi</th>\n",
       "      <th>smoking_status</th>\n",
       "      <th>stroke</th>\n",
       "    </tr>\n",
       "  </thead>\n",
       "  <tbody>\n",
       "    <tr>\n",
       "      <th>0</th>\n",
       "      <td>Female</td>\n",
       "      <td>42.0</td>\n",
       "      <td>0</td>\n",
       "      <td>0</td>\n",
       "      <td>Yes</td>\n",
       "      <td>Private</td>\n",
       "      <td>Urban</td>\n",
       "      <td>87.40</td>\n",
       "      <td>24.5</td>\n",
       "      <td>formerly smoked</td>\n",
       "      <td>0</td>\n",
       "    </tr>\n",
       "    <tr>\n",
       "      <th>1</th>\n",
       "      <td>Female</td>\n",
       "      <td>13.0</td>\n",
       "      <td>0</td>\n",
       "      <td>0</td>\n",
       "      <td>No</td>\n",
       "      <td>children</td>\n",
       "      <td>Rural</td>\n",
       "      <td>73.48</td>\n",
       "      <td>22.9</td>\n",
       "      <td>never smoked</td>\n",
       "      <td>0</td>\n",
       "    </tr>\n",
       "    <tr>\n",
       "      <th>2</th>\n",
       "      <td>Male</td>\n",
       "      <td>54.0</td>\n",
       "      <td>0</td>\n",
       "      <td>0</td>\n",
       "      <td>Yes</td>\n",
       "      <td>Private</td>\n",
       "      <td>Urban</td>\n",
       "      <td>111.37</td>\n",
       "      <td>29.1</td>\n",
       "      <td>formerly smoked</td>\n",
       "      <td>0</td>\n",
       "    </tr>\n",
       "    <tr>\n",
       "      <th>3</th>\n",
       "      <td>Male</td>\n",
       "      <td>81.0</td>\n",
       "      <td>0</td>\n",
       "      <td>0</td>\n",
       "      <td>Yes</td>\n",
       "      <td>Self-employed</td>\n",
       "      <td>Urban</td>\n",
       "      <td>99.33</td>\n",
       "      <td>33.7</td>\n",
       "      <td>never smoked</td>\n",
       "      <td>1</td>\n",
       "    </tr>\n",
       "    <tr>\n",
       "      <th>4</th>\n",
       "      <td>Female</td>\n",
       "      <td>76.0</td>\n",
       "      <td>0</td>\n",
       "      <td>0</td>\n",
       "      <td>Yes</td>\n",
       "      <td>Self-employed</td>\n",
       "      <td>Urban</td>\n",
       "      <td>106.41</td>\n",
       "      <td>28.2</td>\n",
       "      <td>formerly smoked</td>\n",
       "      <td>1</td>\n",
       "    </tr>\n",
       "    <tr>\n",
       "      <th>...</th>\n",
       "      <td>...</td>\n",
       "      <td>...</td>\n",
       "      <td>...</td>\n",
       "      <td>...</td>\n",
       "      <td>...</td>\n",
       "      <td>...</td>\n",
       "      <td>...</td>\n",
       "      <td>...</td>\n",
       "      <td>...</td>\n",
       "      <td>...</td>\n",
       "      <td>...</td>\n",
       "    </tr>\n",
       "    <tr>\n",
       "      <th>5504</th>\n",
       "      <td>Male</td>\n",
       "      <td>35.0</td>\n",
       "      <td>0</td>\n",
       "      <td>0</td>\n",
       "      <td>Yes</td>\n",
       "      <td>Private</td>\n",
       "      <td>Rural</td>\n",
       "      <td>145.18</td>\n",
       "      <td>32.6</td>\n",
       "      <td>smokes</td>\n",
       "      <td>0</td>\n",
       "    </tr>\n",
       "    <tr>\n",
       "      <th>5505</th>\n",
       "      <td>Male</td>\n",
       "      <td>58.0</td>\n",
       "      <td>0</td>\n",
       "      <td>0</td>\n",
       "      <td>Yes</td>\n",
       "      <td>Private</td>\n",
       "      <td>Urban</td>\n",
       "      <td>69.24</td>\n",
       "      <td>27.6</td>\n",
       "      <td>never smoked</td>\n",
       "      <td>0</td>\n",
       "    </tr>\n",
       "    <tr>\n",
       "      <th>5506</th>\n",
       "      <td>Female</td>\n",
       "      <td>45.0</td>\n",
       "      <td>0</td>\n",
       "      <td>0</td>\n",
       "      <td>Yes</td>\n",
       "      <td>Private</td>\n",
       "      <td>Rural</td>\n",
       "      <td>81.02</td>\n",
       "      <td>39.0</td>\n",
       "      <td>never smoked</td>\n",
       "      <td>0</td>\n",
       "    </tr>\n",
       "    <tr>\n",
       "      <th>5507</th>\n",
       "      <td>Female</td>\n",
       "      <td>66.0</td>\n",
       "      <td>0</td>\n",
       "      <td>0</td>\n",
       "      <td>Yes</td>\n",
       "      <td>Govt_job</td>\n",
       "      <td>Rural</td>\n",
       "      <td>152.02</td>\n",
       "      <td>44.2</td>\n",
       "      <td>formerly smoked</td>\n",
       "      <td>0</td>\n",
       "    </tr>\n",
       "    <tr>\n",
       "      <th>5508</th>\n",
       "      <td>Female</td>\n",
       "      <td>13.0</td>\n",
       "      <td>0</td>\n",
       "      <td>0</td>\n",
       "      <td>No</td>\n",
       "      <td>children</td>\n",
       "      <td>Rural</td>\n",
       "      <td>85.81</td>\n",
       "      <td>18.6</td>\n",
       "      <td>never smoked</td>\n",
       "      <td>0</td>\n",
       "    </tr>\n",
       "  </tbody>\n",
       "</table>\n",
       "<p>5133 rows × 11 columns</p>\n",
       "</div>\n",
       "    <div class=\"colab-df-buttons\">\n",
       "\n",
       "  <div class=\"colab-df-container\">\n",
       "    <button class=\"colab-df-convert\" onclick=\"convertToInteractive('df-3f3264f8-7184-46b3-a89a-6036bdbe18f5')\"\n",
       "            title=\"Convert this dataframe to an interactive table.\"\n",
       "            style=\"display:none;\">\n",
       "\n",
       "  <svg xmlns=\"http://www.w3.org/2000/svg\" height=\"24px\" viewBox=\"0 -960 960 960\">\n",
       "    <path d=\"M120-120v-720h720v720H120Zm60-500h600v-160H180v160Zm220 220h160v-160H400v160Zm0 220h160v-160H400v160ZM180-400h160v-160H180v160Zm440 0h160v-160H620v160ZM180-180h160v-160H180v160Zm440 0h160v-160H620v160Z\"/>\n",
       "  </svg>\n",
       "    </button>\n",
       "\n",
       "  <style>\n",
       "    .colab-df-container {\n",
       "      display:flex;\n",
       "      gap: 12px;\n",
       "    }\n",
       "\n",
       "    .colab-df-convert {\n",
       "      background-color: #E8F0FE;\n",
       "      border: none;\n",
       "      border-radius: 50%;\n",
       "      cursor: pointer;\n",
       "      display: none;\n",
       "      fill: #1967D2;\n",
       "      height: 32px;\n",
       "      padding: 0 0 0 0;\n",
       "      width: 32px;\n",
       "    }\n",
       "\n",
       "    .colab-df-convert:hover {\n",
       "      background-color: #E2EBFA;\n",
       "      box-shadow: 0px 1px 2px rgba(60, 64, 67, 0.3), 0px 1px 3px 1px rgba(60, 64, 67, 0.15);\n",
       "      fill: #174EA6;\n",
       "    }\n",
       "\n",
       "    .colab-df-buttons div {\n",
       "      margin-bottom: 4px;\n",
       "    }\n",
       "\n",
       "    [theme=dark] .colab-df-convert {\n",
       "      background-color: #3B4455;\n",
       "      fill: #D2E3FC;\n",
       "    }\n",
       "\n",
       "    [theme=dark] .colab-df-convert:hover {\n",
       "      background-color: #434B5C;\n",
       "      box-shadow: 0px 1px 3px 1px rgba(0, 0, 0, 0.15);\n",
       "      filter: drop-shadow(0px 1px 2px rgba(0, 0, 0, 0.3));\n",
       "      fill: #FFFFFF;\n",
       "    }\n",
       "  </style>\n",
       "\n",
       "    <script>\n",
       "      const buttonEl =\n",
       "        document.querySelector('#df-3f3264f8-7184-46b3-a89a-6036bdbe18f5 button.colab-df-convert');\n",
       "      buttonEl.style.display =\n",
       "        google.colab.kernel.accessAllowed ? 'block' : 'none';\n",
       "\n",
       "      async function convertToInteractive(key) {\n",
       "        const element = document.querySelector('#df-3f3264f8-7184-46b3-a89a-6036bdbe18f5');\n",
       "        const dataTable =\n",
       "          await google.colab.kernel.invokeFunction('convertToInteractive',\n",
       "                                                    [key], {});\n",
       "        if (!dataTable) return;\n",
       "\n",
       "        const docLinkHtml = 'Like what you see? Visit the ' +\n",
       "          '<a target=\"_blank\" href=https://colab.research.google.com/notebooks/data_table.ipynb>data table notebook</a>'\n",
       "          + ' to learn more about interactive tables.';\n",
       "        element.innerHTML = '';\n",
       "        dataTable['output_type'] = 'display_data';\n",
       "        await google.colab.output.renderOutput(dataTable, element);\n",
       "        const docLink = document.createElement('div');\n",
       "        docLink.innerHTML = docLinkHtml;\n",
       "        element.appendChild(docLink);\n",
       "      }\n",
       "    </script>\n",
       "  </div>\n",
       "\n",
       "\n",
       "<div id=\"df-065093d8-a7aa-4b34-af5f-020b9b573a1f\">\n",
       "  <button class=\"colab-df-quickchart\" onclick=\"quickchart('df-065093d8-a7aa-4b34-af5f-020b9b573a1f')\"\n",
       "            title=\"Suggest charts\"\n",
       "            style=\"display:none;\">\n",
       "\n",
       "<svg xmlns=\"http://www.w3.org/2000/svg\" height=\"24px\"viewBox=\"0 0 24 24\"\n",
       "     width=\"24px\">\n",
       "    <g>\n",
       "        <path d=\"M19 3H5c-1.1 0-2 .9-2 2v14c0 1.1.9 2 2 2h14c1.1 0 2-.9 2-2V5c0-1.1-.9-2-2-2zM9 17H7v-7h2v7zm4 0h-2V7h2v10zm4 0h-2v-4h2v4z\"/>\n",
       "    </g>\n",
       "</svg>\n",
       "  </button>\n",
       "\n",
       "<style>\n",
       "  .colab-df-quickchart {\n",
       "      --bg-color: #E8F0FE;\n",
       "      --fill-color: #1967D2;\n",
       "      --hover-bg-color: #E2EBFA;\n",
       "      --hover-fill-color: #174EA6;\n",
       "      --disabled-fill-color: #AAA;\n",
       "      --disabled-bg-color: #DDD;\n",
       "  }\n",
       "\n",
       "  [theme=dark] .colab-df-quickchart {\n",
       "      --bg-color: #3B4455;\n",
       "      --fill-color: #D2E3FC;\n",
       "      --hover-bg-color: #434B5C;\n",
       "      --hover-fill-color: #FFFFFF;\n",
       "      --disabled-bg-color: #3B4455;\n",
       "      --disabled-fill-color: #666;\n",
       "  }\n",
       "\n",
       "  .colab-df-quickchart {\n",
       "    background-color: var(--bg-color);\n",
       "    border: none;\n",
       "    border-radius: 50%;\n",
       "    cursor: pointer;\n",
       "    display: none;\n",
       "    fill: var(--fill-color);\n",
       "    height: 32px;\n",
       "    padding: 0;\n",
       "    width: 32px;\n",
       "  }\n",
       "\n",
       "  .colab-df-quickchart:hover {\n",
       "    background-color: var(--hover-bg-color);\n",
       "    box-shadow: 0 1px 2px rgba(60, 64, 67, 0.3), 0 1px 3px 1px rgba(60, 64, 67, 0.15);\n",
       "    fill: var(--button-hover-fill-color);\n",
       "  }\n",
       "\n",
       "  .colab-df-quickchart-complete:disabled,\n",
       "  .colab-df-quickchart-complete:disabled:hover {\n",
       "    background-color: var(--disabled-bg-color);\n",
       "    fill: var(--disabled-fill-color);\n",
       "    box-shadow: none;\n",
       "  }\n",
       "\n",
       "  .colab-df-spinner {\n",
       "    border: 2px solid var(--fill-color);\n",
       "    border-color: transparent;\n",
       "    border-bottom-color: var(--fill-color);\n",
       "    animation:\n",
       "      spin 1s steps(1) infinite;\n",
       "  }\n",
       "\n",
       "  @keyframes spin {\n",
       "    0% {\n",
       "      border-color: transparent;\n",
       "      border-bottom-color: var(--fill-color);\n",
       "      border-left-color: var(--fill-color);\n",
       "    }\n",
       "    20% {\n",
       "      border-color: transparent;\n",
       "      border-left-color: var(--fill-color);\n",
       "      border-top-color: var(--fill-color);\n",
       "    }\n",
       "    30% {\n",
       "      border-color: transparent;\n",
       "      border-left-color: var(--fill-color);\n",
       "      border-top-color: var(--fill-color);\n",
       "      border-right-color: var(--fill-color);\n",
       "    }\n",
       "    40% {\n",
       "      border-color: transparent;\n",
       "      border-right-color: var(--fill-color);\n",
       "      border-top-color: var(--fill-color);\n",
       "    }\n",
       "    60% {\n",
       "      border-color: transparent;\n",
       "      border-right-color: var(--fill-color);\n",
       "    }\n",
       "    80% {\n",
       "      border-color: transparent;\n",
       "      border-right-color: var(--fill-color);\n",
       "      border-bottom-color: var(--fill-color);\n",
       "    }\n",
       "    90% {\n",
       "      border-color: transparent;\n",
       "      border-bottom-color: var(--fill-color);\n",
       "    }\n",
       "  }\n",
       "</style>\n",
       "\n",
       "  <script>\n",
       "    async function quickchart(key) {\n",
       "      const quickchartButtonEl =\n",
       "        document.querySelector('#' + key + ' button');\n",
       "      quickchartButtonEl.disabled = true;  // To prevent multiple clicks.\n",
       "      quickchartButtonEl.classList.add('colab-df-spinner');\n",
       "      try {\n",
       "        const charts = await google.colab.kernel.invokeFunction(\n",
       "            'suggestCharts', [key], {});\n",
       "      } catch (error) {\n",
       "        console.error('Error during call to suggestCharts:', error);\n",
       "      }\n",
       "      quickchartButtonEl.classList.remove('colab-df-spinner');\n",
       "      quickchartButtonEl.classList.add('colab-df-quickchart-complete');\n",
       "    }\n",
       "    (() => {\n",
       "      let quickchartButtonEl =\n",
       "        document.querySelector('#df-065093d8-a7aa-4b34-af5f-020b9b573a1f button');\n",
       "      quickchartButtonEl.style.display =\n",
       "        google.colab.kernel.accessAllowed ? 'block' : 'none';\n",
       "    })();\n",
       "  </script>\n",
       "</div>\n",
       "    </div>\n",
       "  </div>\n"
      ],
      "text/plain": [
       "      gender   age  hypertension  heart_disease ever_married      work_type  \\\n",
       "0     Female  42.0             0              0          Yes        Private   \n",
       "1     Female  13.0             0              0           No       children   \n",
       "2       Male  54.0             0              0          Yes        Private   \n",
       "3       Male  81.0             0              0          Yes  Self-employed   \n",
       "4     Female  76.0             0              0          Yes  Self-employed   \n",
       "...      ...   ...           ...            ...          ...            ...   \n",
       "5504    Male  35.0             0              0          Yes        Private   \n",
       "5505    Male  58.0             0              0          Yes        Private   \n",
       "5506  Female  45.0             0              0          Yes        Private   \n",
       "5507  Female  66.0             0              0          Yes       Govt_job   \n",
       "5508  Female  13.0             0              0           No       children   \n",
       "\n",
       "     Residence_type  avg_glucose_level   bmi   smoking_status  stroke  \n",
       "0             Urban              87.40  24.5  formerly smoked       0  \n",
       "1             Rural              73.48  22.9     never smoked       0  \n",
       "2             Urban             111.37  29.1  formerly smoked       0  \n",
       "3             Urban              99.33  33.7     never smoked       1  \n",
       "4             Urban             106.41  28.2  formerly smoked       1  \n",
       "...             ...                ...   ...              ...     ...  \n",
       "5504          Rural             145.18  32.6           smokes       0  \n",
       "5505          Urban              69.24  27.6     never smoked       0  \n",
       "5506          Rural              81.02  39.0     never smoked       0  \n",
       "5507          Rural             152.02  44.2  formerly smoked       0  \n",
       "5508          Rural              85.81  18.6     never smoked       0  \n",
       "\n",
       "[5133 rows x 11 columns]"
      ]
     },
     "execution_count": 12,
     "metadata": {},
     "output_type": "execute_result"
    }
   ],
   "source": [
    "#Duplicates in the dataset can skew the analysis. We identified and removed duplicate rows to ensure data integrity.\n",
    "df.drop_duplicates()"
   ]
  },
  {
   "cell_type": "markdown",
   "metadata": {
    "id": "pRWula2YlPAV"
   },
   "source": [
    "**Remove Outliers**"
   ]
  },
  {
   "cell_type": "code",
   "execution_count": 13,
   "metadata": {
    "colab": {
     "base_uri": "https://localhost:8080/",
     "height": 206
    },
    "id": "q9C1qkJrxjMe",
    "outputId": "54c47fc7-bb60-4a34-b4d0-882f80cc6874"
   },
   "outputs": [
    {
     "data": {
      "text/html": [
       "\n",
       "  <div id=\"df-387123a6-bb04-41b3-ae4d-39408d055511\" class=\"colab-df-container\">\n",
       "    <div>\n",
       "<style scoped>\n",
       "    .dataframe tbody tr th:only-of-type {\n",
       "        vertical-align: middle;\n",
       "    }\n",
       "\n",
       "    .dataframe tbody tr th {\n",
       "        vertical-align: top;\n",
       "    }\n",
       "\n",
       "    .dataframe thead th {\n",
       "        text-align: right;\n",
       "    }\n",
       "</style>\n",
       "<table border=\"1\" class=\"dataframe\">\n",
       "  <thead>\n",
       "    <tr style=\"text-align: right;\">\n",
       "      <th></th>\n",
       "      <th>gender</th>\n",
       "      <th>age</th>\n",
       "      <th>hypertension</th>\n",
       "      <th>heart_disease</th>\n",
       "      <th>ever_married</th>\n",
       "      <th>work_type</th>\n",
       "      <th>Residence_type</th>\n",
       "      <th>avg_glucose_level</th>\n",
       "      <th>bmi</th>\n",
       "      <th>smoking_status</th>\n",
       "      <th>stroke</th>\n",
       "    </tr>\n",
       "  </thead>\n",
       "  <tbody>\n",
       "    <tr>\n",
       "      <th>0</th>\n",
       "      <td>Female</td>\n",
       "      <td>42.0</td>\n",
       "      <td>0</td>\n",
       "      <td>0</td>\n",
       "      <td>Yes</td>\n",
       "      <td>Private</td>\n",
       "      <td>Urban</td>\n",
       "      <td>87.40</td>\n",
       "      <td>24.5</td>\n",
       "      <td>formerly smoked</td>\n",
       "      <td>0</td>\n",
       "    </tr>\n",
       "    <tr>\n",
       "      <th>1</th>\n",
       "      <td>Female</td>\n",
       "      <td>13.0</td>\n",
       "      <td>0</td>\n",
       "      <td>0</td>\n",
       "      <td>No</td>\n",
       "      <td>children</td>\n",
       "      <td>Rural</td>\n",
       "      <td>73.48</td>\n",
       "      <td>22.9</td>\n",
       "      <td>never smoked</td>\n",
       "      <td>0</td>\n",
       "    </tr>\n",
       "    <tr>\n",
       "      <th>2</th>\n",
       "      <td>Male</td>\n",
       "      <td>54.0</td>\n",
       "      <td>0</td>\n",
       "      <td>0</td>\n",
       "      <td>Yes</td>\n",
       "      <td>Private</td>\n",
       "      <td>Urban</td>\n",
       "      <td>111.37</td>\n",
       "      <td>29.1</td>\n",
       "      <td>formerly smoked</td>\n",
       "      <td>0</td>\n",
       "    </tr>\n",
       "    <tr>\n",
       "      <th>3</th>\n",
       "      <td>Male</td>\n",
       "      <td>81.0</td>\n",
       "      <td>0</td>\n",
       "      <td>0</td>\n",
       "      <td>Yes</td>\n",
       "      <td>Self-employed</td>\n",
       "      <td>Urban</td>\n",
       "      <td>99.33</td>\n",
       "      <td>33.7</td>\n",
       "      <td>never smoked</td>\n",
       "      <td>1</td>\n",
       "    </tr>\n",
       "    <tr>\n",
       "      <th>4</th>\n",
       "      <td>Female</td>\n",
       "      <td>76.0</td>\n",
       "      <td>0</td>\n",
       "      <td>0</td>\n",
       "      <td>Yes</td>\n",
       "      <td>Self-employed</td>\n",
       "      <td>Urban</td>\n",
       "      <td>106.41</td>\n",
       "      <td>28.2</td>\n",
       "      <td>formerly smoked</td>\n",
       "      <td>1</td>\n",
       "    </tr>\n",
       "  </tbody>\n",
       "</table>\n",
       "</div>\n",
       "    <div class=\"colab-df-buttons\">\n",
       "\n",
       "  <div class=\"colab-df-container\">\n",
       "    <button class=\"colab-df-convert\" onclick=\"convertToInteractive('df-387123a6-bb04-41b3-ae4d-39408d055511')\"\n",
       "            title=\"Convert this dataframe to an interactive table.\"\n",
       "            style=\"display:none;\">\n",
       "\n",
       "  <svg xmlns=\"http://www.w3.org/2000/svg\" height=\"24px\" viewBox=\"0 -960 960 960\">\n",
       "    <path d=\"M120-120v-720h720v720H120Zm60-500h600v-160H180v160Zm220 220h160v-160H400v160Zm0 220h160v-160H400v160ZM180-400h160v-160H180v160Zm440 0h160v-160H620v160ZM180-180h160v-160H180v160Zm440 0h160v-160H620v160Z\"/>\n",
       "  </svg>\n",
       "    </button>\n",
       "\n",
       "  <style>\n",
       "    .colab-df-container {\n",
       "      display:flex;\n",
       "      gap: 12px;\n",
       "    }\n",
       "\n",
       "    .colab-df-convert {\n",
       "      background-color: #E8F0FE;\n",
       "      border: none;\n",
       "      border-radius: 50%;\n",
       "      cursor: pointer;\n",
       "      display: none;\n",
       "      fill: #1967D2;\n",
       "      height: 32px;\n",
       "      padding: 0 0 0 0;\n",
       "      width: 32px;\n",
       "    }\n",
       "\n",
       "    .colab-df-convert:hover {\n",
       "      background-color: #E2EBFA;\n",
       "      box-shadow: 0px 1px 2px rgba(60, 64, 67, 0.3), 0px 1px 3px 1px rgba(60, 64, 67, 0.15);\n",
       "      fill: #174EA6;\n",
       "    }\n",
       "\n",
       "    .colab-df-buttons div {\n",
       "      margin-bottom: 4px;\n",
       "    }\n",
       "\n",
       "    [theme=dark] .colab-df-convert {\n",
       "      background-color: #3B4455;\n",
       "      fill: #D2E3FC;\n",
       "    }\n",
       "\n",
       "    [theme=dark] .colab-df-convert:hover {\n",
       "      background-color: #434B5C;\n",
       "      box-shadow: 0px 1px 3px 1px rgba(0, 0, 0, 0.15);\n",
       "      filter: drop-shadow(0px 1px 2px rgba(0, 0, 0, 0.3));\n",
       "      fill: #FFFFFF;\n",
       "    }\n",
       "  </style>\n",
       "\n",
       "    <script>\n",
       "      const buttonEl =\n",
       "        document.querySelector('#df-387123a6-bb04-41b3-ae4d-39408d055511 button.colab-df-convert');\n",
       "      buttonEl.style.display =\n",
       "        google.colab.kernel.accessAllowed ? 'block' : 'none';\n",
       "\n",
       "      async function convertToInteractive(key) {\n",
       "        const element = document.querySelector('#df-387123a6-bb04-41b3-ae4d-39408d055511');\n",
       "        const dataTable =\n",
       "          await google.colab.kernel.invokeFunction('convertToInteractive',\n",
       "                                                    [key], {});\n",
       "        if (!dataTable) return;\n",
       "\n",
       "        const docLinkHtml = 'Like what you see? Visit the ' +\n",
       "          '<a target=\"_blank\" href=https://colab.research.google.com/notebooks/data_table.ipynb>data table notebook</a>'\n",
       "          + ' to learn more about interactive tables.';\n",
       "        element.innerHTML = '';\n",
       "        dataTable['output_type'] = 'display_data';\n",
       "        await google.colab.output.renderOutput(dataTable, element);\n",
       "        const docLink = document.createElement('div');\n",
       "        docLink.innerHTML = docLinkHtml;\n",
       "        element.appendChild(docLink);\n",
       "      }\n",
       "    </script>\n",
       "  </div>\n",
       "\n",
       "\n",
       "<div id=\"df-64c67f85-a42d-4f75-9b3d-ffa9a5634473\">\n",
       "  <button class=\"colab-df-quickchart\" onclick=\"quickchart('df-64c67f85-a42d-4f75-9b3d-ffa9a5634473')\"\n",
       "            title=\"Suggest charts\"\n",
       "            style=\"display:none;\">\n",
       "\n",
       "<svg xmlns=\"http://www.w3.org/2000/svg\" height=\"24px\"viewBox=\"0 0 24 24\"\n",
       "     width=\"24px\">\n",
       "    <g>\n",
       "        <path d=\"M19 3H5c-1.1 0-2 .9-2 2v14c0 1.1.9 2 2 2h14c1.1 0 2-.9 2-2V5c0-1.1-.9-2-2-2zM9 17H7v-7h2v7zm4 0h-2V7h2v10zm4 0h-2v-4h2v4z\"/>\n",
       "    </g>\n",
       "</svg>\n",
       "  </button>\n",
       "\n",
       "<style>\n",
       "  .colab-df-quickchart {\n",
       "      --bg-color: #E8F0FE;\n",
       "      --fill-color: #1967D2;\n",
       "      --hover-bg-color: #E2EBFA;\n",
       "      --hover-fill-color: #174EA6;\n",
       "      --disabled-fill-color: #AAA;\n",
       "      --disabled-bg-color: #DDD;\n",
       "  }\n",
       "\n",
       "  [theme=dark] .colab-df-quickchart {\n",
       "      --bg-color: #3B4455;\n",
       "      --fill-color: #D2E3FC;\n",
       "      --hover-bg-color: #434B5C;\n",
       "      --hover-fill-color: #FFFFFF;\n",
       "      --disabled-bg-color: #3B4455;\n",
       "      --disabled-fill-color: #666;\n",
       "  }\n",
       "\n",
       "  .colab-df-quickchart {\n",
       "    background-color: var(--bg-color);\n",
       "    border: none;\n",
       "    border-radius: 50%;\n",
       "    cursor: pointer;\n",
       "    display: none;\n",
       "    fill: var(--fill-color);\n",
       "    height: 32px;\n",
       "    padding: 0;\n",
       "    width: 32px;\n",
       "  }\n",
       "\n",
       "  .colab-df-quickchart:hover {\n",
       "    background-color: var(--hover-bg-color);\n",
       "    box-shadow: 0 1px 2px rgba(60, 64, 67, 0.3), 0 1px 3px 1px rgba(60, 64, 67, 0.15);\n",
       "    fill: var(--button-hover-fill-color);\n",
       "  }\n",
       "\n",
       "  .colab-df-quickchart-complete:disabled,\n",
       "  .colab-df-quickchart-complete:disabled:hover {\n",
       "    background-color: var(--disabled-bg-color);\n",
       "    fill: var(--disabled-fill-color);\n",
       "    box-shadow: none;\n",
       "  }\n",
       "\n",
       "  .colab-df-spinner {\n",
       "    border: 2px solid var(--fill-color);\n",
       "    border-color: transparent;\n",
       "    border-bottom-color: var(--fill-color);\n",
       "    animation:\n",
       "      spin 1s steps(1) infinite;\n",
       "  }\n",
       "\n",
       "  @keyframes spin {\n",
       "    0% {\n",
       "      border-color: transparent;\n",
       "      border-bottom-color: var(--fill-color);\n",
       "      border-left-color: var(--fill-color);\n",
       "    }\n",
       "    20% {\n",
       "      border-color: transparent;\n",
       "      border-left-color: var(--fill-color);\n",
       "      border-top-color: var(--fill-color);\n",
       "    }\n",
       "    30% {\n",
       "      border-color: transparent;\n",
       "      border-left-color: var(--fill-color);\n",
       "      border-top-color: var(--fill-color);\n",
       "      border-right-color: var(--fill-color);\n",
       "    }\n",
       "    40% {\n",
       "      border-color: transparent;\n",
       "      border-right-color: var(--fill-color);\n",
       "      border-top-color: var(--fill-color);\n",
       "    }\n",
       "    60% {\n",
       "      border-color: transparent;\n",
       "      border-right-color: var(--fill-color);\n",
       "    }\n",
       "    80% {\n",
       "      border-color: transparent;\n",
       "      border-right-color: var(--fill-color);\n",
       "      border-bottom-color: var(--fill-color);\n",
       "    }\n",
       "    90% {\n",
       "      border-color: transparent;\n",
       "      border-bottom-color: var(--fill-color);\n",
       "    }\n",
       "  }\n",
       "</style>\n",
       "\n",
       "  <script>\n",
       "    async function quickchart(key) {\n",
       "      const quickchartButtonEl =\n",
       "        document.querySelector('#' + key + ' button');\n",
       "      quickchartButtonEl.disabled = true;  // To prevent multiple clicks.\n",
       "      quickchartButtonEl.classList.add('colab-df-spinner');\n",
       "      try {\n",
       "        const charts = await google.colab.kernel.invokeFunction(\n",
       "            'suggestCharts', [key], {});\n",
       "      } catch (error) {\n",
       "        console.error('Error during call to suggestCharts:', error);\n",
       "      }\n",
       "      quickchartButtonEl.classList.remove('colab-df-spinner');\n",
       "      quickchartButtonEl.classList.add('colab-df-quickchart-complete');\n",
       "    }\n",
       "    (() => {\n",
       "      let quickchartButtonEl =\n",
       "        document.querySelector('#df-64c67f85-a42d-4f75-9b3d-ffa9a5634473 button');\n",
       "      quickchartButtonEl.style.display =\n",
       "        google.colab.kernel.accessAllowed ? 'block' : 'none';\n",
       "    })();\n",
       "  </script>\n",
       "</div>\n",
       "    </div>\n",
       "  </div>\n"
      ],
      "text/plain": [
       "   gender   age  hypertension  heart_disease ever_married      work_type  \\\n",
       "0  Female  42.0             0              0          Yes        Private   \n",
       "1  Female  13.0             0              0           No       children   \n",
       "2    Male  54.0             0              0          Yes        Private   \n",
       "3    Male  81.0             0              0          Yes  Self-employed   \n",
       "4  Female  76.0             0              0          Yes  Self-employed   \n",
       "\n",
       "  Residence_type  avg_glucose_level   bmi   smoking_status  stroke  \n",
       "0          Urban              87.40  24.5  formerly smoked       0  \n",
       "1          Rural              73.48  22.9     never smoked       0  \n",
       "2          Urban             111.37  29.1  formerly smoked       0  \n",
       "3          Urban              99.33  33.7     never smoked       1  \n",
       "4          Urban             106.41  28.2  formerly smoked       1  "
      ]
     },
     "execution_count": 13,
     "metadata": {},
     "output_type": "execute_result"
    }
   ],
   "source": [
    "numerical_cols=['age','avg_glucose_level', 'bmi']\n",
    "for col in numerical_cols:\n",
    "    # Calculate Q1 and Q3\n",
    "    Q1 = df[col].quantile(0.25)\n",
    "    Q3 = df[col].quantile(0.75)\n",
    "\n",
    "    # IQR is Q3 - Q1\n",
    "    IQR = Q3 - Q1\n",
    "\n",
    "    # Define bounds for outliers\n",
    "    lower_bound = Q1 - 1.5 * IQR\n",
    "    upper_bound = Q3 + 1.5 * IQR\n",
    "\n",
    "    # Filtering the DataFrame to remove outliers\n",
    "    df = df[(df[col] >= lower_bound) & (df[col] <= upper_bound)]\n",
    "\n",
    "# Resulting DataFrame without outliers\n",
    "df.head()"
   ]
  },
  {
   "cell_type": "markdown",
   "metadata": {
    "id": "njzhjCRq3RTB"
   },
   "source": [
    "**Label Encoding:**"
   ]
  },
  {
   "cell_type": "code",
   "execution_count": 14,
   "metadata": {
    "colab": {
     "base_uri": "https://localhost:8080/"
    },
    "id": "M2dNp4UbJO8y",
    "outputId": "b4e2289c-1b30-4027-9c00-ccd1e8b2fa5c"
   },
   "outputs": [
    {
     "name": "stdout",
     "output_type": "stream",
     "text": [
      "<class 'pandas.core.frame.DataFrame'>\n",
      "Int64Index: 4679 entries, 0 to 5508\n",
      "Data columns (total 11 columns):\n",
      " #   Column             Non-Null Count  Dtype  \n",
      "---  ------             --------------  -----  \n",
      " 0   gender             4679 non-null   object \n",
      " 1   age                4679 non-null   float64\n",
      " 2   hypertension       4679 non-null   int64  \n",
      " 3   heart_disease      4679 non-null   int64  \n",
      " 4   ever_married       4679 non-null   object \n",
      " 5   work_type          4679 non-null   object \n",
      " 6   Residence_type     4679 non-null   object \n",
      " 7   avg_glucose_level  4679 non-null   float64\n",
      " 8   bmi                4679 non-null   float64\n",
      " 9   smoking_status     4679 non-null   object \n",
      " 10  stroke             4679 non-null   int64  \n",
      "dtypes: float64(3), int64(3), object(5)\n",
      "memory usage: 438.7+ KB\n"
     ]
    }
   ],
   "source": [
    "df.info()"
   ]
  },
  {
   "cell_type": "code",
   "execution_count": 15,
   "metadata": {
    "colab": {
     "base_uri": "https://localhost:8080/"
    },
    "id": "5cLe42kjJ1yz",
    "outputId": "ace46a6d-4bf7-4197-eee9-cada06c5e712"
   },
   "outputs": [
    {
     "data": {
      "text/plain": [
       "Private          2644\n",
       "Self-employed     742\n",
       "children          676\n",
       "Govt_job          595\n",
       "Never_worked       22\n",
       "Name: work_type, dtype: int64"
      ]
     },
     "execution_count": 15,
     "metadata": {},
     "output_type": "execute_result"
    }
   ],
   "source": [
    "df['work_type'].value_counts()"
   ]
  },
  {
   "cell_type": "code",
   "execution_count": 16,
   "metadata": {
    "id": "C2SFk2_23VCS"
   },
   "outputs": [],
   "source": [
    "categorical_cols = df.select_dtypes(include=['object']).columns.tolist()\n",
    "encoder = LabelEncoder()\n",
    "for column in categorical_cols:\n",
    "    if column in df.columns:\n",
    "        df[column] = encoder.fit_transform(df[column])"
   ]
  },
  {
   "cell_type": "code",
   "execution_count": 17,
   "metadata": {
    "colab": {
     "base_uri": "https://localhost:8080/",
     "height": 206
    },
    "id": "J-GB3xWoG774",
    "outputId": "6c893ab2-60a4-48a7-e6c7-d05faef41bc9"
   },
   "outputs": [
    {
     "data": {
      "text/html": [
       "\n",
       "  <div id=\"df-bb48a34d-8b65-4cb9-b61a-196eeb99063a\" class=\"colab-df-container\">\n",
       "    <div>\n",
       "<style scoped>\n",
       "    .dataframe tbody tr th:only-of-type {\n",
       "        vertical-align: middle;\n",
       "    }\n",
       "\n",
       "    .dataframe tbody tr th {\n",
       "        vertical-align: top;\n",
       "    }\n",
       "\n",
       "    .dataframe thead th {\n",
       "        text-align: right;\n",
       "    }\n",
       "</style>\n",
       "<table border=\"1\" class=\"dataframe\">\n",
       "  <thead>\n",
       "    <tr style=\"text-align: right;\">\n",
       "      <th></th>\n",
       "      <th>gender</th>\n",
       "      <th>age</th>\n",
       "      <th>hypertension</th>\n",
       "      <th>heart_disease</th>\n",
       "      <th>ever_married</th>\n",
       "      <th>work_type</th>\n",
       "      <th>Residence_type</th>\n",
       "      <th>avg_glucose_level</th>\n",
       "      <th>bmi</th>\n",
       "      <th>smoking_status</th>\n",
       "      <th>stroke</th>\n",
       "    </tr>\n",
       "  </thead>\n",
       "  <tbody>\n",
       "    <tr>\n",
       "      <th>0</th>\n",
       "      <td>0</td>\n",
       "      <td>42.0</td>\n",
       "      <td>0</td>\n",
       "      <td>0</td>\n",
       "      <td>1</td>\n",
       "      <td>2</td>\n",
       "      <td>1</td>\n",
       "      <td>87.40</td>\n",
       "      <td>24.5</td>\n",
       "      <td>0</td>\n",
       "      <td>0</td>\n",
       "    </tr>\n",
       "    <tr>\n",
       "      <th>1</th>\n",
       "      <td>0</td>\n",
       "      <td>13.0</td>\n",
       "      <td>0</td>\n",
       "      <td>0</td>\n",
       "      <td>0</td>\n",
       "      <td>4</td>\n",
       "      <td>0</td>\n",
       "      <td>73.48</td>\n",
       "      <td>22.9</td>\n",
       "      <td>1</td>\n",
       "      <td>0</td>\n",
       "    </tr>\n",
       "    <tr>\n",
       "      <th>2</th>\n",
       "      <td>1</td>\n",
       "      <td>54.0</td>\n",
       "      <td>0</td>\n",
       "      <td>0</td>\n",
       "      <td>1</td>\n",
       "      <td>2</td>\n",
       "      <td>1</td>\n",
       "      <td>111.37</td>\n",
       "      <td>29.1</td>\n",
       "      <td>0</td>\n",
       "      <td>0</td>\n",
       "    </tr>\n",
       "    <tr>\n",
       "      <th>3</th>\n",
       "      <td>1</td>\n",
       "      <td>81.0</td>\n",
       "      <td>0</td>\n",
       "      <td>0</td>\n",
       "      <td>1</td>\n",
       "      <td>3</td>\n",
       "      <td>1</td>\n",
       "      <td>99.33</td>\n",
       "      <td>33.7</td>\n",
       "      <td>1</td>\n",
       "      <td>1</td>\n",
       "    </tr>\n",
       "    <tr>\n",
       "      <th>4</th>\n",
       "      <td>0</td>\n",
       "      <td>76.0</td>\n",
       "      <td>0</td>\n",
       "      <td>0</td>\n",
       "      <td>1</td>\n",
       "      <td>3</td>\n",
       "      <td>1</td>\n",
       "      <td>106.41</td>\n",
       "      <td>28.2</td>\n",
       "      <td>0</td>\n",
       "      <td>1</td>\n",
       "    </tr>\n",
       "  </tbody>\n",
       "</table>\n",
       "</div>\n",
       "    <div class=\"colab-df-buttons\">\n",
       "\n",
       "  <div class=\"colab-df-container\">\n",
       "    <button class=\"colab-df-convert\" onclick=\"convertToInteractive('df-bb48a34d-8b65-4cb9-b61a-196eeb99063a')\"\n",
       "            title=\"Convert this dataframe to an interactive table.\"\n",
       "            style=\"display:none;\">\n",
       "\n",
       "  <svg xmlns=\"http://www.w3.org/2000/svg\" height=\"24px\" viewBox=\"0 -960 960 960\">\n",
       "    <path d=\"M120-120v-720h720v720H120Zm60-500h600v-160H180v160Zm220 220h160v-160H400v160Zm0 220h160v-160H400v160ZM180-400h160v-160H180v160Zm440 0h160v-160H620v160ZM180-180h160v-160H180v160Zm440 0h160v-160H620v160Z\"/>\n",
       "  </svg>\n",
       "    </button>\n",
       "\n",
       "  <style>\n",
       "    .colab-df-container {\n",
       "      display:flex;\n",
       "      gap: 12px;\n",
       "    }\n",
       "\n",
       "    .colab-df-convert {\n",
       "      background-color: #E8F0FE;\n",
       "      border: none;\n",
       "      border-radius: 50%;\n",
       "      cursor: pointer;\n",
       "      display: none;\n",
       "      fill: #1967D2;\n",
       "      height: 32px;\n",
       "      padding: 0 0 0 0;\n",
       "      width: 32px;\n",
       "    }\n",
       "\n",
       "    .colab-df-convert:hover {\n",
       "      background-color: #E2EBFA;\n",
       "      box-shadow: 0px 1px 2px rgba(60, 64, 67, 0.3), 0px 1px 3px 1px rgba(60, 64, 67, 0.15);\n",
       "      fill: #174EA6;\n",
       "    }\n",
       "\n",
       "    .colab-df-buttons div {\n",
       "      margin-bottom: 4px;\n",
       "    }\n",
       "\n",
       "    [theme=dark] .colab-df-convert {\n",
       "      background-color: #3B4455;\n",
       "      fill: #D2E3FC;\n",
       "    }\n",
       "\n",
       "    [theme=dark] .colab-df-convert:hover {\n",
       "      background-color: #434B5C;\n",
       "      box-shadow: 0px 1px 3px 1px rgba(0, 0, 0, 0.15);\n",
       "      filter: drop-shadow(0px 1px 2px rgba(0, 0, 0, 0.3));\n",
       "      fill: #FFFFFF;\n",
       "    }\n",
       "  </style>\n",
       "\n",
       "    <script>\n",
       "      const buttonEl =\n",
       "        document.querySelector('#df-bb48a34d-8b65-4cb9-b61a-196eeb99063a button.colab-df-convert');\n",
       "      buttonEl.style.display =\n",
       "        google.colab.kernel.accessAllowed ? 'block' : 'none';\n",
       "\n",
       "      async function convertToInteractive(key) {\n",
       "        const element = document.querySelector('#df-bb48a34d-8b65-4cb9-b61a-196eeb99063a');\n",
       "        const dataTable =\n",
       "          await google.colab.kernel.invokeFunction('convertToInteractive',\n",
       "                                                    [key], {});\n",
       "        if (!dataTable) return;\n",
       "\n",
       "        const docLinkHtml = 'Like what you see? Visit the ' +\n",
       "          '<a target=\"_blank\" href=https://colab.research.google.com/notebooks/data_table.ipynb>data table notebook</a>'\n",
       "          + ' to learn more about interactive tables.';\n",
       "        element.innerHTML = '';\n",
       "        dataTable['output_type'] = 'display_data';\n",
       "        await google.colab.output.renderOutput(dataTable, element);\n",
       "        const docLink = document.createElement('div');\n",
       "        docLink.innerHTML = docLinkHtml;\n",
       "        element.appendChild(docLink);\n",
       "      }\n",
       "    </script>\n",
       "  </div>\n",
       "\n",
       "\n",
       "<div id=\"df-89e3ed48-c7fe-4689-b292-b4df93f0406e\">\n",
       "  <button class=\"colab-df-quickchart\" onclick=\"quickchart('df-89e3ed48-c7fe-4689-b292-b4df93f0406e')\"\n",
       "            title=\"Suggest charts\"\n",
       "            style=\"display:none;\">\n",
       "\n",
       "<svg xmlns=\"http://www.w3.org/2000/svg\" height=\"24px\"viewBox=\"0 0 24 24\"\n",
       "     width=\"24px\">\n",
       "    <g>\n",
       "        <path d=\"M19 3H5c-1.1 0-2 .9-2 2v14c0 1.1.9 2 2 2h14c1.1 0 2-.9 2-2V5c0-1.1-.9-2-2-2zM9 17H7v-7h2v7zm4 0h-2V7h2v10zm4 0h-2v-4h2v4z\"/>\n",
       "    </g>\n",
       "</svg>\n",
       "  </button>\n",
       "\n",
       "<style>\n",
       "  .colab-df-quickchart {\n",
       "      --bg-color: #E8F0FE;\n",
       "      --fill-color: #1967D2;\n",
       "      --hover-bg-color: #E2EBFA;\n",
       "      --hover-fill-color: #174EA6;\n",
       "      --disabled-fill-color: #AAA;\n",
       "      --disabled-bg-color: #DDD;\n",
       "  }\n",
       "\n",
       "  [theme=dark] .colab-df-quickchart {\n",
       "      --bg-color: #3B4455;\n",
       "      --fill-color: #D2E3FC;\n",
       "      --hover-bg-color: #434B5C;\n",
       "      --hover-fill-color: #FFFFFF;\n",
       "      --disabled-bg-color: #3B4455;\n",
       "      --disabled-fill-color: #666;\n",
       "  }\n",
       "\n",
       "  .colab-df-quickchart {\n",
       "    background-color: var(--bg-color);\n",
       "    border: none;\n",
       "    border-radius: 50%;\n",
       "    cursor: pointer;\n",
       "    display: none;\n",
       "    fill: var(--fill-color);\n",
       "    height: 32px;\n",
       "    padding: 0;\n",
       "    width: 32px;\n",
       "  }\n",
       "\n",
       "  .colab-df-quickchart:hover {\n",
       "    background-color: var(--hover-bg-color);\n",
       "    box-shadow: 0 1px 2px rgba(60, 64, 67, 0.3), 0 1px 3px 1px rgba(60, 64, 67, 0.15);\n",
       "    fill: var(--button-hover-fill-color);\n",
       "  }\n",
       "\n",
       "  .colab-df-quickchart-complete:disabled,\n",
       "  .colab-df-quickchart-complete:disabled:hover {\n",
       "    background-color: var(--disabled-bg-color);\n",
       "    fill: var(--disabled-fill-color);\n",
       "    box-shadow: none;\n",
       "  }\n",
       "\n",
       "  .colab-df-spinner {\n",
       "    border: 2px solid var(--fill-color);\n",
       "    border-color: transparent;\n",
       "    border-bottom-color: var(--fill-color);\n",
       "    animation:\n",
       "      spin 1s steps(1) infinite;\n",
       "  }\n",
       "\n",
       "  @keyframes spin {\n",
       "    0% {\n",
       "      border-color: transparent;\n",
       "      border-bottom-color: var(--fill-color);\n",
       "      border-left-color: var(--fill-color);\n",
       "    }\n",
       "    20% {\n",
       "      border-color: transparent;\n",
       "      border-left-color: var(--fill-color);\n",
       "      border-top-color: var(--fill-color);\n",
       "    }\n",
       "    30% {\n",
       "      border-color: transparent;\n",
       "      border-left-color: var(--fill-color);\n",
       "      border-top-color: var(--fill-color);\n",
       "      border-right-color: var(--fill-color);\n",
       "    }\n",
       "    40% {\n",
       "      border-color: transparent;\n",
       "      border-right-color: var(--fill-color);\n",
       "      border-top-color: var(--fill-color);\n",
       "    }\n",
       "    60% {\n",
       "      border-color: transparent;\n",
       "      border-right-color: var(--fill-color);\n",
       "    }\n",
       "    80% {\n",
       "      border-color: transparent;\n",
       "      border-right-color: var(--fill-color);\n",
       "      border-bottom-color: var(--fill-color);\n",
       "    }\n",
       "    90% {\n",
       "      border-color: transparent;\n",
       "      border-bottom-color: var(--fill-color);\n",
       "    }\n",
       "  }\n",
       "</style>\n",
       "\n",
       "  <script>\n",
       "    async function quickchart(key) {\n",
       "      const quickchartButtonEl =\n",
       "        document.querySelector('#' + key + ' button');\n",
       "      quickchartButtonEl.disabled = true;  // To prevent multiple clicks.\n",
       "      quickchartButtonEl.classList.add('colab-df-spinner');\n",
       "      try {\n",
       "        const charts = await google.colab.kernel.invokeFunction(\n",
       "            'suggestCharts', [key], {});\n",
       "      } catch (error) {\n",
       "        console.error('Error during call to suggestCharts:', error);\n",
       "      }\n",
       "      quickchartButtonEl.classList.remove('colab-df-spinner');\n",
       "      quickchartButtonEl.classList.add('colab-df-quickchart-complete');\n",
       "    }\n",
       "    (() => {\n",
       "      let quickchartButtonEl =\n",
       "        document.querySelector('#df-89e3ed48-c7fe-4689-b292-b4df93f0406e button');\n",
       "      quickchartButtonEl.style.display =\n",
       "        google.colab.kernel.accessAllowed ? 'block' : 'none';\n",
       "    })();\n",
       "  </script>\n",
       "</div>\n",
       "    </div>\n",
       "  </div>\n"
      ],
      "text/plain": [
       "   gender   age  hypertension  heart_disease  ever_married  work_type  \\\n",
       "0       0  42.0             0              0             1          2   \n",
       "1       0  13.0             0              0             0          4   \n",
       "2       1  54.0             0              0             1          2   \n",
       "3       1  81.0             0              0             1          3   \n",
       "4       0  76.0             0              0             1          3   \n",
       "\n",
       "   Residence_type  avg_glucose_level   bmi  smoking_status  stroke  \n",
       "0               1              87.40  24.5               0       0  \n",
       "1               0              73.48  22.9               1       0  \n",
       "2               1             111.37  29.1               0       0  \n",
       "3               1              99.33  33.7               1       1  \n",
       "4               1             106.41  28.2               0       1  "
      ]
     },
     "execution_count": 17,
     "metadata": {},
     "output_type": "execute_result"
    }
   ],
   "source": [
    "df.head()"
   ]
  },
  {
   "cell_type": "markdown",
   "metadata": {
    "id": "YR4Unen2HgBg"
   },
   "source": [
    "**Feature Scaling:**"
   ]
  },
  {
   "cell_type": "code",
   "execution_count": 18,
   "metadata": {
    "id": "uEL47soPKk4I"
   },
   "outputs": [],
   "source": [
    "# Initialize the StandardScaler\n",
    "scaler = StandardScaler()\n",
    "\n",
    "# Scale the numerical columns\n",
    "df[numerical_cols] = scaler.fit_transform(df[numerical_cols])"
   ]
  },
  {
   "cell_type": "code",
   "execution_count": 19,
   "metadata": {
    "colab": {
     "base_uri": "https://localhost:8080/",
     "height": 206
    },
    "id": "ybM6L_P8RDVs",
    "outputId": "235b1044-a17a-4b21-a5a7-8f41fdad07f0"
   },
   "outputs": [
    {
     "data": {
      "text/html": [
       "\n",
       "  <div id=\"df-1aaa0469-c020-4e93-ba44-759fce745fff\" class=\"colab-df-container\">\n",
       "    <div>\n",
       "<style scoped>\n",
       "    .dataframe tbody tr th:only-of-type {\n",
       "        vertical-align: middle;\n",
       "    }\n",
       "\n",
       "    .dataframe tbody tr th {\n",
       "        vertical-align: top;\n",
       "    }\n",
       "\n",
       "    .dataframe thead th {\n",
       "        text-align: right;\n",
       "    }\n",
       "</style>\n",
       "<table border=\"1\" class=\"dataframe\">\n",
       "  <thead>\n",
       "    <tr style=\"text-align: right;\">\n",
       "      <th></th>\n",
       "      <th>gender</th>\n",
       "      <th>age</th>\n",
       "      <th>hypertension</th>\n",
       "      <th>heart_disease</th>\n",
       "      <th>ever_married</th>\n",
       "      <th>work_type</th>\n",
       "      <th>Residence_type</th>\n",
       "      <th>avg_glucose_level</th>\n",
       "      <th>bmi</th>\n",
       "      <th>smoking_status</th>\n",
       "      <th>stroke</th>\n",
       "    </tr>\n",
       "  </thead>\n",
       "  <tbody>\n",
       "    <tr>\n",
       "      <th>0</th>\n",
       "      <td>0</td>\n",
       "      <td>-0.025811</td>\n",
       "      <td>0</td>\n",
       "      <td>0</td>\n",
       "      <td>1</td>\n",
       "      <td>2</td>\n",
       "      <td>1</td>\n",
       "      <td>-0.183106</td>\n",
       "      <td>-0.517557</td>\n",
       "      <td>0</td>\n",
       "      <td>0</td>\n",
       "    </tr>\n",
       "    <tr>\n",
       "      <th>1</th>\n",
       "      <td>0</td>\n",
       "      <td>-1.285601</td>\n",
       "      <td>0</td>\n",
       "      <td>0</td>\n",
       "      <td>0</td>\n",
       "      <td>4</td>\n",
       "      <td>0</td>\n",
       "      <td>-0.786333</td>\n",
       "      <td>-0.768503</td>\n",
       "      <td>1</td>\n",
       "      <td>0</td>\n",
       "    </tr>\n",
       "    <tr>\n",
       "      <th>2</th>\n",
       "      <td>1</td>\n",
       "      <td>0.495481</td>\n",
       "      <td>0</td>\n",
       "      <td>0</td>\n",
       "      <td>1</td>\n",
       "      <td>2</td>\n",
       "      <td>1</td>\n",
       "      <td>0.855641</td>\n",
       "      <td>0.203914</td>\n",
       "      <td>0</td>\n",
       "      <td>0</td>\n",
       "    </tr>\n",
       "    <tr>\n",
       "      <th>3</th>\n",
       "      <td>1</td>\n",
       "      <td>1.668389</td>\n",
       "      <td>0</td>\n",
       "      <td>0</td>\n",
       "      <td>1</td>\n",
       "      <td>3</td>\n",
       "      <td>1</td>\n",
       "      <td>0.333884</td>\n",
       "      <td>0.925385</td>\n",
       "      <td>1</td>\n",
       "      <td>1</td>\n",
       "    </tr>\n",
       "    <tr>\n",
       "      <th>4</th>\n",
       "      <td>0</td>\n",
       "      <td>1.451184</td>\n",
       "      <td>0</td>\n",
       "      <td>0</td>\n",
       "      <td>1</td>\n",
       "      <td>3</td>\n",
       "      <td>1</td>\n",
       "      <td>0.640698</td>\n",
       "      <td>0.062757</td>\n",
       "      <td>0</td>\n",
       "      <td>1</td>\n",
       "    </tr>\n",
       "  </tbody>\n",
       "</table>\n",
       "</div>\n",
       "    <div class=\"colab-df-buttons\">\n",
       "\n",
       "  <div class=\"colab-df-container\">\n",
       "    <button class=\"colab-df-convert\" onclick=\"convertToInteractive('df-1aaa0469-c020-4e93-ba44-759fce745fff')\"\n",
       "            title=\"Convert this dataframe to an interactive table.\"\n",
       "            style=\"display:none;\">\n",
       "\n",
       "  <svg xmlns=\"http://www.w3.org/2000/svg\" height=\"24px\" viewBox=\"0 -960 960 960\">\n",
       "    <path d=\"M120-120v-720h720v720H120Zm60-500h600v-160H180v160Zm220 220h160v-160H400v160Zm0 220h160v-160H400v160ZM180-400h160v-160H180v160Zm440 0h160v-160H620v160ZM180-180h160v-160H180v160Zm440 0h160v-160H620v160Z\"/>\n",
       "  </svg>\n",
       "    </button>\n",
       "\n",
       "  <style>\n",
       "    .colab-df-container {\n",
       "      display:flex;\n",
       "      gap: 12px;\n",
       "    }\n",
       "\n",
       "    .colab-df-convert {\n",
       "      background-color: #E8F0FE;\n",
       "      border: none;\n",
       "      border-radius: 50%;\n",
       "      cursor: pointer;\n",
       "      display: none;\n",
       "      fill: #1967D2;\n",
       "      height: 32px;\n",
       "      padding: 0 0 0 0;\n",
       "      width: 32px;\n",
       "    }\n",
       "\n",
       "    .colab-df-convert:hover {\n",
       "      background-color: #E2EBFA;\n",
       "      box-shadow: 0px 1px 2px rgba(60, 64, 67, 0.3), 0px 1px 3px 1px rgba(60, 64, 67, 0.15);\n",
       "      fill: #174EA6;\n",
       "    }\n",
       "\n",
       "    .colab-df-buttons div {\n",
       "      margin-bottom: 4px;\n",
       "    }\n",
       "\n",
       "    [theme=dark] .colab-df-convert {\n",
       "      background-color: #3B4455;\n",
       "      fill: #D2E3FC;\n",
       "    }\n",
       "\n",
       "    [theme=dark] .colab-df-convert:hover {\n",
       "      background-color: #434B5C;\n",
       "      box-shadow: 0px 1px 3px 1px rgba(0, 0, 0, 0.15);\n",
       "      filter: drop-shadow(0px 1px 2px rgba(0, 0, 0, 0.3));\n",
       "      fill: #FFFFFF;\n",
       "    }\n",
       "  </style>\n",
       "\n",
       "    <script>\n",
       "      const buttonEl =\n",
       "        document.querySelector('#df-1aaa0469-c020-4e93-ba44-759fce745fff button.colab-df-convert');\n",
       "      buttonEl.style.display =\n",
       "        google.colab.kernel.accessAllowed ? 'block' : 'none';\n",
       "\n",
       "      async function convertToInteractive(key) {\n",
       "        const element = document.querySelector('#df-1aaa0469-c020-4e93-ba44-759fce745fff');\n",
       "        const dataTable =\n",
       "          await google.colab.kernel.invokeFunction('convertToInteractive',\n",
       "                                                    [key], {});\n",
       "        if (!dataTable) return;\n",
       "\n",
       "        const docLinkHtml = 'Like what you see? Visit the ' +\n",
       "          '<a target=\"_blank\" href=https://colab.research.google.com/notebooks/data_table.ipynb>data table notebook</a>'\n",
       "          + ' to learn more about interactive tables.';\n",
       "        element.innerHTML = '';\n",
       "        dataTable['output_type'] = 'display_data';\n",
       "        await google.colab.output.renderOutput(dataTable, element);\n",
       "        const docLink = document.createElement('div');\n",
       "        docLink.innerHTML = docLinkHtml;\n",
       "        element.appendChild(docLink);\n",
       "      }\n",
       "    </script>\n",
       "  </div>\n",
       "\n",
       "\n",
       "<div id=\"df-3d74bccf-e431-4435-8f96-f52d2ec66117\">\n",
       "  <button class=\"colab-df-quickchart\" onclick=\"quickchart('df-3d74bccf-e431-4435-8f96-f52d2ec66117')\"\n",
       "            title=\"Suggest charts\"\n",
       "            style=\"display:none;\">\n",
       "\n",
       "<svg xmlns=\"http://www.w3.org/2000/svg\" height=\"24px\"viewBox=\"0 0 24 24\"\n",
       "     width=\"24px\">\n",
       "    <g>\n",
       "        <path d=\"M19 3H5c-1.1 0-2 .9-2 2v14c0 1.1.9 2 2 2h14c1.1 0 2-.9 2-2V5c0-1.1-.9-2-2-2zM9 17H7v-7h2v7zm4 0h-2V7h2v10zm4 0h-2v-4h2v4z\"/>\n",
       "    </g>\n",
       "</svg>\n",
       "  </button>\n",
       "\n",
       "<style>\n",
       "  .colab-df-quickchart {\n",
       "      --bg-color: #E8F0FE;\n",
       "      --fill-color: #1967D2;\n",
       "      --hover-bg-color: #E2EBFA;\n",
       "      --hover-fill-color: #174EA6;\n",
       "      --disabled-fill-color: #AAA;\n",
       "      --disabled-bg-color: #DDD;\n",
       "  }\n",
       "\n",
       "  [theme=dark] .colab-df-quickchart {\n",
       "      --bg-color: #3B4455;\n",
       "      --fill-color: #D2E3FC;\n",
       "      --hover-bg-color: #434B5C;\n",
       "      --hover-fill-color: #FFFFFF;\n",
       "      --disabled-bg-color: #3B4455;\n",
       "      --disabled-fill-color: #666;\n",
       "  }\n",
       "\n",
       "  .colab-df-quickchart {\n",
       "    background-color: var(--bg-color);\n",
       "    border: none;\n",
       "    border-radius: 50%;\n",
       "    cursor: pointer;\n",
       "    display: none;\n",
       "    fill: var(--fill-color);\n",
       "    height: 32px;\n",
       "    padding: 0;\n",
       "    width: 32px;\n",
       "  }\n",
       "\n",
       "  .colab-df-quickchart:hover {\n",
       "    background-color: var(--hover-bg-color);\n",
       "    box-shadow: 0 1px 2px rgba(60, 64, 67, 0.3), 0 1px 3px 1px rgba(60, 64, 67, 0.15);\n",
       "    fill: var(--button-hover-fill-color);\n",
       "  }\n",
       "\n",
       "  .colab-df-quickchart-complete:disabled,\n",
       "  .colab-df-quickchart-complete:disabled:hover {\n",
       "    background-color: var(--disabled-bg-color);\n",
       "    fill: var(--disabled-fill-color);\n",
       "    box-shadow: none;\n",
       "  }\n",
       "\n",
       "  .colab-df-spinner {\n",
       "    border: 2px solid var(--fill-color);\n",
       "    border-color: transparent;\n",
       "    border-bottom-color: var(--fill-color);\n",
       "    animation:\n",
       "      spin 1s steps(1) infinite;\n",
       "  }\n",
       "\n",
       "  @keyframes spin {\n",
       "    0% {\n",
       "      border-color: transparent;\n",
       "      border-bottom-color: var(--fill-color);\n",
       "      border-left-color: var(--fill-color);\n",
       "    }\n",
       "    20% {\n",
       "      border-color: transparent;\n",
       "      border-left-color: var(--fill-color);\n",
       "      border-top-color: var(--fill-color);\n",
       "    }\n",
       "    30% {\n",
       "      border-color: transparent;\n",
       "      border-left-color: var(--fill-color);\n",
       "      border-top-color: var(--fill-color);\n",
       "      border-right-color: var(--fill-color);\n",
       "    }\n",
       "    40% {\n",
       "      border-color: transparent;\n",
       "      border-right-color: var(--fill-color);\n",
       "      border-top-color: var(--fill-color);\n",
       "    }\n",
       "    60% {\n",
       "      border-color: transparent;\n",
       "      border-right-color: var(--fill-color);\n",
       "    }\n",
       "    80% {\n",
       "      border-color: transparent;\n",
       "      border-right-color: var(--fill-color);\n",
       "      border-bottom-color: var(--fill-color);\n",
       "    }\n",
       "    90% {\n",
       "      border-color: transparent;\n",
       "      border-bottom-color: var(--fill-color);\n",
       "    }\n",
       "  }\n",
       "</style>\n",
       "\n",
       "  <script>\n",
       "    async function quickchart(key) {\n",
       "      const quickchartButtonEl =\n",
       "        document.querySelector('#' + key + ' button');\n",
       "      quickchartButtonEl.disabled = true;  // To prevent multiple clicks.\n",
       "      quickchartButtonEl.classList.add('colab-df-spinner');\n",
       "      try {\n",
       "        const charts = await google.colab.kernel.invokeFunction(\n",
       "            'suggestCharts', [key], {});\n",
       "      } catch (error) {\n",
       "        console.error('Error during call to suggestCharts:', error);\n",
       "      }\n",
       "      quickchartButtonEl.classList.remove('colab-df-spinner');\n",
       "      quickchartButtonEl.classList.add('colab-df-quickchart-complete');\n",
       "    }\n",
       "    (() => {\n",
       "      let quickchartButtonEl =\n",
       "        document.querySelector('#df-3d74bccf-e431-4435-8f96-f52d2ec66117 button');\n",
       "      quickchartButtonEl.style.display =\n",
       "        google.colab.kernel.accessAllowed ? 'block' : 'none';\n",
       "    })();\n",
       "  </script>\n",
       "</div>\n",
       "    </div>\n",
       "  </div>\n"
      ],
      "text/plain": [
       "   gender       age  hypertension  heart_disease  ever_married  work_type  \\\n",
       "0       0 -0.025811             0              0             1          2   \n",
       "1       0 -1.285601             0              0             0          4   \n",
       "2       1  0.495481             0              0             1          2   \n",
       "3       1  1.668389             0              0             1          3   \n",
       "4       0  1.451184             0              0             1          3   \n",
       "\n",
       "   Residence_type  avg_glucose_level       bmi  smoking_status  stroke  \n",
       "0               1          -0.183106 -0.517557               0       0  \n",
       "1               0          -0.786333 -0.768503               1       0  \n",
       "2               1           0.855641  0.203914               0       0  \n",
       "3               1           0.333884  0.925385               1       1  \n",
       "4               1           0.640698  0.062757               0       1  "
      ]
     },
     "execution_count": 19,
     "metadata": {},
     "output_type": "execute_result"
    }
   ],
   "source": [
    "df.head()"
   ]
  },
  {
   "cell_type": "markdown",
   "metadata": {
    "id": "w3D7zGQ2hjM4"
   },
   "source": [
    "#Model Training & Performance Evaluation"
   ]
  },
  {
   "cell_type": "markdown",
   "metadata": {
    "id": "Nkbh7UE1NU4e"
   },
   "source": [
    "**Train test split:**\n",
    "\n",
    "Splitting the data into 80% training data and 20% test data"
   ]
  },
  {
   "cell_type": "code",
   "execution_count": 20,
   "metadata": {
    "id": "cYrnseaINej5"
   },
   "outputs": [],
   "source": [
    "def get_train_test_splits(df, target_column, test_size=0.2, random_state=42):\n",
    "    \"\"\"\n",
    "    splits the Data into training and test samples\n",
    "    \"\"\"\n",
    "    X = df.drop(target_column, axis=1)\n",
    "    y = df[target_column]\n",
    "    X_train, X_test, y_train, y_test = train_test_split(X, y, test_size=test_size, random_state=random_state, stratify=y)\n",
    "    return X_train, X_test, y_train, y_test"
   ]
  },
  {
   "cell_type": "code",
   "execution_count": 21,
   "metadata": {
    "id": "PuUxe1_FNjwg"
   },
   "outputs": [],
   "source": [
    "X_train, X_test, y_train, y_test = get_train_test_splits(df, 'stroke', test_size=0.2, random_state=42)"
   ]
  },
  {
   "cell_type": "markdown",
   "metadata": {
    "id": "uuchGW00Nlq0"
   },
   "source": [
    "**Balancing Data Set:**"
   ]
  },
  {
   "cell_type": "code",
   "execution_count": 22,
   "metadata": {
    "id": "b4JAjvAgNumU"
   },
   "outputs": [],
   "source": [
    "def get_dataset_balanced(X_train, y_train, random_state=42):\n",
    "    \"\"\"\n",
    "    makes Dataset Balanced\n",
    "    \"\"\"\n",
    "    smt = SMOTETomek(random_state=random_state)\n",
    "    X_resampled, y_resampled = smt.fit_resample(X_train, y_train)\n",
    "    return X_resampled, y_resampled\n"
   ]
  },
  {
   "cell_type": "code",
   "execution_count": 23,
   "metadata": {
    "id": "K-vs8AroNw0x"
   },
   "outputs": [],
   "source": [
    "X_resampled, y_resampled = get_dataset_balanced(X_train, y_train)"
   ]
  },
  {
   "cell_type": "markdown",
   "metadata": {
    "id": "YHUx2T_fPMP1"
   },
   "source": [
    "**Model Training:**"
   ]
  },
  {
   "cell_type": "markdown",
   "metadata": {
    "id": "vIgG_UQ59qO-"
   },
   "source": [
    "* *To create Base model we need to check with all algorithms to understand which algorithm fits best for this dataset.*"
   ]
  },
  {
   "cell_type": "code",
   "execution_count": 24,
   "metadata": {
    "id": "sa97xpLwPKIL"
   },
   "outputs": [],
   "source": [
    "# Instantiation\n",
    "logistic_clf = LogisticRegression(max_iter=1000, random_state=42)\n",
    "svm_clf = SVC(probability=True, random_state=42)\n",
    "knn_clf = KNeighborsClassifier()\n",
    "decision_tree_clf = DecisionTreeClassifier(random_state=42)\n",
    "naive_bayes_clf = GaussianNB()\n",
    "xgb_clf = XGBClassifier(learning_rate=0.3, max_depth=5, n_estimators=50, subsample=1.0,random_state=42)\n",
    "gradient_boosting_clf = GradientBoostingClassifier(learning_rate=0.5, max_depth=5, n_estimators=80, subsample=1.0,random_state=42)\n",
    "random_forest_clf = RandomForestClassifier(n_estimators=100, random_state=42)"
   ]
  },
  {
   "cell_type": "code",
   "execution_count": 25,
   "metadata": {
    "id": "i3MVlBTKPiCg"
   },
   "outputs": [],
   "source": [
    "classifiers = {\n",
    "    'Logistic Regression': logistic_clf,\n",
    "    'SVM': svm_clf,\n",
    "    'KNN': knn_clf,\n",
    "    'Decision Tree': decision_tree_clf,\n",
    "    'Naive Bayes': naive_bayes_clf,\n",
    "    'Gradient Boosting': gradient_boosting_clf,\n",
    "    'XGBoost': xgb_clf\n",
    "}"
   ]
  },
  {
   "cell_type": "markdown",
   "metadata": {
    "id": "d3UEM_YtTPQ7"
   },
   "source": [
    "**Training:**"
   ]
  },
  {
   "cell_type": "code",
   "execution_count": 26,
   "metadata": {
    "id": "yvJT_tkWTP2K"
   },
   "outputs": [],
   "source": [
    "# Training the Classifiers\n",
    "trained_classifiers = {}\n",
    "\n",
    "for name, clf in classifiers.items():\n",
    "    clf.fit(X_resampled, y_resampled)\n",
    "    trained_classifiers[name] = clf"
   ]
  },
  {
   "cell_type": "markdown",
   "metadata": {
    "id": "xbjnJa51TluQ"
   },
   "source": [
    "**Performance Evaluation:**"
   ]
  },
  {
   "cell_type": "code",
   "execution_count": 27,
   "metadata": {
    "id": "zHv8R4WeT3ZF"
   },
   "outputs": [],
   "source": [
    "def evaluate_classifier_metrics(classifier, X_test, y_test):\n",
    "    \"\"\"\n",
    "    Evaluates a classifier's performance and returns various classification metrics.\n",
    "    \"\"\"\n",
    "    # Predict\n",
    "    y_pred = classifier.predict(X_test)\n",
    "\n",
    "    # Calculate metrics\n",
    "    accuracy = accuracy_score(y_test, y_pred)\n",
    "    precision = precision_score(y_test, y_pred, average='binary')\n",
    "    recall = recall_score(y_test, y_pred, average='binary')\n",
    "    f1 = f1_score(y_test, y_pred, average='binary')\n",
    "\n",
    "    # Check if classifier can predict probabilities\n",
    "    if hasattr(classifier, 'predict_proba'):\n",
    "        y_pred_proba = classifier.predict_proba(X_test)[:, 1]\n",
    "        roc_auc = roc_auc_score(y_test, y_pred_proba)\n",
    "    else:\n",
    "        roc_auc = 'N/A'\n",
    "\n",
    "    return {\n",
    "        'Accuracy': accuracy,\n",
    "        'Precision': precision,\n",
    "        'Recall': recall,\n",
    "        'F1 Score': f1,\n",
    "        'ROC-AUC': roc_auc\n",
    "    }"
   ]
  },
  {
   "cell_type": "code",
   "execution_count": 28,
   "metadata": {
    "colab": {
     "base_uri": "https://localhost:8080/"
    },
    "id": "Zs0wdA7cTlJ6",
    "outputId": "f0f40022-e93c-488c-cf6c-f2b73df29fe9"
   },
   "outputs": [
    {
     "name": "stdout",
     "output_type": "stream",
     "text": [
      "                     Accuracy  Precision    Recall  F1 Score   ROC-AUC\n",
      "Logistic Regression  0.737179   0.253968  0.879121  0.394089  0.874140\n",
      "SVM                  0.784188   0.301075  0.923077  0.454054  0.889590\n",
      "KNN                  0.863248   0.407035  0.890110  0.558621  0.939450\n",
      "Decision Tree        0.886752   0.457627  0.890110  0.604478  0.888250\n",
      "Naive Bayes          0.717949   0.232198  0.824176  0.362319  0.835061\n",
      "Gradient Boosting    0.934829   0.615385  0.879121  0.723982  0.959945\n",
      "XGBoost              0.893162   0.473054  0.868132  0.612403  0.940828\n"
     ]
    }
   ],
   "source": [
    "# Evaluating Classifier Performance\n",
    "results = pd.DataFrame()\n",
    "\n",
    "for name, clf in trained_classifiers.items():\n",
    "    metrics = evaluate_classifier_metrics(clf, X_test, y_test)\n",
    "    results[name] = pd.Series(metrics)\n",
    "\n",
    "# Transpose for better view\n",
    "results = results.T\n",
    "\n",
    "# Print the results table\n",
    "print(results)\n"
   ]
  },
  {
   "cell_type": "markdown",
   "metadata": {
    "id": "e0McT5B8KjTw"
   },
   "source": [
    "Note:\n",
    "* This is higly imbalanced dataset we have 88.2% data points belong to the 'No Stroke' class and 11.8% to the 'Stroke' class.And hence we can see low values for Precision and f1 score.\n",
    "\n",
    "* Gradient Boosting has the highest accuracy among other algorithms at 90.17%. So, performing hyperparameter tuning on gradient boosting to improve more."
   ]
  },
  {
   "cell_type": "markdown",
   "metadata": {
    "id": "Z8XBn9dXXTXw"
   },
   "source": [
    "**Hyper Parameter Tuning:**"
   ]
  },
  {
   "cell_type": "code",
   "execution_count": 29,
   "metadata": {
    "colab": {
     "base_uri": "https://localhost:8080/"
    },
    "id": "PqmnHpv-TOcQ",
    "outputId": "fd4ab1d3-c599-4734-dabc-3a0003ac4bf0"
   },
   "outputs": [
    {
     "name": "stdout",
     "output_type": "stream",
     "text": [
      "Fitting 3 folds for each of 81 candidates, totalling 243 fits\n"
     ]
    },
    {
     "data": {
      "text/plain": [
       "({'learning_rate': 0.8, 'max_depth': 5, 'n_estimators': 200, 'subsample': 1.0},\n",
       " 0.9609925399412211)"
      ]
     },
     "execution_count": 29,
     "metadata": {},
     "output_type": "execute_result"
    }
   ],
   "source": [
    "# Define the classifier\n",
    "gradient_boosting_clf = GradientBoostingClassifier(random_state=42)\n",
    "\n",
    "# Define the parameter grid\n",
    "param_grid = {\n",
    "    'n_estimators': [100, 150, 200],\n",
    "    'learning_rate': [0.3, 0.5, 0.8],\n",
    "    'max_depth': [3, 2, 5],\n",
    "    'subsample': [0.9, 0.7, 1.0],\n",
    "}\n",
    "\n",
    "# Grid search\n",
    "grid_search = GridSearchCV(estimator=gradient_boosting_clf, param_grid=param_grid,\n",
    "                           scoring='accuracy', cv=3, verbose=1)\n",
    "\n",
    "grid_search.fit(X_resampled, y_resampled)\n",
    "\n",
    "# Extract best hyperparameters and their corresponding score\n",
    "gb_best_params = grid_search.best_params_\n",
    "gb_best_score = grid_search.best_score_\n",
    "\n",
    "gb_best_params, gb_best_score\n"
   ]
  },
  {
   "cell_type": "code",
   "execution_count": 30,
   "metadata": {
    "colab": {
     "base_uri": "https://localhost:8080/"
    },
    "id": "0M--xQbWO9dT",
    "outputId": "e275f192-701d-41de-94dc-6de13ddc9926"
   },
   "outputs": [
    {
     "name": "stdout",
     "output_type": "stream",
     "text": [
      "Fitting 3 folds for each of 81 candidates, totalling 243 fits\n",
      "[CV] END learning_rate=0.3, max_depth=3, n_estimators=100, subsample=0.9; total time=   0.6s\n",
      "[CV] END learning_rate=0.3, max_depth=3, n_estimators=100, subsample=0.9; total time=   0.6s\n",
      "[CV] END learning_rate=0.3, max_depth=3, n_estimators=100, subsample=0.9; total time=   0.6s\n",
      "[CV] END learning_rate=0.3, max_depth=3, n_estimators=100, subsample=0.7; total time=   0.5s\n",
      "[CV] END learning_rate=0.3, max_depth=3, n_estimators=100, subsample=0.7; total time=   0.5s\n",
      "[CV] END learning_rate=0.3, max_depth=3, n_estimators=100, subsample=0.7; total time=   0.8s\n",
      "[CV] END learning_rate=0.3, max_depth=3, n_estimators=100, subsample=1.0; total time=   0.9s\n",
      "[CV] END learning_rate=0.3, max_depth=3, n_estimators=100, subsample=1.0; total time=   0.9s\n",
      "[CV] END learning_rate=0.3, max_depth=3, n_estimators=100, subsample=1.0; total time=   0.9s\n",
      "[CV] END learning_rate=0.3, max_depth=3, n_estimators=150, subsample=0.9; total time=   1.3s\n",
      "[CV] END learning_rate=0.3, max_depth=3, n_estimators=150, subsample=0.9; total time=   1.3s\n",
      "[CV] END learning_rate=0.3, max_depth=3, n_estimators=150, subsample=0.9; total time=   1.2s\n",
      "[CV] END learning_rate=0.3, max_depth=3, n_estimators=150, subsample=0.7; total time=   0.8s\n",
      "[CV] END learning_rate=0.3, max_depth=3, n_estimators=150, subsample=0.7; total time=   0.8s\n",
      "[CV] END learning_rate=0.3, max_depth=3, n_estimators=150, subsample=0.7; total time=   0.8s\n",
      "[CV] END learning_rate=0.3, max_depth=3, n_estimators=150, subsample=1.0; total time=   0.9s\n",
      "[CV] END learning_rate=0.3, max_depth=3, n_estimators=150, subsample=1.0; total time=   0.9s\n",
      "[CV] END learning_rate=0.3, max_depth=3, n_estimators=150, subsample=1.0; total time=   0.9s\n",
      "[CV] END learning_rate=0.3, max_depth=3, n_estimators=200, subsample=0.9; total time=   1.2s\n",
      "[CV] END learning_rate=0.3, max_depth=3, n_estimators=200, subsample=0.9; total time=   1.2s\n",
      "[CV] END learning_rate=0.3, max_depth=3, n_estimators=200, subsample=0.9; total time=   1.2s\n",
      "[CV] END learning_rate=0.3, max_depth=3, n_estimators=200, subsample=0.7; total time=   1.1s\n",
      "[CV] END learning_rate=0.3, max_depth=3, n_estimators=200, subsample=0.7; total time=   1.5s\n",
      "[CV] END learning_rate=0.3, max_depth=3, n_estimators=200, subsample=0.7; total time=   1.5s\n",
      "[CV] END learning_rate=0.3, max_depth=3, n_estimators=200, subsample=1.0; total time=   1.8s\n",
      "[CV] END learning_rate=0.3, max_depth=3, n_estimators=200, subsample=1.0; total time=   1.8s\n",
      "[CV] END learning_rate=0.3, max_depth=3, n_estimators=200, subsample=1.0; total time=   1.3s\n",
      "[CV] END learning_rate=0.3, max_depth=2, n_estimators=100, subsample=0.9; total time=   0.4s\n",
      "[CV] END learning_rate=0.3, max_depth=2, n_estimators=100, subsample=0.9; total time=   0.4s\n",
      "[CV] END learning_rate=0.3, max_depth=2, n_estimators=100, subsample=0.9; total time=   0.4s\n",
      "[CV] END learning_rate=0.3, max_depth=2, n_estimators=100, subsample=0.7; total time=   0.4s\n",
      "[CV] END learning_rate=0.3, max_depth=2, n_estimators=100, subsample=0.7; total time=   0.4s\n",
      "[CV] END learning_rate=0.3, max_depth=2, n_estimators=100, subsample=0.7; total time=   0.4s\n",
      "[CV] END learning_rate=0.3, max_depth=2, n_estimators=100, subsample=1.0; total time=   0.4s\n",
      "[CV] END learning_rate=0.3, max_depth=2, n_estimators=100, subsample=1.0; total time=   0.5s\n",
      "[CV] END learning_rate=0.3, max_depth=2, n_estimators=100, subsample=1.0; total time=   0.4s\n",
      "[CV] END learning_rate=0.3, max_depth=2, n_estimators=150, subsample=0.9; total time=   0.7s\n",
      "[CV] END learning_rate=0.3, max_depth=2, n_estimators=150, subsample=0.9; total time=   0.6s\n",
      "[CV] END learning_rate=0.3, max_depth=2, n_estimators=150, subsample=0.9; total time=   0.7s\n",
      "[CV] END learning_rate=0.3, max_depth=2, n_estimators=150, subsample=0.7; total time=   0.6s\n",
      "[CV] END learning_rate=0.3, max_depth=2, n_estimators=150, subsample=0.7; total time=   0.6s\n",
      "[CV] END learning_rate=0.3, max_depth=2, n_estimators=150, subsample=0.7; total time=   0.6s\n",
      "[CV] END learning_rate=0.3, max_depth=2, n_estimators=150, subsample=1.0; total time=   0.7s\n",
      "[CV] END learning_rate=0.3, max_depth=2, n_estimators=150, subsample=1.0; total time=   0.7s\n",
      "[CV] END learning_rate=0.3, max_depth=2, n_estimators=150, subsample=1.0; total time=   1.0s\n",
      "[CV] END learning_rate=0.3, max_depth=2, n_estimators=200, subsample=0.9; total time=   1.3s\n",
      "[CV] END learning_rate=0.3, max_depth=2, n_estimators=200, subsample=0.9; total time=   1.3s\n",
      "[CV] END learning_rate=0.3, max_depth=2, n_estimators=200, subsample=0.9; total time=   1.3s\n",
      "[CV] END learning_rate=0.3, max_depth=2, n_estimators=200, subsample=0.7; total time=   1.2s\n",
      "[CV] END learning_rate=0.3, max_depth=2, n_estimators=200, subsample=0.7; total time=   1.0s\n",
      "[CV] END learning_rate=0.3, max_depth=2, n_estimators=200, subsample=0.7; total time=   0.8s\n",
      "[CV] END learning_rate=0.3, max_depth=2, n_estimators=200, subsample=1.0; total time=   0.9s\n",
      "[CV] END learning_rate=0.3, max_depth=2, n_estimators=200, subsample=1.0; total time=   0.9s\n",
      "[CV] END learning_rate=0.3, max_depth=2, n_estimators=200, subsample=1.0; total time=   0.9s\n",
      "[CV] END learning_rate=0.3, max_depth=5, n_estimators=100, subsample=0.9; total time=   1.0s\n",
      "[CV] END learning_rate=0.3, max_depth=5, n_estimators=100, subsample=0.9; total time=   0.9s\n",
      "[CV] END learning_rate=0.3, max_depth=5, n_estimators=100, subsample=0.9; total time=   0.9s\n",
      "[CV] END learning_rate=0.3, max_depth=5, n_estimators=100, subsample=0.7; total time=   0.8s\n",
      "[CV] END learning_rate=0.3, max_depth=5, n_estimators=100, subsample=0.7; total time=   0.8s\n",
      "[CV] END learning_rate=0.3, max_depth=5, n_estimators=100, subsample=0.7; total time=   0.8s\n",
      "[CV] END learning_rate=0.3, max_depth=5, n_estimators=100, subsample=1.0; total time=   1.1s\n",
      "[CV] END learning_rate=0.3, max_depth=5, n_estimators=100, subsample=1.0; total time=   1.4s\n",
      "[CV] END learning_rate=0.3, max_depth=5, n_estimators=100, subsample=1.0; total time=   1.4s\n",
      "[CV] END learning_rate=0.3, max_depth=5, n_estimators=150, subsample=0.9; total time=   2.0s\n",
      "[CV] END learning_rate=0.3, max_depth=5, n_estimators=150, subsample=0.9; total time=   2.0s\n",
      "[CV] END learning_rate=0.3, max_depth=5, n_estimators=150, subsample=0.9; total time=   1.4s\n",
      "[CV] END learning_rate=0.3, max_depth=5, n_estimators=150, subsample=0.7; total time=   1.2s\n",
      "[CV] END learning_rate=0.3, max_depth=5, n_estimators=150, subsample=0.7; total time=   1.2s\n",
      "[CV] END learning_rate=0.3, max_depth=5, n_estimators=150, subsample=0.7; total time=   1.2s\n",
      "[CV] END learning_rate=0.3, max_depth=5, n_estimators=150, subsample=1.0; total time=   1.4s\n",
      "[CV] END learning_rate=0.3, max_depth=5, n_estimators=150, subsample=1.0; total time=   1.4s\n",
      "[CV] END learning_rate=0.3, max_depth=5, n_estimators=150, subsample=1.0; total time=   1.4s\n",
      "[CV] END learning_rate=0.3, max_depth=5, n_estimators=200, subsample=0.9; total time=   2.5s\n",
      "[CV] END learning_rate=0.3, max_depth=5, n_estimators=200, subsample=0.9; total time=   2.7s\n",
      "[CV] END learning_rate=0.3, max_depth=5, n_estimators=200, subsample=0.9; total time=   2.6s\n",
      "[CV] END learning_rate=0.3, max_depth=5, n_estimators=200, subsample=0.7; total time=   1.6s\n",
      "[CV] END learning_rate=0.3, max_depth=5, n_estimators=200, subsample=0.7; total time=   1.6s\n",
      "[CV] END learning_rate=0.3, max_depth=5, n_estimators=200, subsample=0.7; total time=   1.6s\n",
      "[CV] END learning_rate=0.3, max_depth=5, n_estimators=200, subsample=1.0; total time=   1.9s\n",
      "[CV] END learning_rate=0.3, max_depth=5, n_estimators=200, subsample=1.0; total time=   1.9s\n",
      "[CV] END learning_rate=0.3, max_depth=5, n_estimators=200, subsample=1.0; total time=   2.2s\n",
      "[CV] END learning_rate=0.5, max_depth=3, n_estimators=100, subsample=0.9; total time=   0.9s\n",
      "[CV] END learning_rate=0.5, max_depth=3, n_estimators=100, subsample=0.9; total time=   0.9s\n",
      "[CV] END learning_rate=0.5, max_depth=3, n_estimators=100, subsample=0.9; total time=   0.9s\n",
      "[CV] END learning_rate=0.5, max_depth=3, n_estimators=100, subsample=0.7; total time=   0.8s\n",
      "[CV] END learning_rate=0.5, max_depth=3, n_estimators=100, subsample=0.7; total time=   0.8s\n",
      "[CV] END learning_rate=0.5, max_depth=3, n_estimators=100, subsample=0.7; total time=   0.8s\n",
      "[CV] END learning_rate=0.5, max_depth=3, n_estimators=100, subsample=1.0; total time=   0.9s\n",
      "[CV] END learning_rate=0.5, max_depth=3, n_estimators=100, subsample=1.0; total time=   0.6s\n",
      "[CV] END learning_rate=0.5, max_depth=3, n_estimators=100, subsample=1.0; total time=   0.6s\n",
      "[CV] END learning_rate=0.5, max_depth=3, n_estimators=150, subsample=0.9; total time=   0.9s\n",
      "[CV] END learning_rate=0.5, max_depth=3, n_estimators=150, subsample=0.9; total time=   0.9s\n",
      "[CV] END learning_rate=0.5, max_depth=3, n_estimators=150, subsample=0.9; total time=   0.9s\n",
      "[CV] END learning_rate=0.5, max_depth=3, n_estimators=150, subsample=0.7; total time=   0.8s\n",
      "[CV] END learning_rate=0.5, max_depth=3, n_estimators=150, subsample=0.7; total time=   0.8s\n",
      "[CV] END learning_rate=0.5, max_depth=3, n_estimators=150, subsample=0.7; total time=   0.8s\n",
      "[CV] END learning_rate=0.5, max_depth=3, n_estimators=150, subsample=1.0; total time=   0.9s\n",
      "[CV] END learning_rate=0.5, max_depth=3, n_estimators=150, subsample=1.0; total time=   0.9s\n",
      "[CV] END learning_rate=0.5, max_depth=3, n_estimators=150, subsample=1.0; total time=   0.9s\n",
      "[CV] END learning_rate=0.5, max_depth=3, n_estimators=200, subsample=0.9; total time=   1.3s\n",
      "[CV] END learning_rate=0.5, max_depth=3, n_estimators=200, subsample=0.9; total time=   1.7s\n",
      "[CV] END learning_rate=0.5, max_depth=3, n_estimators=200, subsample=0.9; total time=   1.7s\n",
      "[CV] END learning_rate=0.5, max_depth=3, n_estimators=200, subsample=0.7; total time=   1.5s\n",
      "[CV] END learning_rate=0.5, max_depth=3, n_estimators=200, subsample=0.7; total time=   1.5s\n",
      "[CV] END learning_rate=0.5, max_depth=3, n_estimators=200, subsample=0.7; total time=   1.1s\n",
      "[CV] END learning_rate=0.5, max_depth=3, n_estimators=200, subsample=1.0; total time=   1.2s\n",
      "[CV] END learning_rate=0.5, max_depth=3, n_estimators=200, subsample=1.0; total time=   1.2s\n",
      "[CV] END learning_rate=0.5, max_depth=3, n_estimators=200, subsample=1.0; total time=   1.2s\n",
      "[CV] END learning_rate=0.5, max_depth=2, n_estimators=100, subsample=0.9; total time=   0.5s\n",
      "[CV] END learning_rate=0.5, max_depth=2, n_estimators=100, subsample=0.9; total time=   0.4s\n",
      "[CV] END learning_rate=0.5, max_depth=2, n_estimators=100, subsample=0.9; total time=   0.4s\n",
      "[CV] END learning_rate=0.5, max_depth=2, n_estimators=100, subsample=0.7; total time=   0.4s\n",
      "[CV] END learning_rate=0.5, max_depth=2, n_estimators=100, subsample=0.7; total time=   0.4s\n",
      "[CV] END learning_rate=0.5, max_depth=2, n_estimators=100, subsample=0.7; total time=   0.4s\n",
      "[CV] END learning_rate=0.5, max_depth=2, n_estimators=100, subsample=1.0; total time=   0.4s\n",
      "[CV] END learning_rate=0.5, max_depth=2, n_estimators=100, subsample=1.0; total time=   0.4s\n",
      "[CV] END learning_rate=0.5, max_depth=2, n_estimators=100, subsample=1.0; total time=   0.4s\n",
      "[CV] END learning_rate=0.5, max_depth=2, n_estimators=150, subsample=0.9; total time=   0.7s\n",
      "[CV] END learning_rate=0.5, max_depth=2, n_estimators=150, subsample=0.9; total time=   0.7s\n",
      "[CV] END learning_rate=0.5, max_depth=2, n_estimators=150, subsample=0.9; total time=   1.0s\n",
      "[CV] END learning_rate=0.5, max_depth=2, n_estimators=150, subsample=0.7; total time=   0.9s\n",
      "[CV] END learning_rate=0.5, max_depth=2, n_estimators=150, subsample=0.7; total time=   0.9s\n",
      "[CV] END learning_rate=0.5, max_depth=2, n_estimators=150, subsample=0.7; total time=   0.9s\n",
      "[CV] END learning_rate=0.5, max_depth=2, n_estimators=150, subsample=1.0; total time=   1.0s\n",
      "[CV] END learning_rate=0.5, max_depth=2, n_estimators=150, subsample=1.0; total time=   0.9s\n",
      "[CV] END learning_rate=0.5, max_depth=2, n_estimators=150, subsample=1.0; total time=   1.0s\n",
      "[CV] END learning_rate=0.5, max_depth=2, n_estimators=200, subsample=0.9; total time=   1.0s\n",
      "[CV] END learning_rate=0.5, max_depth=2, n_estimators=200, subsample=0.9; total time=   0.9s\n",
      "[CV] END learning_rate=0.5, max_depth=2, n_estimators=200, subsample=0.9; total time=   0.9s\n",
      "[CV] END learning_rate=0.5, max_depth=2, n_estimators=200, subsample=0.7; total time=   0.8s\n",
      "[CV] END learning_rate=0.5, max_depth=2, n_estimators=200, subsample=0.7; total time=   0.8s\n",
      "[CV] END learning_rate=0.5, max_depth=2, n_estimators=200, subsample=0.7; total time=   0.8s\n",
      "[CV] END learning_rate=0.5, max_depth=2, n_estimators=200, subsample=1.0; total time=   0.9s\n",
      "[CV] END learning_rate=0.5, max_depth=2, n_estimators=200, subsample=1.0; total time=   0.9s\n",
      "[CV] END learning_rate=0.5, max_depth=2, n_estimators=200, subsample=1.0; total time=   0.9s\n",
      "[CV] END learning_rate=0.5, max_depth=5, n_estimators=100, subsample=0.9; total time=   0.9s\n",
      "[CV] END learning_rate=0.5, max_depth=5, n_estimators=100, subsample=0.9; total time=   0.9s\n",
      "[CV] END learning_rate=0.5, max_depth=5, n_estimators=100, subsample=0.9; total time=   1.0s\n",
      "[CV] END learning_rate=0.5, max_depth=5, n_estimators=100, subsample=0.7; total time=   1.2s\n",
      "[CV] END learning_rate=0.5, max_depth=5, n_estimators=100, subsample=0.7; total time=   1.2s\n",
      "[CV] END learning_rate=0.5, max_depth=5, n_estimators=100, subsample=0.7; total time=   1.2s\n",
      "[CV] END learning_rate=0.5, max_depth=5, n_estimators=100, subsample=1.0; total time=   1.4s\n",
      "[CV] END learning_rate=0.5, max_depth=5, n_estimators=100, subsample=1.0; total time=   1.4s\n",
      "[CV] END learning_rate=0.5, max_depth=5, n_estimators=100, subsample=1.0; total time=   1.0s\n",
      "[CV] END learning_rate=0.5, max_depth=5, n_estimators=150, subsample=0.9; total time=   1.4s\n",
      "[CV] END learning_rate=0.5, max_depth=5, n_estimators=150, subsample=0.9; total time=   1.4s\n",
      "[CV] END learning_rate=0.5, max_depth=5, n_estimators=150, subsample=0.9; total time=   1.4s\n",
      "[CV] END learning_rate=0.5, max_depth=5, n_estimators=150, subsample=0.7; total time=   1.2s\n",
      "[CV] END learning_rate=0.5, max_depth=5, n_estimators=150, subsample=0.7; total time=   1.2s\n",
      "[CV] END learning_rate=0.5, max_depth=5, n_estimators=150, subsample=0.7; total time=   1.2s\n",
      "[CV] END learning_rate=0.5, max_depth=5, n_estimators=150, subsample=1.0; total time=   1.5s\n",
      "[CV] END learning_rate=0.5, max_depth=5, n_estimators=150, subsample=1.0; total time=   2.1s\n",
      "[CV] END learning_rate=0.5, max_depth=5, n_estimators=150, subsample=1.0; total time=   2.1s\n",
      "[CV] END learning_rate=0.5, max_depth=5, n_estimators=200, subsample=0.9; total time=   2.7s\n",
      "[CV] END learning_rate=0.5, max_depth=5, n_estimators=200, subsample=0.9; total time=   1.8s\n",
      "[CV] END learning_rate=0.5, max_depth=5, n_estimators=200, subsample=0.9; total time=   1.8s\n",
      "[CV] END learning_rate=0.5, max_depth=5, n_estimators=200, subsample=0.7; total time=   1.6s\n",
      "[CV] END learning_rate=0.5, max_depth=5, n_estimators=200, subsample=0.7; total time=   1.6s\n",
      "[CV] END learning_rate=0.5, max_depth=5, n_estimators=200, subsample=0.7; total time=   1.6s\n",
      "[CV] END learning_rate=0.5, max_depth=5, n_estimators=200, subsample=1.0; total time=   2.1s\n",
      "[CV] END learning_rate=0.5, max_depth=5, n_estimators=200, subsample=1.0; total time=   2.8s\n",
      "[CV] END learning_rate=0.5, max_depth=5, n_estimators=200, subsample=1.0; total time=   2.7s\n",
      "[CV] END learning_rate=0.8, max_depth=3, n_estimators=100, subsample=0.9; total time=   0.9s\n",
      "[CV] END learning_rate=0.8, max_depth=3, n_estimators=100, subsample=0.9; total time=   0.6s\n",
      "[CV] END learning_rate=0.8, max_depth=3, n_estimators=100, subsample=0.9; total time=   0.6s\n",
      "[CV] END learning_rate=0.8, max_depth=3, n_estimators=100, subsample=0.7; total time=   0.5s\n",
      "[CV] END learning_rate=0.8, max_depth=3, n_estimators=100, subsample=0.7; total time=   0.5s\n",
      "[CV] END learning_rate=0.8, max_depth=3, n_estimators=100, subsample=0.7; total time=   0.5s\n",
      "[CV] END learning_rate=0.8, max_depth=3, n_estimators=100, subsample=1.0; total time=   0.6s\n",
      "[CV] END learning_rate=0.8, max_depth=3, n_estimators=100, subsample=1.0; total time=   0.6s\n",
      "[CV] END learning_rate=0.8, max_depth=3, n_estimators=100, subsample=1.0; total time=   0.6s\n",
      "[CV] END learning_rate=0.8, max_depth=3, n_estimators=150, subsample=0.9; total time=   0.9s\n",
      "[CV] END learning_rate=0.8, max_depth=3, n_estimators=150, subsample=0.9; total time=   0.9s\n",
      "[CV] END learning_rate=0.8, max_depth=3, n_estimators=150, subsample=0.9; total time=   0.9s\n",
      "[CV] END learning_rate=0.8, max_depth=3, n_estimators=150, subsample=0.7; total time=   0.8s\n",
      "[CV] END learning_rate=0.8, max_depth=3, n_estimators=150, subsample=0.7; total time=   0.8s\n",
      "[CV] END learning_rate=0.8, max_depth=3, n_estimators=150, subsample=0.7; total time=   0.8s\n",
      "[CV] END learning_rate=0.8, max_depth=3, n_estimators=150, subsample=1.0; total time=   1.3s\n",
      "[CV] END learning_rate=0.8, max_depth=3, n_estimators=150, subsample=1.0; total time=   1.3s\n",
      "[CV] END learning_rate=0.8, max_depth=3, n_estimators=150, subsample=1.0; total time=   1.3s\n",
      "[CV] END learning_rate=0.8, max_depth=3, n_estimators=200, subsample=0.9; total time=   1.8s\n",
      "[CV] END learning_rate=0.8, max_depth=3, n_estimators=200, subsample=0.9; total time=   1.6s\n",
      "[CV] END learning_rate=0.8, max_depth=3, n_estimators=200, subsample=0.9; total time=   1.2s\n",
      "[CV] END learning_rate=0.8, max_depth=3, n_estimators=200, subsample=0.7; total time=   1.1s\n",
      "[CV] END learning_rate=0.8, max_depth=3, n_estimators=200, subsample=0.7; total time=   1.0s\n",
      "[CV] END learning_rate=0.8, max_depth=3, n_estimators=200, subsample=0.7; total time=   1.0s\n",
      "[CV] END learning_rate=0.8, max_depth=3, n_estimators=200, subsample=1.0; total time=   1.2s\n",
      "[CV] END learning_rate=0.8, max_depth=3, n_estimators=200, subsample=1.0; total time=   1.2s\n",
      "[CV] END learning_rate=0.8, max_depth=3, n_estimators=200, subsample=1.0; total time=   1.2s\n",
      "[CV] END learning_rate=0.8, max_depth=2, n_estimators=100, subsample=0.9; total time=   0.5s\n",
      "[CV] END learning_rate=0.8, max_depth=2, n_estimators=100, subsample=0.9; total time=   0.4s\n",
      "[CV] END learning_rate=0.8, max_depth=2, n_estimators=100, subsample=0.9; total time=   0.4s\n",
      "[CV] END learning_rate=0.8, max_depth=2, n_estimators=100, subsample=0.7; total time=   0.4s\n",
      "[CV] END learning_rate=0.8, max_depth=2, n_estimators=100, subsample=0.7; total time=   0.6s\n",
      "[CV] END learning_rate=0.8, max_depth=2, n_estimators=100, subsample=0.7; total time=   0.6s\n",
      "[CV] END learning_rate=0.8, max_depth=2, n_estimators=100, subsample=1.0; total time=   0.6s\n",
      "[CV] END learning_rate=0.8, max_depth=2, n_estimators=100, subsample=1.0; total time=   0.6s\n",
      "[CV] END learning_rate=0.8, max_depth=2, n_estimators=100, subsample=1.0; total time=   0.6s\n",
      "[CV] END learning_rate=0.8, max_depth=2, n_estimators=150, subsample=0.9; total time=   1.0s\n",
      "[CV] END learning_rate=0.8, max_depth=2, n_estimators=150, subsample=0.9; total time=   1.0s\n",
      "[CV] END learning_rate=0.8, max_depth=2, n_estimators=150, subsample=0.9; total time=   1.0s\n",
      "[CV] END learning_rate=0.8, max_depth=2, n_estimators=150, subsample=0.7; total time=   0.9s\n",
      "[CV] END learning_rate=0.8, max_depth=2, n_estimators=150, subsample=0.7; total time=   0.6s\n",
      "[CV] END learning_rate=0.8, max_depth=2, n_estimators=150, subsample=0.7; total time=   0.6s\n",
      "[CV] END learning_rate=0.8, max_depth=2, n_estimators=150, subsample=1.0; total time=   0.7s\n",
      "[CV] END learning_rate=0.8, max_depth=2, n_estimators=150, subsample=1.0; total time=   0.6s\n",
      "[CV] END learning_rate=0.8, max_depth=2, n_estimators=150, subsample=1.0; total time=   0.6s\n",
      "[CV] END learning_rate=0.8, max_depth=2, n_estimators=200, subsample=0.9; total time=   0.9s\n",
      "[CV] END learning_rate=0.8, max_depth=2, n_estimators=200, subsample=0.9; total time=   0.9s\n",
      "[CV] END learning_rate=0.8, max_depth=2, n_estimators=200, subsample=0.9; total time=   0.9s\n",
      "[CV] END learning_rate=0.8, max_depth=2, n_estimators=200, subsample=0.7; total time=   0.8s\n",
      "[CV] END learning_rate=0.8, max_depth=2, n_estimators=200, subsample=0.7; total time=   0.8s\n",
      "[CV] END learning_rate=0.8, max_depth=2, n_estimators=200, subsample=0.7; total time=   0.8s\n",
      "[CV] END learning_rate=0.8, max_depth=2, n_estimators=200, subsample=1.0; total time=   0.9s\n",
      "[CV] END learning_rate=0.8, max_depth=2, n_estimators=200, subsample=1.0; total time=   0.9s\n",
      "[CV] END learning_rate=0.8, max_depth=2, n_estimators=200, subsample=1.0; total time=   1.3s\n",
      "[CV] END learning_rate=0.8, max_depth=5, n_estimators=100, subsample=0.9; total time=   1.4s\n",
      "[CV] END learning_rate=0.8, max_depth=5, n_estimators=100, subsample=0.9; total time=   1.3s\n",
      "[CV] END learning_rate=0.8, max_depth=5, n_estimators=100, subsample=0.9; total time=   1.4s\n",
      "[CV] END learning_rate=0.8, max_depth=5, n_estimators=100, subsample=0.7; total time=   1.2s\n",
      "[CV] END learning_rate=0.8, max_depth=5, n_estimators=100, subsample=0.7; total time=   0.8s\n",
      "[CV] END learning_rate=0.8, max_depth=5, n_estimators=100, subsample=0.7; total time=   0.8s\n",
      "[CV] END learning_rate=0.8, max_depth=5, n_estimators=100, subsample=1.0; total time=   1.0s\n",
      "[CV] END learning_rate=0.8, max_depth=5, n_estimators=100, subsample=1.0; total time=   0.9s\n",
      "[CV] END learning_rate=0.8, max_depth=5, n_estimators=100, subsample=1.0; total time=   1.0s\n",
      "[CV] END learning_rate=0.8, max_depth=5, n_estimators=150, subsample=0.9; total time=   1.4s\n",
      "[CV] END learning_rate=0.8, max_depth=5, n_estimators=150, subsample=0.9; total time=   1.4s\n",
      "[CV] END learning_rate=0.8, max_depth=5, n_estimators=150, subsample=0.9; total time=   1.3s\n",
      "[CV] END learning_rate=0.8, max_depth=5, n_estimators=150, subsample=0.7; total time=   1.2s\n",
      "[CV] END learning_rate=0.8, max_depth=5, n_estimators=150, subsample=0.7; total time=   1.6s\n",
      "[CV] END learning_rate=0.8, max_depth=5, n_estimators=150, subsample=0.7; total time=   1.7s\n",
      "[CV] END learning_rate=0.8, max_depth=5, n_estimators=150, subsample=1.0; total time=   2.1s\n",
      "[CV] END learning_rate=0.8, max_depth=5, n_estimators=150, subsample=1.0; total time=   2.0s\n",
      "[CV] END learning_rate=0.8, max_depth=5, n_estimators=150, subsample=1.0; total time=   1.4s\n",
      "[CV] END learning_rate=0.8, max_depth=5, n_estimators=200, subsample=0.9; total time=   1.9s\n",
      "[CV] END learning_rate=0.8, max_depth=5, n_estimators=200, subsample=0.9; total time=   1.8s\n",
      "[CV] END learning_rate=0.8, max_depth=5, n_estimators=200, subsample=0.9; total time=   1.8s\n",
      "[CV] END learning_rate=0.8, max_depth=5, n_estimators=200, subsample=0.7; total time=   1.6s\n",
      "[CV] END learning_rate=0.8, max_depth=5, n_estimators=200, subsample=0.7; total time=   1.7s\n",
      "[CV] END learning_rate=0.8, max_depth=5, n_estimators=200, subsample=0.7; total time=   2.3s\n",
      "[CV] END learning_rate=0.8, max_depth=5, n_estimators=200, subsample=1.0; total time=   2.8s\n",
      "[CV] END learning_rate=0.8, max_depth=5, n_estimators=200, subsample=1.0; total time=   2.3s\n",
      "[CV] END learning_rate=0.8, max_depth=5, n_estimators=200, subsample=1.0; total time=   1.9s\n",
      "Train Score: 0.953, Test Score: 0.912 with: {'learning_rate': 0.3, 'max_depth': 3, 'n_estimators': 100, 'subsample': 0.9}\n",
      "Train Score: 0.953, Test Score: 0.912 with: {'learning_rate': 0.3, 'max_depth': 3, 'n_estimators': 100, 'subsample': 0.7}\n",
      "Train Score: 0.952, Test Score: 0.907 with: {'learning_rate': 0.3, 'max_depth': 3, 'n_estimators': 100, 'subsample': 1.0}\n",
      "Train Score: 0.973, Test Score: 0.928 with: {'learning_rate': 0.3, 'max_depth': 3, 'n_estimators': 150, 'subsample': 0.9}\n",
      "Train Score: 0.975, Test Score: 0.929 with: {'learning_rate': 0.3, 'max_depth': 3, 'n_estimators': 150, 'subsample': 0.7}\n",
      "Train Score: 0.972, Test Score: 0.917 with: {'learning_rate': 0.3, 'max_depth': 3, 'n_estimators': 150, 'subsample': 1.0}\n",
      "Train Score: 0.985, Test Score: 0.934 with: {'learning_rate': 0.3, 'max_depth': 3, 'n_estimators': 200, 'subsample': 0.9}\n",
      "Train Score: 0.986, Test Score: 0.936 with: {'learning_rate': 0.3, 'max_depth': 3, 'n_estimators': 200, 'subsample': 0.7}\n",
      "Train Score: 0.985, Test Score: 0.930 with: {'learning_rate': 0.3, 'max_depth': 3, 'n_estimators': 200, 'subsample': 1.0}\n",
      "Train Score: 0.897, Test Score: 0.870 with: {'learning_rate': 0.3, 'max_depth': 2, 'n_estimators': 100, 'subsample': 0.9}\n",
      "Train Score: 0.894, Test Score: 0.868 with: {'learning_rate': 0.3, 'max_depth': 2, 'n_estimators': 100, 'subsample': 0.7}\n",
      "Train Score: 0.894, Test Score: 0.870 with: {'learning_rate': 0.3, 'max_depth': 2, 'n_estimators': 100, 'subsample': 1.0}\n",
      "Train Score: 0.917, Test Score: 0.884 with: {'learning_rate': 0.3, 'max_depth': 2, 'n_estimators': 150, 'subsample': 0.9}\n",
      "Train Score: 0.915, Test Score: 0.884 with: {'learning_rate': 0.3, 'max_depth': 2, 'n_estimators': 150, 'subsample': 0.7}\n",
      "Train Score: 0.915, Test Score: 0.885 with: {'learning_rate': 0.3, 'max_depth': 2, 'n_estimators': 150, 'subsample': 1.0}\n",
      "Train Score: 0.933, Test Score: 0.895 with: {'learning_rate': 0.3, 'max_depth': 2, 'n_estimators': 200, 'subsample': 0.9}\n",
      "Train Score: 0.934, Test Score: 0.896 with: {'learning_rate': 0.3, 'max_depth': 2, 'n_estimators': 200, 'subsample': 0.7}\n",
      "Train Score: 0.929, Test Score: 0.896 with: {'learning_rate': 0.3, 'max_depth': 2, 'n_estimators': 200, 'subsample': 1.0}\n",
      "Train Score: 0.999, Test Score: 0.949 with: {'learning_rate': 0.3, 'max_depth': 5, 'n_estimators': 100, 'subsample': 0.9}\n",
      "Train Score: 0.999, Test Score: 0.943 with: {'learning_rate': 0.3, 'max_depth': 5, 'n_estimators': 100, 'subsample': 0.7}\n",
      "Train Score: 0.998, Test Score: 0.952 with: {'learning_rate': 0.3, 'max_depth': 5, 'n_estimators': 100, 'subsample': 1.0}\n",
      "Train Score: 1.000, Test Score: 0.954 with: {'learning_rate': 0.3, 'max_depth': 5, 'n_estimators': 150, 'subsample': 0.9}\n",
      "Train Score: 1.000, Test Score: 0.950 with: {'learning_rate': 0.3, 'max_depth': 5, 'n_estimators': 150, 'subsample': 0.7}\n",
      "Train Score: 1.000, Test Score: 0.958 with: {'learning_rate': 0.3, 'max_depth': 5, 'n_estimators': 150, 'subsample': 1.0}\n",
      "Train Score: 1.000, Test Score: 0.957 with: {'learning_rate': 0.3, 'max_depth': 5, 'n_estimators': 200, 'subsample': 0.9}\n",
      "Train Score: 1.000, Test Score: 0.953 with: {'learning_rate': 0.3, 'max_depth': 5, 'n_estimators': 200, 'subsample': 0.7}\n",
      "Train Score: 1.000, Test Score: 0.959 with: {'learning_rate': 0.3, 'max_depth': 5, 'n_estimators': 200, 'subsample': 1.0}\n",
      "Train Score: 0.973, Test Score: 0.923 with: {'learning_rate': 0.5, 'max_depth': 3, 'n_estimators': 100, 'subsample': 0.9}\n",
      "Train Score: 0.974, Test Score: 0.919 with: {'learning_rate': 0.5, 'max_depth': 3, 'n_estimators': 100, 'subsample': 0.7}\n",
      "Train Score: 0.977, Test Score: 0.924 with: {'learning_rate': 0.5, 'max_depth': 3, 'n_estimators': 100, 'subsample': 1.0}\n",
      "Train Score: 0.990, Test Score: 0.931 with: {'learning_rate': 0.5, 'max_depth': 3, 'n_estimators': 150, 'subsample': 0.9}\n",
      "Train Score: 0.990, Test Score: 0.929 with: {'learning_rate': 0.5, 'max_depth': 3, 'n_estimators': 150, 'subsample': 0.7}\n",
      "Train Score: 0.990, Test Score: 0.935 with: {'learning_rate': 0.5, 'max_depth': 3, 'n_estimators': 150, 'subsample': 1.0}\n",
      "Train Score: 0.997, Test Score: 0.941 with: {'learning_rate': 0.5, 'max_depth': 3, 'n_estimators': 200, 'subsample': 0.9}\n",
      "Train Score: 0.997, Test Score: 0.935 with: {'learning_rate': 0.5, 'max_depth': 3, 'n_estimators': 200, 'subsample': 0.7}\n",
      "Train Score: 0.996, Test Score: 0.942 with: {'learning_rate': 0.5, 'max_depth': 3, 'n_estimators': 200, 'subsample': 1.0}\n",
      "Train Score: 0.923, Test Score: 0.889 with: {'learning_rate': 0.5, 'max_depth': 2, 'n_estimators': 100, 'subsample': 0.9}\n",
      "Train Score: 0.918, Test Score: 0.894 with: {'learning_rate': 0.5, 'max_depth': 2, 'n_estimators': 100, 'subsample': 0.7}\n",
      "Train Score: 0.921, Test Score: 0.886 with: {'learning_rate': 0.5, 'max_depth': 2, 'n_estimators': 100, 'subsample': 1.0}\n",
      "Train Score: 0.945, Test Score: 0.903 with: {'learning_rate': 0.5, 'max_depth': 2, 'n_estimators': 150, 'subsample': 0.9}\n",
      "Train Score: 0.939, Test Score: 0.904 with: {'learning_rate': 0.5, 'max_depth': 2, 'n_estimators': 150, 'subsample': 0.7}\n",
      "Train Score: 0.945, Test Score: 0.899 with: {'learning_rate': 0.5, 'max_depth': 2, 'n_estimators': 150, 'subsample': 1.0}\n",
      "Train Score: 0.960, Test Score: 0.915 with: {'learning_rate': 0.5, 'max_depth': 2, 'n_estimators': 200, 'subsample': 0.9}\n",
      "Train Score: 0.955, Test Score: 0.912 with: {'learning_rate': 0.5, 'max_depth': 2, 'n_estimators': 200, 'subsample': 0.7}\n",
      "Train Score: 0.959, Test Score: 0.915 with: {'learning_rate': 0.5, 'max_depth': 2, 'n_estimators': 200, 'subsample': 1.0}\n",
      "Train Score: 1.000, Test Score: 0.952 with: {'learning_rate': 0.5, 'max_depth': 5, 'n_estimators': 100, 'subsample': 0.9}\n",
      "Train Score: 1.000, Test Score: 0.949 with: {'learning_rate': 0.5, 'max_depth': 5, 'n_estimators': 100, 'subsample': 0.7}\n",
      "Train Score: 1.000, Test Score: 0.953 with: {'learning_rate': 0.5, 'max_depth': 5, 'n_estimators': 100, 'subsample': 1.0}\n",
      "Train Score: 1.000, Test Score: 0.958 with: {'learning_rate': 0.5, 'max_depth': 5, 'n_estimators': 150, 'subsample': 0.9}\n",
      "Train Score: 1.000, Test Score: 0.955 with: {'learning_rate': 0.5, 'max_depth': 5, 'n_estimators': 150, 'subsample': 0.7}\n",
      "Train Score: 1.000, Test Score: 0.956 with: {'learning_rate': 0.5, 'max_depth': 5, 'n_estimators': 150, 'subsample': 1.0}\n",
      "Train Score: 1.000, Test Score: 0.961 with: {'learning_rate': 0.5, 'max_depth': 5, 'n_estimators': 200, 'subsample': 0.9}\n",
      "Train Score: 1.000, Test Score: 0.957 with: {'learning_rate': 0.5, 'max_depth': 5, 'n_estimators': 200, 'subsample': 0.7}\n",
      "Train Score: 1.000, Test Score: 0.959 with: {'learning_rate': 0.5, 'max_depth': 5, 'n_estimators': 200, 'subsample': 1.0}\n",
      "Train Score: 0.987, Test Score: 0.928 with: {'learning_rate': 0.8, 'max_depth': 3, 'n_estimators': 100, 'subsample': 0.9}\n",
      "Train Score: 0.987, Test Score: 0.930 with: {'learning_rate': 0.8, 'max_depth': 3, 'n_estimators': 100, 'subsample': 0.7}\n",
      "Train Score: 0.990, Test Score: 0.932 with: {'learning_rate': 0.8, 'max_depth': 3, 'n_estimators': 100, 'subsample': 1.0}\n",
      "Train Score: 0.996, Test Score: 0.938 with: {'learning_rate': 0.8, 'max_depth': 3, 'n_estimators': 150, 'subsample': 0.9}\n",
      "Train Score: 0.997, Test Score: 0.933 with: {'learning_rate': 0.8, 'max_depth': 3, 'n_estimators': 150, 'subsample': 0.7}\n",
      "Train Score: 0.999, Test Score: 0.938 with: {'learning_rate': 0.8, 'max_depth': 3, 'n_estimators': 150, 'subsample': 1.0}\n",
      "Train Score: 0.999, Test Score: 0.942 with: {'learning_rate': 0.8, 'max_depth': 3, 'n_estimators': 200, 'subsample': 0.9}\n",
      "Train Score: 1.000, Test Score: 0.941 with: {'learning_rate': 0.8, 'max_depth': 3, 'n_estimators': 200, 'subsample': 0.7}\n",
      "Train Score: 1.000, Test Score: 0.945 with: {'learning_rate': 0.8, 'max_depth': 3, 'n_estimators': 200, 'subsample': 1.0}\n",
      "Train Score: 0.940, Test Score: 0.901 with: {'learning_rate': 0.8, 'max_depth': 2, 'n_estimators': 100, 'subsample': 0.9}\n",
      "Train Score: 0.926, Test Score: 0.895 with: {'learning_rate': 0.8, 'max_depth': 2, 'n_estimators': 100, 'subsample': 0.7}\n",
      "Train Score: 0.943, Test Score: 0.902 with: {'learning_rate': 0.8, 'max_depth': 2, 'n_estimators': 100, 'subsample': 1.0}\n",
      "Train Score: 0.961, Test Score: 0.916 with: {'learning_rate': 0.8, 'max_depth': 2, 'n_estimators': 150, 'subsample': 0.9}\n",
      "Train Score: 0.944, Test Score: 0.909 with: {'learning_rate': 0.8, 'max_depth': 2, 'n_estimators': 150, 'subsample': 0.7}\n",
      "Train Score: 0.962, Test Score: 0.914 with: {'learning_rate': 0.8, 'max_depth': 2, 'n_estimators': 150, 'subsample': 1.0}\n",
      "Train Score: 0.975, Test Score: 0.923 with: {'learning_rate': 0.8, 'max_depth': 2, 'n_estimators': 200, 'subsample': 0.9}\n",
      "Train Score: 0.953, Test Score: 0.911 with: {'learning_rate': 0.8, 'max_depth': 2, 'n_estimators': 200, 'subsample': 0.7}\n",
      "Train Score: 0.972, Test Score: 0.918 with: {'learning_rate': 0.8, 'max_depth': 2, 'n_estimators': 200, 'subsample': 1.0}\n",
      "Train Score: 1.000, Test Score: 0.947 with: {'learning_rate': 0.8, 'max_depth': 5, 'n_estimators': 100, 'subsample': 0.9}\n",
      "Train Score: 1.000, Test Score: 0.948 with: {'learning_rate': 0.8, 'max_depth': 5, 'n_estimators': 100, 'subsample': 0.7}\n",
      "Train Score: 1.000, Test Score: 0.953 with: {'learning_rate': 0.8, 'max_depth': 5, 'n_estimators': 100, 'subsample': 1.0}\n",
      "Train Score: 1.000, Test Score: 0.951 with: {'learning_rate': 0.8, 'max_depth': 5, 'n_estimators': 150, 'subsample': 0.9}\n",
      "Train Score: 1.000, Test Score: 0.952 with: {'learning_rate': 0.8, 'max_depth': 5, 'n_estimators': 150, 'subsample': 0.7}\n",
      "Train Score: 1.000, Test Score: 0.959 with: {'learning_rate': 0.8, 'max_depth': 5, 'n_estimators': 150, 'subsample': 1.0}\n",
      "Train Score: 1.000, Test Score: 0.955 with: {'learning_rate': 0.8, 'max_depth': 5, 'n_estimators': 200, 'subsample': 0.9}\n",
      "Train Score: 1.000, Test Score: 0.955 with: {'learning_rate': 0.8, 'max_depth': 5, 'n_estimators': 200, 'subsample': 0.7}\n",
      "Train Score: 1.000, Test Score: 0.961 with: {'learning_rate': 0.8, 'max_depth': 5, 'n_estimators': 200, 'subsample': 1.0}\n",
      "Best parameters: {'learning_rate': 0.8, 'max_depth': 5, 'n_estimators': 200, 'subsample': 1.0}\n",
      "Best cross-validation score: 0.961\n"
     ]
    }
   ],
   "source": [
    "from sklearn.model_selection import GridSearchCV\n",
    "from sklearn.ensemble import GradientBoostingClassifier\n",
    "from sklearn.metrics import classification_report\n",
    "\n",
    "# Define the classifier\n",
    "gradient_boosting_clf = GradientBoostingClassifier(random_state=42)\n",
    "\n",
    "# Define the parameter grid\n",
    "param_grid = {\n",
    "    'n_estimators': [100, 150, 200],\n",
    "    'learning_rate': [0.3, 0.5, 0.8],\n",
    "    'max_depth': [3, 2, 5],\n",
    "    'subsample': [0.9, 0.7, 1.0],\n",
    "}\n",
    "\n",
    "# Grid search with more detailed cross-validation steps\n",
    "grid_search = GridSearchCV(\n",
    "    estimator=gradient_boosting_clf,\n",
    "    param_grid=param_grid,\n",
    "    scoring='accuracy',\n",
    "    cv=3, #3-fold cross-validation\n",
    "    verbose=2,\n",
    "    return_train_score=True\n",
    ")\n",
    "\n",
    "# Fit the grid search model\n",
    "grid_search.fit(X_resampled, y_resampled)\n",
    "\n",
    "# Extract best hyperparameters, their corresponding score, and detailed CV results\n",
    "gb_best_params = grid_search.best_params_\n",
    "gb_best_score = grid_search.best_score_\n",
    "cv_results = grid_search.cv_results_\n",
    "\n",
    "# Detailed CV results\n",
    "for mean_train, mean_test, params in zip(cv_results['mean_train_score'], cv_results['mean_test_score'], cv_results['params']):\n",
    "    print(f\"Train Score: {mean_train:.3f}, Test Score: {mean_test:.3f} with: {params}\")\n",
    "\n",
    "# Best model performance\n",
    "print(f\"Best parameters: {gb_best_params}\")\n",
    "print(f\"Best cross-validation score: {gb_best_score:.3f}\")\n"
   ]
  },
  {
   "cell_type": "code",
   "execution_count": 31,
   "metadata": {
    "colab": {
     "base_uri": "https://localhost:8080/",
     "height": 92
    },
    "id": "gnagJ1dlUnsl",
    "outputId": "8f318e51-8637-44c3-cc3f-d773c6034dd2"
   },
   "outputs": [
    {
     "data": {
      "text/html": [
       "<style>#sk-container-id-1 {color: black;background-color: white;}#sk-container-id-1 pre{padding: 0;}#sk-container-id-1 div.sk-toggleable {background-color: white;}#sk-container-id-1 label.sk-toggleable__label {cursor: pointer;display: block;width: 100%;margin-bottom: 0;padding: 0.3em;box-sizing: border-box;text-align: center;}#sk-container-id-1 label.sk-toggleable__label-arrow:before {content: \"▸\";float: left;margin-right: 0.25em;color: #696969;}#sk-container-id-1 label.sk-toggleable__label-arrow:hover:before {color: black;}#sk-container-id-1 div.sk-estimator:hover label.sk-toggleable__label-arrow:before {color: black;}#sk-container-id-1 div.sk-toggleable__content {max-height: 0;max-width: 0;overflow: hidden;text-align: left;background-color: #f0f8ff;}#sk-container-id-1 div.sk-toggleable__content pre {margin: 0.2em;color: black;border-radius: 0.25em;background-color: #f0f8ff;}#sk-container-id-1 input.sk-toggleable__control:checked~div.sk-toggleable__content {max-height: 200px;max-width: 100%;overflow: auto;}#sk-container-id-1 input.sk-toggleable__control:checked~label.sk-toggleable__label-arrow:before {content: \"▾\";}#sk-container-id-1 div.sk-estimator input.sk-toggleable__control:checked~label.sk-toggleable__label {background-color: #d4ebff;}#sk-container-id-1 div.sk-label input.sk-toggleable__control:checked~label.sk-toggleable__label {background-color: #d4ebff;}#sk-container-id-1 input.sk-hidden--visually {border: 0;clip: rect(1px 1px 1px 1px);clip: rect(1px, 1px, 1px, 1px);height: 1px;margin: -1px;overflow: hidden;padding: 0;position: absolute;width: 1px;}#sk-container-id-1 div.sk-estimator {font-family: monospace;background-color: #f0f8ff;border: 1px dotted black;border-radius: 0.25em;box-sizing: border-box;margin-bottom: 0.5em;}#sk-container-id-1 div.sk-estimator:hover {background-color: #d4ebff;}#sk-container-id-1 div.sk-parallel-item::after {content: \"\";width: 100%;border-bottom: 1px solid gray;flex-grow: 1;}#sk-container-id-1 div.sk-label:hover label.sk-toggleable__label {background-color: #d4ebff;}#sk-container-id-1 div.sk-serial::before {content: \"\";position: absolute;border-left: 1px solid gray;box-sizing: border-box;top: 0;bottom: 0;left: 50%;z-index: 0;}#sk-container-id-1 div.sk-serial {display: flex;flex-direction: column;align-items: center;background-color: white;padding-right: 0.2em;padding-left: 0.2em;position: relative;}#sk-container-id-1 div.sk-item {position: relative;z-index: 1;}#sk-container-id-1 div.sk-parallel {display: flex;align-items: stretch;justify-content: center;background-color: white;position: relative;}#sk-container-id-1 div.sk-item::before, #sk-container-id-1 div.sk-parallel-item::before {content: \"\";position: absolute;border-left: 1px solid gray;box-sizing: border-box;top: 0;bottom: 0;left: 50%;z-index: -1;}#sk-container-id-1 div.sk-parallel-item {display: flex;flex-direction: column;z-index: 1;position: relative;background-color: white;}#sk-container-id-1 div.sk-parallel-item:first-child::after {align-self: flex-end;width: 50%;}#sk-container-id-1 div.sk-parallel-item:last-child::after {align-self: flex-start;width: 50%;}#sk-container-id-1 div.sk-parallel-item:only-child::after {width: 0;}#sk-container-id-1 div.sk-dashed-wrapped {border: 1px dashed gray;margin: 0 0.4em 0.5em 0.4em;box-sizing: border-box;padding-bottom: 0.4em;background-color: white;}#sk-container-id-1 div.sk-label label {font-family: monospace;font-weight: bold;display: inline-block;line-height: 1.2em;}#sk-container-id-1 div.sk-label-container {text-align: center;}#sk-container-id-1 div.sk-container {/* jupyter's `normalize.less` sets `[hidden] { display: none; }` but bootstrap.min.css set `[hidden] { display: none !important; }` so we also need the `!important` here to be able to override the default hidden behavior on the sphinx rendered scikit-learn.org. See: https://github.com/scikit-learn/scikit-learn/issues/21755 */display: inline-block !important;position: relative;}#sk-container-id-1 div.sk-text-repr-fallback {display: none;}</style><div id=\"sk-container-id-1\" class=\"sk-top-container\"><div class=\"sk-text-repr-fallback\"><pre>GradientBoostingClassifier(learning_rate=0.3, max_depth=5, n_estimators=200,\n",
       "                           random_state=42)</pre><b>In a Jupyter environment, please rerun this cell to show the HTML representation or trust the notebook. <br />On GitHub, the HTML representation is unable to render, please try loading this page with nbviewer.org.</b></div><div class=\"sk-container\" hidden><div class=\"sk-item\"><div class=\"sk-estimator sk-toggleable\"><input class=\"sk-toggleable__control sk-hidden--visually\" id=\"sk-estimator-id-1\" type=\"checkbox\" checked><label for=\"sk-estimator-id-1\" class=\"sk-toggleable__label sk-toggleable__label-arrow\">GradientBoostingClassifier</label><div class=\"sk-toggleable__content\"><pre>GradientBoostingClassifier(learning_rate=0.3, max_depth=5, n_estimators=200,\n",
       "                           random_state=42)</pre></div></div></div></div></div>"
      ],
      "text/plain": [
       "GradientBoostingClassifier(learning_rate=0.3, max_depth=5, n_estimators=200,\n",
       "                           random_state=42)"
      ]
     },
     "execution_count": 31,
     "metadata": {},
     "output_type": "execute_result"
    }
   ],
   "source": [
    "# Best parameters obtained from the randomized search\n",
    "best_params = {\n",
    "    'learning_rate': 0.3,\n",
    "    'max_depth': 5,\n",
    "    'n_estimators': 200,\n",
    "    'subsample': 1.0\n",
    "}\n",
    "\n",
    "# Initialize the XGBoost classifier with the best parameters\n",
    "gradient_boosting_clf = GradientBoostingClassifier(**best_params, random_state=42)\n",
    "\n",
    "# Fit the model with your training data\n",
    "gradient_boosting_clf.fit(X_resampled, y_resampled)\n"
   ]
  },
  {
   "cell_type": "code",
   "execution_count": 32,
   "metadata": {
    "colab": {
     "base_uri": "https://localhost:8080/",
     "height": 1000
    },
    "id": "fLZat75J0nqs",
    "outputId": "49204583-f01b-4f49-a62a-955d077b20ef"
   },
   "outputs": [
    {
     "name": "stdout",
     "output_type": "stream",
     "text": [
      "Gradient Boosting:\n",
      "-----------------\n",
      "Accuracy: 0.9551\n",
      "Precision: 0.7168\n",
      "Recall: 0.8901\n",
      "F1 Score: 0.7941\n",
      "Confusion Matrix:\n",
      "[[813  32]\n",
      " [ 10  81]]\n",
      "-----------------\n"
     ]
    },
    {
     "data": {
      "image/png": "[encoded data removed]",
      "text/plain": [
       "<Figure size 400x400 with 1 Axes>"
      ]
     },
     "metadata": {},
     "output_type": "display_data"
    },
    {
     "name": "stdout",
     "output_type": "stream",
     "text": [
      "Confusion Matrix:\n",
      "-----------------\n"
     ]
    },
    {
     "data": {
      "image/png": "[encoded data removed]",
      "text/plain": [
       "<Figure size 400x400 with 1 Axes>"
      ]
     },
     "metadata": {},
     "output_type": "display_data"
    },
    {
     "name": "stdout",
     "output_type": "stream",
     "text": [
      "Classification Report:\n",
      "-----------------\n",
      "              precision    recall  f1-score   support\n",
      "\n",
      "           0       0.99      0.96      0.97       845\n",
      "           1       0.72      0.89      0.79        91\n",
      "\n",
      "    accuracy                           0.96       936\n",
      "   macro avg       0.85      0.93      0.88       936\n",
      "weighted avg       0.96      0.96      0.96       936\n",
      "\n"
     ]
    }
   ],
   "source": [
    "from sklearn.metrics import confusion_matrix, roc_curve, roc_auc_score, accuracy_score, precision_score, recall_score, f1_score, classification_report\n",
    "import seaborn as sns\n",
    "import matplotlib.pyplot as plt\n",
    "\n",
    "# Assuming that X_test, y_test, and gradient_boosting_clf are already defined and gradient_boosting_clf has been fitted to the training data\n",
    "\n",
    "# Making predictions on the test dataset\n",
    "y_pred = gradient_boosting_clf.predict(X_test)\n",
    "\n",
    "# Calculate Accuracy, Precision, Recall, and F1 Score\n",
    "accuracy = accuracy_score(y_test, y_pred)\n",
    "precision = precision_score(y_test, y_pred)\n",
    "recall = recall_score(y_test, y_pred)\n",
    "f1 = f1_score(y_test, y_pred)\n",
    "conf_matrix = confusion_matrix(y_test, y_pred)\n",
    "\n",
    "# ROC Curve\n",
    "fpr, tpr, thresholds = roc_curve(y_test, gradient_boosting_clf.predict_proba(X_test)[:, 1])\n",
    "\n",
    "# Classification Report\n",
    "class_report = classification_report(y_test, y_pred)\n",
    "\n",
    "print(\"Gradient Boosting:\")\n",
    "print(\"-----------------\")\n",
    "# Print the results\n",
    "print(f\"Accuracy: {accuracy:.4f}\")\n",
    "print(f\"Precision: {precision:.4f}\")\n",
    "print(f\"Recall: {recall:.4f}\")\n",
    "print(f\"F1 Score: {f1:.4f}\")\n",
    "print(\"Confusion Matrix:\")\n",
    "print(conf_matrix)\n",
    "print(\"-----------------\")\n",
    "# Plot ROC Curve\n",
    "plt.figure(figsize=(4, 4))\n",
    "plt.plot(fpr, tpr, color='darkorange', lw=2, label=f'ROC curve (area = {roc_auc_score(y_test, y_pred):.2f})')\n",
    "plt.plot([0, 1], [0, 1], color='navy', lw=2, linestyle='--')\n",
    "plt.xlim([0.0, 1.0])\n",
    "plt.ylim([0.0, 1.05])\n",
    "plt.xlabel('False Positive Rate')\n",
    "plt.ylabel('True Positive Rate')\n",
    "plt.title('Receiver Operating Characteristic (ROC) Curve')\n",
    "plt.legend(loc=\"lower right\")\n",
    "plt.show()\n",
    "\n",
    "print(\"Confusion Matrix:\")\n",
    "print(\"-----------------\")\n",
    "# Plot Confusion Matrix\n",
    "plt.figure(figsize=(4, 4))\n",
    "sns.heatmap(conf_matrix, annot=True, fmt=\"d\", cmap='Blues', linewidths=2.5, cbar=False)\n",
    "plt.xlabel('Predicted Labels')\n",
    "plt.ylabel('Actual Labels')\n",
    "plt.title('Confusion Matrix')\n",
    "plt.xticks([0.5, 1.5], ['Non-Stroke', 'Stroke'])\n",
    "plt.yticks([0.5, 1.5], ['Non-Stroke', 'Stroke'], va='center')\n",
    "plt.show()\n",
    "\n",
    "# Print Classification Report\n",
    "print(\"Classification Report:\")\n",
    "print(\"-----------------\")\n",
    "print(class_report)\n"
   ]
  },
  {
   "cell_type": "markdown",
   "metadata": {
    "id": "lj1Bm8qeoGqs"
   },
   "source": [
    "Note: After hyper parameter tuning we can see that performance of the model got improved.\n",
    "Accuracy increased from 90.17% to 95.41%\n",
    "\n",
    "Precision: Improved from 49.69% to 70.34%, meaning that after tuning, when the model predicts a stroke, it is more likely to be correct.\n",
    "\n",
    "Recall slightly increased from 89.01% to 91.21%, indicating that the model is able to identify a higher percentage of actual stroke cases.\n",
    "In summary, hyperparameter tuning has resulted in a model that is more accurate and precise.\n",
    "\n",
    "Overall, the hyperparameter tuning has resulted in a more accurate and precise model with a minimal recall trade-off. The high ROC-AUC score suggests that the model has a good measure of separability and can effectively distinguish between the positive and negative classes. The improvement in precision is particularly noteworthy because it suggests a reduction in false positives, which is crucial in medical diagnostics to avoid unnecessary treatments or interventions."
   ]
  }
 ],
 "metadata": {
  "colab": {
   "provenance": []
  },
  "kernelspec": {
   "display_name": "Python 3 (ipykernel)",
   "language": "python",
   "name": "python3"
  },
  "language_info": {
   "codemirror_mode": {
    "name": "ipython",
    "version": 3
   },
   "file_extension": ".py",
   "mimetype": "text/x-python",
   "name": "python",
   "nbconvert_exporter": "python",
   "pygments_lexer": "ipython3",
   "version": "3.11.5"
  }
 },
 "nbformat": 4,
 "nbformat_minor": 1
}
